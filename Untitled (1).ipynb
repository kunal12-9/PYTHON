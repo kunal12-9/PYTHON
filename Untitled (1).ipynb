{
 "cells": [
  {
   "cell_type": "code",
   "execution_count": 1,
   "id": "112b5265-0435-475f-b399-7d42270530b1",
   "metadata": {},
   "outputs": [
    {
     "data": {
      "text/plain": [
       "True"
      ]
     },
     "execution_count": 1,
     "metadata": {},
     "output_type": "execute_result"
    }
   ],
   "source": [
    "\"y\" in \"yash\"\n"
   ]
  },
  {
   "cell_type": "code",
   "execution_count": 3,
   "id": "493de072-a731-4eb9-818d-8f88b0f17a09",
   "metadata": {},
   "outputs": [
    {
     "data": {
      "text/plain": [
       "False"
      ]
     },
     "execution_count": 3,
     "metadata": {},
     "output_type": "execute_result"
    }
   ],
   "source": [
    "\"Y\" in \"yash\""
   ]
  },
  {
   "cell_type": "code",
   "execution_count": 7,
   "id": "3f49e3d5-8623-4574-a878-a08771e0c672",
   "metadata": {},
   "outputs": [
    {
     "data": {
      "text/plain": [
       "False"
      ]
     },
     "execution_count": 7,
     "metadata": {},
     "output_type": "execute_result"
    }
   ],
   "source": [
    "\"y\" not in \"yash\""
   ]
  },
  {
   "cell_type": "code",
   "execution_count": 9,
   "id": "71b2669a-c555-414e-8038-31012bb71647",
   "metadata": {},
   "outputs": [
    {
     "data": {
      "text/plain": [
       "True"
      ]
     },
     "execution_count": 9,
     "metadata": {},
     "output_type": "execute_result"
    }
   ],
   "source": [
    "\"Y\" not in \"yash\""
   ]
  },
  {
   "cell_type": "code",
   "execution_count": 11,
   "id": "2a6ae140-52f7-4cf7-a319-a07fdc33f111",
   "metadata": {},
   "outputs": [
    {
     "data": {
      "text/plain": [
       "True"
      ]
     },
     "execution_count": 11,
     "metadata": {},
     "output_type": "execute_result"
    }
   ],
   "source": [
    "\"as\" in \"yash\""
   ]
  },
  {
   "cell_type": "code",
   "execution_count": 5,
   "id": "dd3abd7e-70ac-4085-b4a0-1f46596fca98",
   "metadata": {},
   "outputs": [
    {
     "name": "stdout",
     "output_type": "stream",
     "text": [
      "hey\n"
     ]
    }
   ],
   "source": [
    "age=18\n",
    "if(age==18):\n",
    "    print(\"hey\")"
   ]
  },
  {
   "cell_type": "code",
   "execution_count": 7,
   "id": "809ee836-8762-4fa5-a4dd-c1143a88d47e",
   "metadata": {},
   "outputs": [
    {
     "name": "stdout",
     "output_type": "stream",
     "text": [
      "age is greather than 18\n"
     ]
    }
   ],
   "source": [
    "age=19\n",
    "if(age==18):\n",
    "    print(\"hey\")\n",
    "else:\n",
    "    print(\"age is greather than 18\")"
   ]
  },
  {
   "cell_type": "code",
   "execution_count": 9,
   "id": "30278528-1314-498a-ba44-c0b446e88afe",
   "metadata": {},
   "outputs": [
    {
     "name": "stdout",
     "output_type": "stream",
     "text": [
      "even\n"
     ]
    }
   ],
   "source": [
    "a=10\n",
    "if(a%2==0):\n",
    "    print(\"even\")\n",
    "else:\n",
    "    print(\"odd\")"
   ]
  },
  {
   "cell_type": "code",
   "execution_count": 21,
   "id": "64d97c83-52ce-4ebf-8e87-359f463a61c8",
   "metadata": {},
   "outputs": [
    {
     "name": "stdout",
     "output_type": "stream",
     "text": [
      "not divide \n"
     ]
    }
   ],
   "source": [
    "a=35\n",
    "if(a%2==0 and a%5==0):\n",
    "    print(\"divied 2 and 5\")\n",
    "else:\n",
    "    print(\"not divide \")"
   ]
  },
  {
   "cell_type": "code",
   "execution_count": 25,
   "id": "a69fa4db-4a94-402f-a294-c64c66525031",
   "metadata": {},
   "outputs": [
    {
     "name": "stdout",
     "output_type": "stream",
     "text": [
      "number is divi by 2\n"
     ]
    }
   ],
   "source": [
    "num=10\n",
    "if(num%2==0):\n",
    "    print(\"number is divi by 2\")\n",
    "elif(num%5==0):\n",
    "    print(\"number is divi by 5\")\n",
    "else:\n",
    "    print(\"not divi 2 and 5\")"
   ]
  },
  {
   "cell_type": "code",
   "execution_count": 29,
   "id": "e816077a-34cd-4a35-8c4e-ac316f613a2b",
   "metadata": {},
   "outputs": [
    {
     "name": "stdout",
     "output_type": "stream",
     "text": [
      "a is min\n"
     ]
    }
   ],
   "source": [
    "a=1\n",
    "b=2\n",
    "c=6\n",
    "if(a<b and a<c):\n",
    "    print(\"a is min\")\n",
    "elif(\"b<a and b<c\"):\n",
    "    print(\"b is min\")\n",
    "else:\n",
    "    print(\" cis min\")"
   ]
  }
 ],
 "metadata": {
  "kernelspec": {
   "display_name": "Python [conda env:base] *",
   "language": "python",
   "name": "conda-base-py"
  },
  "language_info": {
   "codemirror_mode": {
    "name": "ipython",
    "version": 3
   },
   "file_extension": ".py",
   "mimetype": "text/x-python",
   "name": "python",
   "nbconvert_exporter": "python",
   "pygments_lexer": "ipython3",
   "version": "3.12.7"
  }
 },
 "nbformat": 4,
 "nbformat_minor": 5
}
