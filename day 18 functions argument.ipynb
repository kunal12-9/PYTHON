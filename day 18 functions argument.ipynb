{
 "cells": [
  {
   "cell_type": "code",
   "execution_count": 1,
   "id": "d832dd38-92da-4c29-b597-9b41b9f1013e",
   "metadata": {},
   "outputs": [
    {
     "name": "stdout",
     "output_type": "stream",
     "text": [
      "hey 20 19\n"
     ]
    }
   ],
   "source": [
    "def func(x,y):\n",
    "    print(\"hey\",x,y)\n",
    "#keyword argument\n",
    "func(y=19,x=20)"
   ]
  },
  {
   "cell_type": "code",
   "execution_count": 5,
   "id": "e03caf7f-3b38-4ef3-bd60-0ee121ff963e",
   "metadata": {},
   "outputs": [
    {
     "name": "stdout",
     "output_type": "stream",
     "text": [
      "x is: 19 y is: 190\n"
     ]
    }
   ],
   "source": [
    "def func(x,y=\"abc\"):\n",
    "    print(\"x is:\",x,\"y is:\",y)\n",
    "#deafult argument\n",
    "func(x=19,y=190)"
   ]
  },
  {
   "cell_type": "code",
   "execution_count": 9,
   "id": "65786d97-0d69-43f4-9b55-c4267e7c5950",
   "metadata": {},
   "outputs": [
    {
     "name": "stdout",
     "output_type": "stream",
     "text": [
      "()\n",
      "(10, 20)\n",
      "(10, 2, 3, 4, 2)\n"
     ]
    }
   ],
   "source": [
    "#variable argument(touple formet value show)\n",
    "def func(*x):\n",
    "    print(x)\n",
    "\n",
    "func()\n",
    "func(10,20)\n",
    "func(10,2,3,4,2)\n",
    "\n"
   ]
  },
  {
   "cell_type": "code",
   "execution_count": 11,
   "id": "6605c5da-c16b-4899-98d4-1a53b29e6bf9",
   "metadata": {},
   "outputs": [
    {
     "name": "stdout",
     "output_type": "stream",
     "text": [
      "{}\n",
      "{'x': 10, 'y': 20}\n",
      "{'x': 10, 'y': 2, 'z': 4}\n"
     ]
    }
   ],
   "source": [
    "def func(**x):\n",
    "    print(x)\n",
    "\n",
    "func()\n",
    "func(x=10,y=20)\n",
    "func(x=10,y=2,z=4)"
   ]
  },
  {
   "cell_type": "code",
   "execution_count": 14,
   "id": "b2ee3d28-9a4f-4812-8eea-1c97b0076b40",
   "metadata": {},
   "outputs": [
    {
     "name": "stdout",
     "output_type": "stream",
     "text": [
      "<function func at 0x0000015D1834D090> <function func at 0x0000015D1834D090>\n"
     ]
    }
   ],
   "source": [
    "def func():\n",
    "    print(\"hey\")\n",
    "out=func\n",
    "print(func,out)"
   ]
  },
  {
   "cell_type": "code",
   "execution_count": 16,
   "id": "92ff74c0-2bd6-4511-91bc-43c56980b2cc",
   "metadata": {},
   "outputs": [
    {
     "name": "stdout",
     "output_type": "stream",
     "text": [
      "<function func at 0x0000015D1834CEE0> <function func at 0x0000015D1834CEE0>\n",
      "hello user\n"
     ]
    }
   ],
   "source": [
    "def func():\n",
    "    print(\"hello user\")\n",
    "out=func\n",
    "print(func,out)\n",
    "func()"
   ]
  },
  {
   "cell_type": "code",
   "execution_count": 37,
   "id": "78fb0425-e50c-4aab-9363-cc1acb66ec29",
   "metadata": {},
   "outputs": [
    {
     "name": "stdout",
     "output_type": "stream",
     "text": [
      "a= 1499247412048\n",
      "hello user= x = 20 1499247412048\n"
     ]
    }
   ],
   "source": [
    "def func(x):\n",
    "    print(\"hello user= x =\",x,id(x))\n",
    "\n",
    "a=20\n",
    "print(\"a=\",id(a))\n",
    "func(a)"
   ]
  },
  {
   "cell_type": "code",
   "execution_count": 30,
   "id": "fb5dc8ac-0157-4627-a89c-8ac1c8bc1f09",
   "metadata": {},
   "outputs": [
    {
     "name": "stdout",
     "output_type": "stream",
     "text": [
      "before function =a= 1499247413328\n",
      "hello user 60 1499247413328\n",
      "inside function 50 1499247413008\n",
      "after function= a = 1499247413328\n"
     ]
    }
   ],
   "source": [
    "def func(x):\n",
    "    print(\"hello user\",x,id(x))\n",
    "    x=50\n",
    "    print(\"inside function\",x,id(x))\n",
    "\n",
    "a=60\n",
    "print(\"before function =a=\",id(a))\n",
    "func(a)\n",
    "print(\"after function= a =\",id(a))"
   ]
  },
  {
   "cell_type": "code",
   "execution_count": 31,
   "id": "d77312fa-4702-4a87-b41d-fd113969604d",
   "metadata": {},
   "outputs": [
    {
     "name": "stdout",
     "output_type": "stream",
     "text": [
      "before function =x= 1499247413008\n",
      "hello user 50 1499247413008\n",
      "inside function 50 1499247413008\n",
      "after function= x = 1499247413008\n"
     ]
    }
   ],
   "source": [
    "def func(x):\n",
    "    print(\"hello user\",x,id(x))\n",
    "    x=50\n",
    "    print(\"inside function\",x,id(x))\n",
    "\n",
    "x=50\n",
    "print(\"before function =x=\",id(x))\n",
    "func(x)\n",
    "print(\"after function= x =\",id(x))"
   ]
  },
  {
   "cell_type": "code",
   "execution_count": 32,
   "id": "bc482359-4889-44d3-a9fe-7f73100d90d0",
   "metadata": {},
   "outputs": [
    {
     "name": "stdout",
     "output_type": "stream",
     "text": [
      "before function =x= 1499349834176\n",
      "[50, 10] 1499349834176\n",
      "inside function=y [50, 10, 30] 1499349834176\n",
      "after function= x = 1499349834176\n"
     ]
    }
   ],
   "source": [
    "def func(y):\n",
    "    print(y,id(y))\n",
    "    y.append(30)\n",
    "    print(\"inside function=y\",y,id(y))\n",
    "\n",
    "\n",
    "x=[50,10]\n",
    "print(\"before function =x=\",id(x))\n",
    "func(x)\n",
    "print(\"after function= x =\",id(x))"
   ]
  },
  {
   "cell_type": "code",
   "execution_count": 39,
   "id": "0c2e49c8-81a8-4c93-b899-be472e40dc72",
   "metadata": {},
   "outputs": [
    {
     "name": "stdout",
     "output_type": "stream",
     "text": [
      "25\n",
      "out value None\n"
     ]
    }
   ],
   "source": [
    "def func(c,d):\n",
    "    print(c+d)\n",
    "    \n",
    "\n",
    "out=func(10,15)\n",
    "print(\"out value\",out)"
   ]
  },
  {
   "cell_type": "code",
   "execution_count": 40,
   "id": "81917761-46ce-4b14-8603-51aa6cee65d5",
   "metadata": {},
   "outputs": [
    {
     "name": "stdout",
     "output_type": "stream",
     "text": [
      "25\n",
      "out value 200\n"
     ]
    }
   ],
   "source": [
    "def func(c,d):\n",
    "    print(c+d)\n",
    "    return 200\n",
    "\n",
    "out=func(10,15)\n",
    "print(\"out value\",out)"
   ]
  },
  {
   "cell_type": "code",
   "execution_count": 46,
   "id": "e2b59de4-ab8c-4d6c-b83b-0a5b6c538ce0",
   "metadata": {},
   "outputs": [
    {
     "name": "stdout",
     "output_type": "stream",
     "text": [
      "out value 200\n"
     ]
    }
   ],
   "source": [
    "def func(c,d):\n",
    "    \n",
    "    return 200\n",
    "\n",
    "out=func(10,15)\n",
    "print(\"out value\",out)"
   ]
  },
  {
   "cell_type": "code",
   "execution_count": 48,
   "id": "8a15f076-8c4a-4723-8f16-af190f01ceab",
   "metadata": {},
   "outputs": [
    {
     "name": "stdout",
     "output_type": "stream",
     "text": [
      "200\n"
     ]
    }
   ],
   "source": [
    "def shadi(lifafa):\n",
    "    return lifafa+100\n",
    "    print(\"saree\")\n",
    "\n",
    "print(shadi(100))\n",
    "    "
   ]
  },
  {
   "cell_type": "code",
   "execution_count": 49,
   "id": "a84c621f-e489-4a47-9cde-5de06a6bda74",
   "metadata": {},
   "outputs": [
    {
     "name": "stdout",
     "output_type": "stream",
     "text": [
      "30\n"
     ]
    }
   ],
   "source": [
    "def add(x,y):\n",
    "    return x+y\n",
    "\n",
    "print(add(10,20))\n",
    "    "
   ]
  }
 ],
 "metadata": {
  "kernelspec": {
   "display_name": "Python 3 (ipykernel)",
   "language": "python",
   "name": "python3"
  },
  "language_info": {
   "codemirror_mode": {
    "name": "ipython",
    "version": 3
   },
   "file_extension": ".py",
   "mimetype": "text/x-python",
   "name": "python",
   "nbconvert_exporter": "python",
   "pygments_lexer": "ipython3",
   "version": "3.10.11"
  }
 },
 "nbformat": 4,
 "nbformat_minor": 5
}
