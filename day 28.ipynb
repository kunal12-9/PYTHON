{
 "cells": [
  {
   "cell_type": "code",
   "execution_count": 2,
   "id": "52b79bd8-1b5d-4e4f-8d9a-b8ea765e8d11",
   "metadata": {},
   "outputs": [
    {
     "name": "stdout",
     "output_type": "stream",
     "text": [
      "Processing credit card payment of $100.5\n",
      "Processing PayPal payment of $200.75\n",
      "Processing bank transfer payment of $500.0\n"
     ]
    }
   ],
   "source": [
    "# Base class \n",
    "class PaymentMethod:\n",
    "    def process_payment(self, amount):\n",
    "        raise NotImplementedError(\"Subclasses must implement this method\")\n",
    "\n",
    "class CreditCardPayment(PaymentMethod):\n",
    "    def process_payment(self, amount):\n",
    "        print(f\"Processing credit card payment of ${amount}\")\n",
    "\n",
    "class PayPalPayment(PaymentMethod):\n",
    "    def process_payment(self, amount):\n",
    "        print(f\"Processing PayPal payment of ${amount}\")\n",
    "\n",
    "class BankTransferPayment(PaymentMethod):\n",
    "    def process_payment(self, amount):\n",
    "        print(f\"Processing bank transfer payment of ${amount}\")\n",
    "\n",
    "def process_transaction(payment_method, amount):\n",
    "    payment_method.process_payment(amount)\n",
    "\n",
    "if __name__ == \"__main__\":\n",
    "    credit_card = CreditCardPayment()\n",
    "    paypal = PayPalPayment()\n",
    "    bank_transfer = BankTransferPayment()\n",
    "\n",
    "    process_transaction(credit_card, 100.50)\n",
    "    process_transaction(paypal, 200.75)\n",
    "    process_transaction(bank_transfer, 500.00)\n"
   ]
  },
  {
   "cell_type": "code",
   "execution_count": 6,
   "id": "8ff87e52-0942-4770-b6c7-642e25e4623e",
   "metadata": {},
   "outputs": [
    {
     "name": "stdout",
     "output_type": "stream",
     "text": [
      "Full-time employee:\n",
      "Salary: $5000\n",
      "\n",
      "Part-time employee:\n",
      "Salary: $1600\n",
      "\n",
      "Freelancer:\n",
      "Salary: $3000\n"
     ]
    }
   ],
   "source": [
    "# Base class \n",
    "class Employee:\n",
    "    def calculate_salary(self):\n",
    "        raise NotImplementedError(\"Subclasses must implement this method\")\n",
    "\n",
    "class FullTimeEmployee(Employee):\n",
    "    def __init__(self, monthly_salary):\n",
    "        self.monthly_salary = monthly_salary\n",
    "\n",
    "    def calculate_salary(self):\n",
    "        return self.monthly_salary\n",
    "\n",
    "class PartTimeEmployee(Employee):\n",
    "    def __init__(self, hourly_rate, hours_worked):\n",
    "        self.hourly_rate = hourly_rate\n",
    "        self.hours_worked = hours_worked\n",
    "\n",
    "    def calculate_salary(self):\n",
    "        return self.hourly_rate * self.hours_worked\n",
    "\n",
    "class Freelancer(Employee):\n",
    "    def __init__(self, project_rate):\n",
    "        self.project_rate = project_rate\n",
    "\n",
    "    def calculate_salary(self):\n",
    "        return self.project_rate\n",
    "\n",
    "def display_employee_salary(employee):\n",
    "    print(f\"Salary: ${employee.calculate_salary()}\")\n",
    "\n",
    "if __name__ == \"__main__\":\n",
    "    full_time_employee = FullTimeEmployee(monthly_salary=5000)\n",
    "    part_time_employee = PartTimeEmployee(hourly_rate=20, hours_worked=80)\n",
    "    freelancer = Freelancer(project_rate=3000)\n",
    "\n",
    "    print(\"Full-time employee:\")\n",
    "    display_employee_salary(full_time_employee)\n",
    "\n",
    "    print(\"\\nPart-time employee:\")\n",
    "    display_employee_salary(part_time_employee)\n",
    "\n",
    "    print(\"\\nFreelancer:\")\n",
    "    display_employee_salary(freelancer)\n"
   ]
  },
  {
   "cell_type": "code",
   "execution_count": null,
   "id": "444149d2-889d-4d73-ab51-0c64fa4a0a5c",
   "metadata": {},
   "outputs": [],
   "source": []
  }
 ],
 "metadata": {
  "kernelspec": {
   "display_name": "Python 3 (ipykernel)",
   "language": "python",
   "name": "python3"
  },
  "language_info": {
   "codemirror_mode": {
    "name": "ipython",
    "version": 3
   },
   "file_extension": ".py",
   "mimetype": "text/x-python",
   "name": "python",
   "nbconvert_exporter": "python",
   "pygments_lexer": "ipython3",
   "version": "3.10.11"
  }
 },
 "nbformat": 4,
 "nbformat_minor": 5
}
