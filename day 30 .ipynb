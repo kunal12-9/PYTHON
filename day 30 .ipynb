{
 "cells": [
  {
   "cell_type": "code",
   "execution_count": 11,
   "id": "72987e1d",
   "metadata": {},
   "outputs": [],
   "source": [
    "# Introduction to Numpy -----> \n",
    "# Numpy is an open source library that is used for scientific calculations . \n",
    "\n",
    "### Why Numpy is better than List ? \n",
    "# (1). List hetrogenous data type and Numpy homogenous data type .\n",
    "# (2). List take more memory as compare to Numpy . \n",
    "# (3). List take more time execution as compare to Numpy . "
   ]
  },
  {
   "cell_type": "code",
   "execution_count": 29,
   "id": "055e2ac8",
   "metadata": {},
   "outputs": [],
   "source": [
    " #!pip install numpy"
   ]
  },
  {
   "cell_type": "code",
   "execution_count": 13,
   "id": "c0b863b8",
   "metadata": {},
   "outputs": [],
   "source": [
    "import numpy as np "
   ]
  },
  {
   "cell_type": "code",
   "execution_count": 14,
   "id": "25120fec",
   "metadata": {},
   "outputs": [
    {
     "data": {
      "text/plain": [
       "list"
      ]
     },
     "execution_count": 14,
     "metadata": {},
     "output_type": "execute_result"
    }
   ],
   "source": [
    "a = [1,45,90]\n",
    "type(a) "
   ]
  },
  {
   "cell_type": "code",
   "execution_count": 30,
   "id": "1cf75694",
   "metadata": {},
   "outputs": [
    {
     "data": {
      "text/plain": [
       "array([0., 0., 0.])"
      ]
     },
     "execution_count": 30,
     "metadata": {},
     "output_type": "execute_result"
    }
   ],
   "source": [
    "b = np.array(a) \n",
    "b"
   ]
  },
  {
   "cell_type": "code",
   "execution_count": 16,
   "id": "c50adde5",
   "metadata": {},
   "outputs": [
    {
     "data": {
      "text/plain": [
       "numpy.ndarray"
      ]
     },
     "execution_count": 16,
     "metadata": {},
     "output_type": "execute_result"
    }
   ],
   "source": [
    "type(b) "
   ]
  },
  {
   "cell_type": "markdown",
   "id": "3c27758b",
   "metadata": {},
   "source": [
    "# How can we create a user-defiend Array ? "
   ]
  },
  {
   "cell_type": "code",
   "execution_count": 17,
   "id": "a2d03037",
   "metadata": {},
   "outputs": [
    {
     "name": "stdin",
     "output_type": "stream",
     "text": [
      "Enter size: 3\n",
      "Enter number: 1\n",
      "Enter number: 2\n",
      "Enter number: 3\n"
     ]
    },
    {
     "data": {
      "text/plain": [
       "array([1, 2, 3])"
      ]
     },
     "execution_count": 17,
     "metadata": {},
     "output_type": "execute_result"
    }
   ],
   "source": [
    "a = [] \n",
    "size = int(input(\"Enter size:\"))\n",
    "for i in range(size):\n",
    "    val = int(input(\"Enter number:\"))\n",
    "    a.append(val) \n",
    "# print(a) \n",
    "b = np.array(a)\n",
    "b"
   ]
  },
  {
   "cell_type": "code",
   "execution_count": 18,
   "id": "d8de6a27",
   "metadata": {},
   "outputs": [
    {
     "data": {
      "text/plain": [
       "numpy.ndarray"
      ]
     },
     "execution_count": 18,
     "metadata": {},
     "output_type": "execute_result"
    }
   ],
   "source": [
    "type(b) "
   ]
  },
  {
   "cell_type": "markdown",
   "id": "2b733f6c",
   "metadata": {},
   "source": [
    "# How can we check shape , size and dimension of an array ? "
   ]
  },
  {
   "cell_type": "code",
   "execution_count": 19,
   "id": "d310392b",
   "metadata": {},
   "outputs": [
    {
     "data": {
      "text/plain": [
       "array([[1, 2, 3, 0],\n",
       "       [4, 5, 6, 7],\n",
       "       [7, 8, 9, 3]])"
      ]
     },
     "execution_count": 19,
     "metadata": {},
     "output_type": "execute_result"
    }
   ],
   "source": [
    "a = [[1,2,3,0], [4,5,6,7],[7,8,9,3]]\n",
    "b = np.array(a) \n",
    "b"
   ]
  },
  {
   "cell_type": "code",
   "execution_count": null,
   "id": "f000c904-bba1-4f9d-910e-4c431c001770",
   "metadata": {},
   "outputs": [],
   "source": [
    "print(\"Total Shape = \" , b.shape)  ###shape = n(rows) , n(columns) "
   ]
  },
  {
   "cell_type": "code",
   "execution_count": 21,
   "id": "4647de06",
   "metadata": {},
   "outputs": [
    {
     "name": "stdout",
     "output_type": "stream",
     "text": [
      "Total Elements =  12\n"
     ]
    }
   ],
   "source": [
    "print(\"Total Elements = \" , b.size)  ### size = n(rows) * n(columns) "
   ]
  },
  {
   "cell_type": "code",
   "execution_count": 22,
   "id": "d7af134f",
   "metadata": {},
   "outputs": [
    {
     "name": "stdout",
     "output_type": "stream",
     "text": [
      "Total Dimension =  2\n"
     ]
    }
   ],
   "source": [
    "print(\"Total Dimension = \" , b.ndim)  ### ndim stands for n_dimension ---> 2 (x,y)"
   ]
  },
  {
   "cell_type": "code",
   "execution_count": 23,
   "id": "314ff7ba",
   "metadata": {},
   "outputs": [],
   "source": [
    "# Pre-defined functions in Numpy "
   ]
  },
  {
   "cell_type": "code",
   "execution_count": 24,
   "id": "90c88e8d",
   "metadata": {},
   "outputs": [],
   "source": [
    "# (1). zeros() ----> It will return an array in which all the values will be 0 in \n",
    "# either one-dimensional or multi-dimensional . "
   ]
  },
  {
   "cell_type": "code",
   "execution_count": 25,
   "id": "497e0101",
   "metadata": {},
   "outputs": [
    {
     "data": {
      "text/plain": [
       "array([0., 0., 0.])"
      ]
     },
     "execution_count": 25,
     "metadata": {},
     "output_type": "execute_result"
    }
   ],
   "source": [
    "a = np.zeros(3) \n",
    "a"
   ]
  },
  {
   "cell_type": "code",
   "execution_count": 26,
   "id": "dff26684",
   "metadata": {},
   "outputs": [
    {
     "data": {
      "text/plain": [
       "array([[0., 0., 0.],\n",
       "       [0., 0., 0.],\n",
       "       [0., 0., 0.]])"
      ]
     },
     "execution_count": 26,
     "metadata": {},
     "output_type": "execute_result"
    }
   ],
   "source": [
    "b = np.zeros((3,3))\n",
    "b"
   ]
  },
  {
   "cell_type": "code",
   "execution_count": 27,
   "id": "bdb3eab1",
   "metadata": {},
   "outputs": [
    {
     "name": "stdout",
     "output_type": "stream",
     "text": [
      "Total Shape = (3,)\n",
      "Total Elements = 3\n"
     ]
    }
   ],
   "source": [
    "print(\"Total Shape =\", a.shape)\n",
    "print(\"Total Elements =\", a.size)"
   ]
  },
  {
   "cell_type": "code",
   "execution_count": 31,
   "id": "458a6a38",
   "metadata": {},
   "outputs": [
    {
     "name": "stdout",
     "output_type": "stream",
     "text": [
      "Total Shape = (3,)\n",
      "Total Elements = 3\n"
     ]
    }
   ],
   "source": [
    "print(\"Total Shape =\", b.shape)\n",
    "print(\"Total Elements =\", b.size)"
   ]
  }
 ],
 "metadata": {
  "kernelspec": {
   "display_name": "Python 3 (ipykernel)",
   "language": "python",
   "name": "python3"
  },
  "language_info": {
   "codemirror_mode": {
    "name": "ipython",
    "version": 3
   },
   "file_extension": ".py",
   "mimetype": "text/x-python",
   "name": "python",
   "nbconvert_exporter": "python",
   "pygments_lexer": "ipython3",
   "version": "3.10.11"
  }
 },
 "nbformat": 4,
 "nbformat_minor": 5
}
