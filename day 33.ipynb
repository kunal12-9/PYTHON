{
 "cells": [
  {
   "cell_type": "code",
   "execution_count": 46,
   "id": "b6b951a2-57ce-476f-abd3-5149e0de735c",
   "metadata": {},
   "outputs": [],
   "source": [
    "#!pip install pandas"
   ]
  },
  {
   "cell_type": "markdown",
   "id": "cd6dd826-3080-4f5f-8d88-d094eb56d0a3",
   "metadata": {},
   "source": [
    "# Pandas ----> Pandas is an open-source of python that is used for handle data manipu;ations"
   ]
  },
  {
   "cell_type": "code",
   "execution_count": 47,
   "id": "cde898db-c8c8-4a9e-8fd1-f107c49fbf01",
   "metadata": {},
   "outputs": [],
   "source": [
    "import pandas as pd"
   ]
  },
  {
   "cell_type": "code",
   "execution_count": 48,
   "id": "267dce8f-715e-45b1-9bee-6af92d8629c8",
   "metadata": {},
   "outputs": [],
   "source": [
    "# data structure of pandas\n",
    "# (a) seris ---> it is an one dimensional array and it shows only values\n",
    "#(b). data frame ----> it is multi dimensional array  and it contsi s values with coulm name."
   ]
  },
  {
   "cell_type": "markdown",
   "id": "9df4da80-843e-4372-83ef-b2f5ddc81867",
   "metadata": {},
   "source": [
    "# (a) series"
   ]
  },
  {
   "cell_type": "code",
   "execution_count": 49,
   "id": "baf7dba9-93d8-4f82-a38a-d2a3ca3debfd",
   "metadata": {},
   "outputs": [
    {
     "data": {
      "text/plain": [
       "0     1\n",
       "1    45\n",
       "2    78\n",
       "3    90\n",
       "dtype: int64"
      ]
     },
     "execution_count": 49,
     "metadata": {},
     "output_type": "execute_result"
    }
   ],
   "source": [
    "a = pd.Series([1,45,78,90])\n",
    "a"
   ]
  },
  {
   "cell_type": "code",
   "execution_count": 50,
   "id": "207c4a9e-bd0a-49ee-96f9-e3c729e94378",
   "metadata": {},
   "outputs": [
    {
     "data": {
      "text/plain": [
       "pandas.core.series.Series"
      ]
     },
     "execution_count": 50,
     "metadata": {},
     "output_type": "execute_result"
    }
   ],
   "source": [
    "type(a)"
   ]
  },
  {
   "cell_type": "markdown",
   "id": "96cee6a8-5ee6-4225-8224-4402eabe10a8",
   "metadata": {},
   "source": [
    "# (b). data frame"
   ]
  },
  {
   "cell_type": "code",
   "execution_count": 51,
   "id": "50e55491-54e1-4d1a-bf6d-2b10d5838cb9",
   "metadata": {},
   "outputs": [
    {
     "name": "stdout",
     "output_type": "stream",
     "text": [
      "   emp_id      name department   salary\n",
      "0       1    samraj         it    20000\n",
      "1       2     mohit      sales    66000\n",
      "2       3  aniketet      sales   310000\n",
      "3       4  palllavi         it   700000\n",
      "4       5   abhisek         it  1200000\n"
     ]
    }
   ],
   "source": [
    "import pandas as pd  \n",
    "\n",
    "a = {\n",
    "    \"emp_id\": [1, 2, 3, 4, 5],\n",
    "    \"name\": [\"samraj\", \"mohit\", \"aniketet\", \"palllavi\",\"abhisek\"],\n",
    "    \"department\": [\"it\", \"sales\", \"sales\", \"it\", \"it\"],\n",
    "    \"salary\": [20000, 66000, 310000, 700000, 1200000]\n",
    "}\n",
    "\n",
    "df = pd.DataFrame(a)\n",
    "print(df)"
   ]
  }
 ],
 "metadata": {
  "kernelspec": {
   "display_name": "Python 3 (ipykernel)",
   "language": "python",
   "name": "python3"
  },
  "language_info": {
   "codemirror_mode": {
    "name": "ipython",
    "version": 3
   },
   "file_extension": ".py",
   "mimetype": "text/x-python",
   "name": "python",
   "nbconvert_exporter": "python",
   "pygments_lexer": "ipython3",
   "version": "3.10.11"
  }
 },
 "nbformat": 4,
 "nbformat_minor": 5
}
