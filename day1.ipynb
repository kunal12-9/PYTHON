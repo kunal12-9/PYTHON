{
 "cells": [
  {
   "cell_type": "code",
   "execution_count": 1,
   "id": "008732cf-29ff-4d96-aaa9-847f99fcd4df",
   "metadata": {},
   "outputs": [
    {
     "name": "stdout",
     "output_type": "stream",
     "text": [
      "10\n"
     ]
    }
   ],
   "source": [
    "x=\"10\"\n",
    "print(x)"
   ]
  },
  {
   "cell_type": "code",
   "execution_count": 2,
   "id": "d9ffc14d-7c1d-4bf4-9d04-7c64e908b2b4",
   "metadata": {},
   "outputs": [
    {
     "name": "stdout",
     "output_type": "stream",
     "text": [
      "<class 'str'>\n"
     ]
    }
   ],
   "source": [
    "x=\"10\"\n",
    "print(type(x))"
   ]
  },
  {
   "cell_type": "code",
   "execution_count": 3,
   "id": "f1968e99-b9d1-4c4d-95d3-db0ea1ddc54e",
   "metadata": {},
   "outputs": [
    {
     "name": "stdout",
     "output_type": "stream",
     "text": [
      "regex software\n"
     ]
    }
   ],
   "source": [
    "print(\"regex software\")"
   ]
  },
  {
   "cell_type": "code",
   "execution_count": 4,
   "id": "9a9ec612-6755-4879-8d44-be5ab0d0d39e",
   "metadata": {},
   "outputs": [
    {
     "name": "stdout",
     "output_type": "stream",
     "text": [
      "regex software\n"
     ]
    }
   ],
   "source": [
    "print(\"regex\",end=\" \")\n",
    "print(\"software\")"
   ]
  },
  {
   "cell_type": "code",
   "execution_count": 5,
   "id": "55d5ac64-6fd7-4ea5-832e-627daa4cf91e",
   "metadata": {},
   "outputs": [
    {
     "name": "stdout",
     "output_type": "stream",
     "text": [
      "regex\n",
      "software\n"
     ]
    }
   ],
   "source": [
    "print(\"regex\")\n",
    "print(\"software\")"
   ]
  },
  {
   "cell_type": "code",
   "execution_count": 6,
   "id": "09f01674-d20b-4106-bf4c-3a70e2e585e2",
   "metadata": {},
   "outputs": [
    {
     "name": "stdout",
     "output_type": "stream",
     "text": [
      "10\n"
     ]
    }
   ],
   "source": [
    "#kunal is here\n",
    "x=10\n",
    "print(x)"
   ]
  },
  {
   "cell_type": "code",
   "execution_count": 7,
   "id": "2b4feb39-b778-4418-95be-fc4cab58e8f2",
   "metadata": {},
   "outputs": [
    {
     "name": "stdout",
     "output_type": "stream",
     "text": [
      "10\n"
     ]
    }
   ],
   "source": [
    "''' kunal ow are you\n",
    "tum kes ho \n",
    "where are you from\n",
    "'''\n",
    "x=10\n",
    "print(x)\n"
   ]
  },
  {
   "cell_type": "code",
   "execution_count": 8,
   "id": "7962d1cf-6fae-4213-aebf-0c06de38b82c",
   "metadata": {},
   "outputs": [
    {
     "name": "stdout",
     "output_type": "stream",
     "text": [
      "185 kapasan \n",
      "chittorgarh                   \n",
      "rajasthan\n"
     ]
    }
   ],
   "source": [
    "addres=\"\"\"185 kapasan \n",
    "chittorgarh                   \n",
    "rajasthan\"\"\" \n",
    "          \n",
    "print(addres)"
   ]
  },
  {
   "cell_type": "code",
   "execution_count": 9,
   "id": "eca54c17-e73c-4d5f-95d0-5be592d96b41",
   "metadata": {},
   "outputs": [
    {
     "data": {
      "text/plain": [
       "<function print(*args, sep=' ', end='\\n', file=None, flush=False)>"
      ]
     },
     "execution_count": 9,
     "metadata": {},
     "output_type": "execute_result"
    }
   ],
   "source": [
    "#string formating\n",
    "year=2024\n",
    "company=\"regex\"\n",
    "print"
   ]
  },
  {
   "cell_type": "code",
   "execution_count": 22,
   "id": "a4290360-8149-4a31-9ccd-465309397479",
   "metadata": {},
   "outputs": [
    {
     "name": "stdout",
     "output_type": "stream",
     "text": [
      "2024\n"
     ]
    }
   ],
   "source": [
    "a=2024\n",
    "print(a)"
   ]
  },
  {
   "cell_type": "code",
   "execution_count": 28,
   "id": "59322df6-1bda-47c1-a90e-03442be15677",
   "metadata": {},
   "outputs": [
    {
     "name": "stdout",
     "output_type": "stream",
     "text": [
      "year is  2024\n"
     ]
    }
   ],
   "source": [
    "#string formating\n",
    "year=2024\n",
    "company=\"regex\"\n",
    "print(\"year is \",year)"
   ]
  },
  {
   "cell_type": "code",
   "execution_count": 36,
   "id": "6debff91-1315-4d4e-8b71-58058cdefd3a",
   "metadata": {},
   "outputs": [
    {
     "name": "stdout",
     "output_type": "stream",
     "text": [
      "year is 2024 company is regex\n"
     ]
    }
   ],
   "source": [
    "year=2024\n",
    "company=\"regex\"\n",
    "print(\"year is\",year,\"company is\",company)"
   ]
  },
  {
   "cell_type": "code",
   "execution_count": 42,
   "id": "f7060ffa-bd92-4e7c-8e5d-d7eef015382c",
   "metadata": {},
   "outputs": [
    {
     "name": "stdout",
     "output_type": "stream",
     "text": [
      "year is 2024 company is regex\n"
     ]
    }
   ],
   "source": [
    "year=2024\n",
    "company=\"regex\"\n",
    "print(f\"year is {year} company is {company}\")"
   ]
  },
  {
   "cell_type": "code",
   "execution_count": 56,
   "id": "78559c4e-eb2d-49d2-bf32-e0ce6ba37f5c",
   "metadata": {},
   "outputs": [
    {
     "data": {
      "text/plain": [
       "'year is 2024'"
      ]
     },
     "execution_count": 56,
     "metadata": {},
     "output_type": "execute_result"
    }
   ],
   "source": [
    "year=2024\n",
    "company=\"regex\"\n",
    "\"year is {}\" .format (2024)\n"
   ]
  },
  {
   "cell_type": "code",
   "execution_count": 60,
   "id": "9978b973-1525-47ae-9cfb-90a0d316df90",
   "metadata": {},
   "outputs": [
    {
     "data": {
      "text/plain": [
       "'company is regex'"
      ]
     },
     "execution_count": 60,
     "metadata": {},
     "output_type": "execute_result"
    }
   ],
   "source": [
    "year=2024\n",
    "company=\"regex\"\n",
    "\"company is {}\" .format (\"regex\")"
   ]
  }
 ],
 "metadata": {
  "kernelspec": {
   "display_name": "Python [conda env:base] *",
   "language": "python",
   "name": "conda-base-py"
  },
  "language_info": {
   "codemirror_mode": {
    "name": "ipython",
    "version": 3
   },
   "file_extension": ".py",
   "mimetype": "text/x-python",
   "name": "python",
   "nbconvert_exporter": "python",
   "pygments_lexer": "ipython3",
   "version": "3.12.7"
  }
 },
 "nbformat": 4,
 "nbformat_minor": 5
}
