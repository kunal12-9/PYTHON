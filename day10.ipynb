{
 "cells": [
  {
   "cell_type": "code",
   "execution_count": 3,
   "id": "68c27788-55f9-489a-bc05-1feb44cbdd4a",
   "metadata": {},
   "outputs": [
    {
     "name": "stdout",
     "output_type": "stream",
     "text": [
      "[2, 5, 10, 36]\n"
     ]
    }
   ],
   "source": [
    "mylist=[10,2,36,5]\n",
    "mylist.sort()\n",
    "print(mylist)"
   ]
  },
  {
   "cell_type": "code",
   "execution_count": 15,
   "id": "d3fd46a1-16c5-4c10-8909-dcd14563ea7b",
   "metadata": {},
   "outputs": [
    {
     "name": "stdout",
     "output_type": "stream",
     "text": [
      "10\n",
      "2\n",
      "36\n",
      "5\n"
     ]
    }
   ],
   "source": [
    "mylist=[10,2,36,5]\n",
    "for i in range(0,len(mylist)):\n",
    "    print(mylist[i])"
   ]
  },
  {
   "cell_type": "code",
   "execution_count": 25,
   "id": "f90840f8-d446-40cd-9dd5-1d768666aca1",
   "metadata": {},
   "outputs": [
    {
     "name": "stdout",
     "output_type": "stream",
     "text": [
      "[1, 2, 3, 4, 5, 6, 7, 8, 9, 10, 11, 12, 13, 14, 15, 16, 17, 18, 19, 20, 21, 22, 23, 24, 25, 26, 27, 28, 29, 30, 31, 32, 33, 34, 35, 36, 37, 38, 39, 40, 41, 42, 43, 44, 45, 46, 47, 48, 49, 50, 51, 52, 53, 54, 55, 56, 57, 58, 59, 60, 61, 62, 63, 64, 65, 66, 67, 68, 69, 70, 71, 72, 73, 74, 75, 76, 77, 78, 79, 80, 81, 82, 83, 84, 85, 86, 87, 88, 89, 90, 91, 92, 93, 94, 95, 96, 97, 98, 99, 100]\n"
     ]
    }
   ],
   "source": [
    "mylist=[]\n",
    "for i in range(1,101):\n",
    "    mylist.append(i)\n",
    "print(mylist)"
   ]
  },
  {
   "cell_type": "code",
   "execution_count": 33,
   "id": "c8baf574-8649-4a95-98b6-ae350d124718",
   "metadata": {},
   "outputs": [
    {
     "name": "stdin",
     "output_type": "stream",
     "text": [
      "enter the value 2\n"
     ]
    },
    {
     "name": "stdout",
     "output_type": "stream",
     "text": [
      "not matched\n"
     ]
    }
   ],
   "source": [
    "list=[55,66,36]\n",
    "d=0\n",
    "a=int(input(\"enter the value\"))\n",
    "for i in range(1,len(list)):\n",
    "    if(a==list[i]):\n",
    "        d+=1\n",
    "        break\n",
    "if(d==0):\n",
    "    print(\"not matched\")\n",
    "else:\n",
    "    print(\"matched\")\n"
   ]
  },
  {
   "cell_type": "code",
   "execution_count": 37,
   "id": "85580126-e108-460d-bfc8-8919327e4c8e",
   "metadata": {},
   "outputs": [
    {
     "name": "stdout",
     "output_type": "stream",
     "text": [
      "not a prime number\n"
     ]
    }
   ],
   "source": [
    "num=35\n",
    "a=0\n",
    "for i in range(2,num):\n",
    "    if(num%i==0):\n",
    "        print(\"not a prime number\")\n",
    "        a=1\n",
    "        break\n",
    "\n",
    "if(a==0):\n",
    "    print(\"prime number\")"
   ]
  },
  {
   "cell_type": "code",
   "execution_count": 45,
   "id": "4ff07b58-df55-4561-97e4-469b4d254073",
   "metadata": {},
   "outputs": [
    {
     "name": "stdout",
     "output_type": "stream",
     "text": [
      "1\n"
     ]
    }
   ],
   "source": [
    "mylist=[10,20,30,10,40,60,10]\n",
    "count=0\n",
    "a=30\n",
    "for i in range(0,len(mylist)):\n",
    "    if(a==mylist[i]):\n",
    "        count+=1\n",
    "print(count)\n"
   ]
  },
  {
   "cell_type": "code",
   "execution_count": 83,
   "id": "d79667f6-6398-437d-9f2e-f08822203bfc",
   "metadata": {},
   "outputs": [
    {
     "name": "stdout",
     "output_type": "stream",
     "text": [
      "4\n"
     ]
    }
   ],
   "source": [
    "mylist=[10,20,30,10,40,60,10]\n",
    "x=mylist[0]\n",
    "count=1\n",
    "for i in range(0,len(mylist)):\n",
    "    if(x==mylist[i]):\n",
    "        count+=1\n",
    "print(count)\n"
   ]
  },
  {
   "cell_type": "code",
   "execution_count": 97,
   "id": "5f37208f-ccd8-4a00-82c3-91a23c6956ab",
   "metadata": {},
   "outputs": [
    {
     "name": "stdout",
     "output_type": "stream",
     "text": [
      " \n",
      "0\n"
     ]
    }
   ],
   "source": [
    "mylist=[1,20,30,10,40,60,10]\n",
    "count=0\n",
    "for i in range(0,1):\n",
    "    for j in range(i+1, len(mylist)):\n",
    "        if(mylist[i]==mylist[j]):\n",
    "            count=count+1\n",
    "    print(\" \")\n",
    "print(count)\n",
    "    \n",
    "        "
   ]
  },
  {
   "cell_type": "code",
   "execution_count": 101,
   "id": "6e345314-39b8-430b-82c2-5126603fe34d",
   "metadata": {},
   "outputs": [
    {
     "name": "stdout",
     "output_type": "stream",
     "text": [
      "-\n",
      "-\n",
      "-\n",
      "-\n",
      "-\n",
      "2\n"
     ]
    }
   ],
   "source": [
    "mylist=[10,20,30,10,40,60,20]\n",
    "count=0\n",
    "for i in range(0,len(mylist)-2):\n",
    "    for j in range(i+1,len(mylist)):\n",
    "        if(mylist[i]==mylist[j]):\n",
    "            count+=1\n",
    "    print(\"-\")\n",
    "print(count)\n",
    "    "
   ]
  },
  {
   "cell_type": "code",
   "execution_count": null,
   "id": "491a59d1-374d-4502-8196-06541b6b8583",
   "metadata": {},
   "outputs": [],
   "source": [
    "mylist1=[15,1.5,56,36,\"ab\",2.3]\n",
    "mylist=[]\n",
    "for i range(0,len(mylist)-1):\n",
    "    if(mylist"
   ]
  }
 ],
 "metadata": {
  "kernelspec": {
   "display_name": "Python [conda env:base] *",
   "language": "python",
   "name": "conda-base-py"
  },
  "language_info": {
   "codemirror_mode": {
    "name": "ipython",
    "version": 3
   },
   "file_extension": ".py",
   "mimetype": "text/x-python",
   "name": "python",
   "nbconvert_exporter": "python",
   "pygments_lexer": "ipython3",
   "version": "3.12.7"
  }
 },
 "nbformat": 4,
 "nbformat_minor": 5
}
