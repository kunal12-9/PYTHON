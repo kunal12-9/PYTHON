{
 "cells": [
  {
   "cell_type": "code",
   "execution_count": 5,
   "id": "44a29870-e2e6-4371-911d-ec7618498add",
   "metadata": {},
   "outputs": [
    {
     "name": "stdout",
     "output_type": "stream",
     "text": [
      "0 11\n",
      "0 2\n",
      "0 4\n",
      "0 6\n",
      "0 5\n",
      " \n",
      "11 2\n",
      "11 4\n",
      "11 6\n",
      "11 5\n",
      " \n",
      "2 4\n",
      "2 6\n",
      "2 5\n",
      " \n",
      "4 6\n",
      "4 5\n",
      " \n",
      "6 5\n",
      " \n",
      " \n"
     ]
    }
   ],
   "source": [
    "mylist=[0,11,2,4,6,5]\n",
    "for index in range(0,len(mylist)):\n",
    "\n",
    "    for j in range(index+1,len(mylist)):\n",
    "        print(mylist[index], mylist[j])\n",
    "        \n",
    "    print(\" \")"
   ]
  },
  {
   "cell_type": "code",
   "execution_count": 11,
   "id": "2a28fcdc-94a1-4909-9ae3-140d743bca08",
   "metadata": {},
   "outputs": [
    {
     "name": "stdout",
     "output_type": "stream",
     "text": [
      " \n",
      " \n",
      " \n",
      "4 5\n",
      " \n",
      " \n",
      " \n"
     ]
    }
   ],
   "source": [
    "mylist=[0,11,2,4,6,5]\n",
    "target=9\n",
    "for index in range(0,len(mylist)):\n",
    "\n",
    "    for j in range(index+1,len(mylist)):\n",
    "        if(mylist[index] + mylist[j] == target):\n",
    "            print(mylist[index], mylist[j])\n",
    "        \n",
    "    print(\" \")"
   ]
  },
  {
   "cell_type": "code",
   "execution_count": 13,
   "id": "b3f047d5-bae0-450f-9562-f857a342fbd4",
   "metadata": {},
   "outputs": [
    {
     "name": "stdout",
     "output_type": "stream",
     "text": [
      "2 7\n"
     ]
    }
   ],
   "source": [
    "mylist=[0,1,2,4,7,14,28]\n",
    "s=0\n",
    "sp=len(mylist)-1\n",
    "while(s<sp):\n",
    "    if(mylist[s] + mylist[sp] ==target):\n",
    "        print(mylist[s] , mylist[sp])\n",
    "        break\n",
    "    elif(mylist[s] + mylist[sp]>target):\n",
    "        sp-=1\n",
    "    else:\n",
    "        s+=1"
   ]
  },
  {
   "cell_type": "code",
   "execution_count": null,
   "id": "154ca98d-79ab-440a-9319-55d6c07a22d5",
   "metadata": {},
   "outputs": [],
   "source": [
    "data=\"aa\"\n",
    "start=0\n",
    "end=len(a)-1\n",
    "x=0\n",
    "while(start<end):\n",
    "    if(data[start]==data[end]):\n",
    "        print(\"concureent\")\n",
    "        x==\n",
    "        \n",
    "        "
   ]
  },
  {
   "cell_type": "code",
   "execution_count": 25,
   "id": "9ecbdbeb-0df5-4886-8630-82610ad09f23",
   "metadata": {},
   "outputs": [
    {
     "name": "stdout",
     "output_type": "stream",
     "text": [
      "invalid\n"
     ]
    }
   ],
   "source": [
    "openb=False\n",
    "data=\")\"\n",
    "for char in data:\n",
    "    if char==\"(\":\n",
    "      openb =True  \n",
    "    else:\n",
    "       if(char==\")\" and openb==True):\n",
    "          print(\"valid paranthesis\")\n",
    "       else:\n",
    "           print(\"invalid\")"
   ]
  },
  {
   "cell_type": "code",
   "execution_count": 47,
   "id": "887a99fe-ac8a-4eb5-b88f-2c4d774025e0",
   "metadata": {},
   "outputs": [
    {
     "name": "stdout",
     "output_type": "stream",
     "text": [
      "invalid\n"
     ]
    }
   ],
   "source": [
    "openb=False\n",
    "data=\"((\"\n",
    "for char in data:\n",
    "    if char==\"(\":\n",
    "      openb =True  \n",
    "    else:\n",
    "       if(char==\")\" and openb==True):\n",
    "          print(\"valid paranthesis\")\n",
    "       else:\n",
    "           print(\"invalid\")\n",
    "if(openb==True):\n",
    "    print(\"invalid\")\n",
    "else:\n",
    "    print(\"valid\")"
   ]
  },
  {
   "cell_type": "code",
   "execution_count": 65,
   "id": "0dafda69-1dd9-4317-80c0-db942f13c7fc",
   "metadata": {
    "jp-MarkdownHeadingCollapsed": true
   },
   "outputs": [
    {
     "name": "stdout",
     "output_type": "stream",
     "text": [
      "valid\n"
     ]
    }
   ],
   "source": [
    "openb=False\n",
    "x=0\n",
    "data=\"()\"\n",
    "for char in data:\n",
    "    if char==\"(\":\n",
    "      openb =True\n",
    "    elif(openb):\n",
    "        if(char==\")\" and openb==True):\n",
    "         x=1\n",
    "    else:\n",
    "        x=0\n",
    "if(x==0):\n",
    "    print(\"invalid\")\n",
    "else:\n",
    "    print(\"valid\")"
   ]
  },
  {
   "cell_type": "code",
   "execution_count": 69,
   "id": "4e3a4d1e-6ae5-409f-ad86-58020c725626",
   "metadata": {},
   "outputs": [
    {
     "name": "stdout",
     "output_type": "stream",
     "text": [
      "valid\n"
     ]
    }
   ],
   "source": [
    "openb=[]\n",
    "x=0\n",
    "data=\"(())\"\n",
    "for char in data:\n",
    "    if char==\"(\":\n",
    "      openb.append(char)\n",
    "    elif(openb):\n",
    "        if(char==\")\" and \"(\"==openb.pop()):\n",
    "         x=1\n",
    "    else:\n",
    "        x=0\n",
    "if(x==0 or len(openb)>0):\n",
    "    print(\"invalid\")\n",
    "else:\n",
    "    print(\"valid\")"
   ]
  },
  {
   "cell_type": "code",
   "execution_count": null,
   "id": "578f6848-fb49-4eeb-9bbe-512ff17fd991",
   "metadata": {},
   "outputs": [],
   "source": []
  }
 ],
 "metadata": {
  "kernelspec": {
   "display_name": "Python [conda env:base] *",
   "language": "python",
   "name": "conda-base-py"
  },
  "language_info": {
   "codemirror_mode": {
    "name": "ipython",
    "version": 3
   },
   "file_extension": ".py",
   "mimetype": "text/x-python",
   "name": "python",
   "nbconvert_exporter": "python",
   "pygments_lexer": "ipython3",
   "version": "3.12.7"
  }
 },
 "nbformat": 4,
 "nbformat_minor": 5
}
