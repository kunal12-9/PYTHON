{
 "cells": [
  {
   "cell_type": "code",
   "execution_count": 2,
   "id": "e0a9f127-210f-4f6f-8a8e-49f7bcb610a2",
   "metadata": {},
   "outputs": [
    {
     "name": "stdout",
     "output_type": "stream",
     "text": [
      "(10, 20) <class 'tuple'>\n"
     ]
    }
   ],
   "source": [
    "x=10,20,30\n",
    "print(x[0:2], type(x))"
   ]
  },
  {
   "cell_type": "raw",
   "id": "66d7b18c-45c6-497e-9829-1399ec1a3a1b",
   "metadata": {},
   "source": [
    "x=(10,20,30)\n",
    "print(id(x))\n",
    "x=x+(40,50)\n",
    "print(id(x))"
   ]
  },
  {
   "cell_type": "code",
   "execution_count": 9,
   "id": "03930dcb-d401-455b-a0b5-2544c15a853b",
   "metadata": {},
   "outputs": [
    {
     "name": "stdout",
     "output_type": "stream",
     "text": [
      "kunal\n",
      "<class 'dict'>\n"
     ]
    }
   ],
   "source": [
    "userdetail={100:\"kunal\",101:\"aman\"}\n",
    "print(userdetail[100])\n",
    "print(type(userdetail))"
   ]
  },
  {
   "cell_type": "code",
   "execution_count": 10,
   "id": "4d788713-3bc9-49cb-bc8a-2c72f158a366",
   "metadata": {},
   "outputs": [
    {
     "name": "stdout",
     "output_type": "stream",
     "text": [
      "{100: 'yash', 101: 'aman', 102: 'ujjwal'}\n"
     ]
    }
   ],
   "source": [
    "userdetail={100:\"kunal\",101:\"aman\"}\n",
    "#insert\n",
    "userdetail[102]=\"ujjwal\"\n",
    "userdetail[100]=\"yash\" #update\n",
    "print(userdetail)\n"
   ]
  },
  {
   "cell_type": "code",
   "execution_count": 11,
   "id": "3dd04a86-2e77-49b5-8c3e-047204c64ab6",
   "metadata": {},
   "outputs": [
    {
     "name": "stdout",
     "output_type": "stream",
     "text": [
      "{100: 'kunal'}\n"
     ]
    }
   ],
   "source": [
    "userdetail={100:\"kunal\",101:\"aman\"}\n",
    "#deletedata\n",
    "userdetail.pop(101)\n",
    "print(userdetail)\n"
   ]
  },
  {
   "cell_type": "code",
   "execution_count": 12,
   "id": "f6047f83-2979-4563-9f85-1dbbc61c0e3a",
   "metadata": {},
   "outputs": [
    {
     "name": "stdout",
     "output_type": "stream",
     "text": [
      "{100: 'kunal'} aman\n"
     ]
    }
   ],
   "source": [
    "userdetail={100:\"kunal\",101:\"aman\"}\n",
    "#deletedata(pop give a data)\n",
    "out=userdetail.pop(101)\n",
    "print(userdetail,out)\n"
   ]
  },
  {
   "cell_type": "code",
   "execution_count": 14,
   "id": "c6e38ef7-5aa6-4387-b62f-1189b87cc746",
   "metadata": {},
   "outputs": [
    {
     "name": "stdout",
     "output_type": "stream",
     "text": [
      "{100: 'kunal'} (101, 'aman')\n"
     ]
    }
   ],
   "source": [
    "userdetail={100:\"kunal\",101:\"aman\"}\n",
    "\n",
    "out=userdetail.popitem()\n",
    "print(userdetail,out)\n"
   ]
  },
  {
   "cell_type": "code",
   "execution_count": 17,
   "id": "f7690737-933e-47ad-92e1-301ae4fc0b99",
   "metadata": {},
   "outputs": [
    {
     "name": "stdout",
     "output_type": "stream",
     "text": [
      "keys dict_keys([100, 101])\n",
      "values: dict_values(['kunal', 'aman'])\n",
      "keys and value: dict_items([(100, 'kunal'), (101, 'aman')])\n"
     ]
    }
   ],
   "source": [
    "userdetail={100:\"kunal\",101:\"aman\"}\n",
    "print(\"keys\",userdetail.keys())\n",
    "print(\"values:\",userdetail.values())\n",
    "print(\"keys and value:\", userdetail.items())"
   ]
  },
  {
   "cell_type": "code",
   "execution_count": 18,
   "id": "94c7c14f-3bdf-4803-8b22-dd990da845a0",
   "metadata": {},
   "outputs": [
    {
     "name": "stdout",
     "output_type": "stream",
     "text": [
      "{100: 15, 101: 'aman', 107: 'yash'}\n"
     ]
    }
   ],
   "source": [
    "userdetail={100:\"kunal\",101:\"aman\"}\n",
    "\n",
    "userdetail.update({100:15,107:\"yash\"})\n",
    "print(userdetail)"
   ]
  },
  {
   "cell_type": "code",
   "execution_count": 22,
   "id": "c08c0f77-d2a0-4fc8-93e1-004729f3d36a",
   "metadata": {},
   "outputs": [
    {
     "name": "stdout",
     "output_type": "stream",
     "text": [
      "100\n",
      "{'salary': 190}\n"
     ]
    }
   ],
   "source": [
    "mydictonary={\"salary\":100}\n",
    "print(mydictonary[\"salary\"])\n",
    "mydictonary[\"salary\"]= mydictonary[\"salary\"]+90\n",
    "print(mydictonary)"
   ]
  },
  {
   "cell_type": "code",
   "execution_count": 29,
   "id": "7c5b1772-f445-4ae4-b8bc-a3e4fb74573a",
   "metadata": {},
   "outputs": [
    {
     "name": "stdout",
     "output_type": "stream",
     "text": [
      "{10: 1, 12: 1, 14: 1}\n"
     ]
    }
   ],
   "source": [
    "dictonary={}\n",
    "for i in range(10,16):\n",
    "    if(i%2==0):\n",
    "        dictonary[i]=1\n",
    "print(dictonary)"
   ]
  },
  {
   "cell_type": "code",
   "execution_count": 30,
   "id": "cddc66d8-fe0f-45b5-b169-f88e277caa4a",
   "metadata": {},
   "outputs": [
    {
     "name": "stdout",
     "output_type": "stream",
     "text": [
      "{'u': 1, 'a': 1}\n"
     ]
    }
   ],
   "source": [
    "mydictonary={}\n",
    "a=\"kunal\"\n",
    "for i in \"kunal\":\n",
    "    if i in \"a,e,i,o,u\":\n",
    "        mydictonary[i]=1\n",
    "print(mydictonary)"
   ]
  },
  {
   "cell_type": "code",
   "execution_count": 32,
   "id": "d8ab2652-ffd0-44fe-b93a-05a922f3f15a",
   "metadata": {},
   "outputs": [
    {
     "name": "stdout",
     "output_type": "stream",
     "text": [
      "{'sallary': 110}\n"
     ]
    }
   ],
   "source": [
    "x={\"sallary\":100}\n",
    "if(\"sallary\" in x):\n",
    "    x[\"sallary\"]=x[\"sallary\"]+10\n",
    "else:\n",
    "    x[\"sallary\"]=10\n",
    "print(x)"
   ]
  },
  {
   "cell_type": "code",
   "execution_count": 12,
   "id": "9362479e-5e07-4224-a1ef-fdc839703e19",
   "metadata": {},
   "outputs": [
    {
     "ename": "TypeError",
     "evalue": "can only concatenate str (not \"int\") to str",
     "output_type": "error",
     "traceback": [
      "\u001b[1;31m---------------------------------------------------------------------------\u001b[0m",
      "\u001b[1;31mTypeError\u001b[0m                                 Traceback (most recent call last)",
      "Cell \u001b[1;32mIn[12], line 5\u001b[0m\n\u001b[0;32m      3\u001b[0m     \u001b[38;5;28;01mif\u001b[39;00m(i\u001b[38;5;241m==\u001b[39m\u001b[38;5;124m\"\u001b[39m\u001b[38;5;124ma\u001b[39m\u001b[38;5;124m\"\u001b[39m \u001b[38;5;129;01mor\u001b[39;00m i\u001b[38;5;241m==\u001b[39m\u001b[38;5;124m\"\u001b[39m\u001b[38;5;124me\u001b[39m\u001b[38;5;124m\"\u001b[39m \u001b[38;5;129;01mor\u001b[39;00m i\u001b[38;5;241m==\u001b[39m\u001b[38;5;124m\"\u001b[39m\u001b[38;5;124mi\u001b[39m\u001b[38;5;124m\"\u001b[39m \u001b[38;5;129;01mor\u001b[39;00m i\u001b[38;5;241m==\u001b[39m\u001b[38;5;124m\"\u001b[39m\u001b[38;5;124mo\u001b[39m\u001b[38;5;124m\"\u001b[39m \u001b[38;5;129;01mor\u001b[39;00m i\u001b[38;5;241m==\u001b[39m\u001b[38;5;124m\"\u001b[39m\u001b[38;5;124mu\u001b[39m\u001b[38;5;124m\"\u001b[39m):\n\u001b[0;32m      4\u001b[0m         my[i]\u001b[38;5;241m=\u001b[39m\u001b[38;5;241m1\u001b[39m\n\u001b[1;32m----> 5\u001b[0m         i\u001b[38;5;241m=\u001b[39m\u001b[43mi\u001b[49m\u001b[38;5;241;43m+\u001b[39;49m\u001b[38;5;241;43m1\u001b[39;49m\n\u001b[0;32m      6\u001b[0m my\n",
      "\u001b[1;31mTypeError\u001b[0m: can only concatenate str (not \"int\") to str"
     ]
    }
   ],
   "source": [
    "my={}\n",
    "for i in \"heyuuuura\":\n",
    "    if(i==\"a\" or i==\"e\" or i==\"i\" or i==\"o\" or i==\"u\"):\n",
    "        my[i]=1\n",
    "        i=i+1\n",
    "my"
   ]
  },
  {
   "cell_type": "code",
   "execution_count": null,
   "id": "a317098f-2446-4a80-9a86-535b92f72a78",
   "metadata": {},
   "outputs": [],
   "source": []
  }
 ],
 "metadata": {
  "kernelspec": {
   "display_name": "Python 3 (ipykernel)",
   "language": "python",
   "name": "python3"
  },
  "language_info": {
   "codemirror_mode": {
    "name": "ipython",
    "version": 3
   },
   "file_extension": ".py",
   "mimetype": "text/x-python",
   "name": "python",
   "nbconvert_exporter": "python",
   "pygments_lexer": "ipython3",
   "version": "3.10.11"
  }
 },
 "nbformat": 4,
 "nbformat_minor": 5
}
