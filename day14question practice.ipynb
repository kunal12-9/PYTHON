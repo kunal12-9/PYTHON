{
 "cells": [
  {
   "cell_type": "code",
   "execution_count": 5,
   "id": "43feb332-5163-4854-9f5a-c62ce88c03ab",
   "metadata": {},
   "outputs": [
    {
     "name": "stdout",
     "output_type": "stream",
     "text": [
      "{10: 1, 40: 2, 20: 1}\n"
     ]
    }
   ],
   "source": [
    "li=[10,40,20,40]\n",
    "dic={}\n",
    "for i in li:\n",
    "    if i in dic:\n",
    "        dic[i]=dic[i]+1\n",
    "    else:\n",
    "        dic[i]=1\n",
    "print(dic)"
   ]
  },
  {
   "cell_type": "code",
   "execution_count": 9,
   "id": "ae11cc98-e4dd-4fff-8365-f0bf31b5a7e8",
   "metadata": {},
   "outputs": [
    {
     "data": {
      "text/plain": [
       "{10: 0, 40: 1, 20: 2, 30: 3}"
      ]
     },
     "execution_count": 9,
     "metadata": {},
     "output_type": "execute_result"
    }
   ],
   "source": [
    "l1=[10,40,20,30] \n",
    "mydictionary={}\n",
    "for i in range(0,len(l1)):\n",
    "    if(l1[i] in mydictionary):\n",
    "        mydictionary[l1[i]]=mydictionary[l1[i]]=i\n",
    "    else:    \n",
    "         mydictionary[l1[i]]=i\n",
    "mydictionary"
   ]
  },
  {
   "cell_type": "code",
   "execution_count": 13,
   "id": "f19148c1-a518-492a-b5f4-25386f06eaac",
   "metadata": {},
   "outputs": [
    {
     "name": "stdout",
     "output_type": "stream",
     "text": [
      "lcm is 24\n"
     ]
    }
   ],
   "source": [
    "a=3\n",
    "b=8\n",
    "if(a>b):\n",
    "    num=a\n",
    "else:\n",
    "    num=b\n",
    "while(True):\n",
    "    if(num%a==0 and num%b==0):\n",
    "        print(\"lcm is\",num)\n",
    "        break\n",
    "    else:\n",
    "        num=num+1"
   ]
  },
  {
   "cell_type": "code",
   "execution_count": 27,
   "id": "297e1616-152d-408d-b21b-c97afbe2f877",
   "metadata": {},
   "outputs": [
    {
     "name": "stdout",
     "output_type": "stream",
     "text": [
      "198\n"
     ]
    }
   ],
   "source": [
    "dic={\"A\":65, \"B\":66, \"c\":67}\n",
    "k=0\n",
    "for i in dic:\n",
    "    k=k+dic[i]\n",
    "print(k)\n",
    "    "
   ]
  },
  {
   "cell_type": "code",
   "execution_count": 34,
   "id": "1588fcf9-e823-4494-9efa-fc9d3660bd33",
   "metadata": {},
   "outputs": [
    {
     "name": "stdout",
     "output_type": "stream",
     "text": [
      "66\n",
      "65\n",
      "131\n"
     ]
    }
   ],
   "source": [
    "dic={\"A\":65, \"B\":66, \"C\":67}\n",
    "k=0\n",
    "for i in \"BA\":\n",
    "    if i in dic:\n",
    "        print(dic[i])\n",
    "        k=k+dic[i]\n",
    "print(k)"
   ]
  }
 ],
 "metadata": {
  "kernelspec": {
   "display_name": "Python 3 (ipykernel)",
   "language": "python",
   "name": "python3"
  },
  "language_info": {
   "codemirror_mode": {
    "name": "ipython",
    "version": 3
   },
   "file_extension": ".py",
   "mimetype": "text/x-python",
   "name": "python",
   "nbconvert_exporter": "python",
   "pygments_lexer": "ipython3",
   "version": "3.10.11"
  }
 },
 "nbformat": 4,
 "nbformat_minor": 5
}
