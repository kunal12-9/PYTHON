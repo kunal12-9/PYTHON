{
 "cells": [
  {
   "cell_type": "code",
   "execution_count": 10,
   "id": "7fd885e5-e69a-4439-807d-c5b43d61d8e6",
   "metadata": {},
   "outputs": [
    {
     "name": "stdout",
     "output_type": "stream",
     "text": [
      "0 a\n",
      "{'ab': 1, 'ac': 1}\n"
     ]
    }
   ],
   "source": [
    "dic={}\n",
    "data=\"abc\"\n",
    "for i in range(0,1):\n",
    "    print(i,data[i])\n",
    "    for j in range(1,len(a)):\n",
    "        if(data[i]+data[j] not in dic):\n",
    "            dic[data[i]+data[j]]=1\n",
    "print(dic)"
   ]
  },
  {
   "cell_type": "code",
   "execution_count": 27,
   "id": "d75bae3e-5cbb-456d-aac4-46ff5c1dd8fb",
   "metadata": {},
   "outputs": [
    {
     "name": "stdout",
     "output_type": "stream",
     "text": [
      "{'a': 1, 'ab': 1, 'ac': 1, 'b': 1, 'bc': 1, 'c': 1}\n"
     ]
    }
   ],
   "source": [
    "dic={}\n",
    "data=\"abca\"\n",
    "for i in range(0,len(data)):\n",
    "    if(data[i] not in dic):\n",
    "        dic[data[i]]=1\n",
    "        \n",
    "        for j in range(i+1,len(a)):\n",
    "            if(data[i]+data[j] not in dic):\n",
    "                dic[data[i]+data[j]]=1\n",
    "print(dic)"
   ]
  },
  {
   "cell_type": "code",
   "execution_count": 31,
   "id": "68245455-a7a9-4a13-9f91-649b7c8e4fb3",
   "metadata": {},
   "outputs": [
    {
     "name": "stdout",
     "output_type": "stream",
     "text": [
      "{'a': 1, 'ab': 1, 'ac': 1, 'b': 1, 'bc': 1, 'c': 1}\n"
     ]
    }
   ],
   "source": [
    "dic={}\n",
    "data=\"abca\"\n",
    "for i in range(0,len(data)):\n",
    "    if(data[i] not in dic):\n",
    "        dic[data[i]]=1\n",
    "        \n",
    "        for j in range(i+1,len(a)):\n",
    "            if(data[i]+data[j] not in dic):\n",
    "                dic[data[i]+data[j]]=1\n",
    "print(dic)"
   ]
  },
  {
   "cell_type": "code",
   "execution_count": 35,
   "id": "4499a397-ec8b-427d-b4b1-49d46d0a4edb",
   "metadata": {},
   "outputs": [
    {
     "name": "stdout",
     "output_type": "stream",
     "text": [
      "10\n"
     ]
    }
   ],
   "source": [
    "x=10,20\n",
    "print(x[0])"
   ]
  },
  {
   "cell_type": "code",
   "execution_count": 43,
   "id": "e0837974-3e0a-44c4-8772-26bae0700218",
   "metadata": {},
   "outputs": [
    {
     "name": "stdout",
     "output_type": "stream",
     "text": [
      "VIII\n"
     ]
    }
   ],
   "source": [
    "#importent\n",
    "mydic={ 10:\"X\",9:\"IX\",5:\"V\",4:\"IV\",1:\"I\"}\n",
    "n=8\n",
    "romannumber=''\n",
    "for i in mydic.items():\n",
    "    key=i[0]\n",
    "    value=i[1]\n",
    "    while(n>=key):\n",
    "        romannumber= romannumber+value\n",
    "        n=n-key\n",
    "print(romannumber)"
   ]
  },
  {
   "cell_type": "code",
   "execution_count": 44,
   "id": "7694241e-9e0d-4dfa-b443-5cc9e56a69ec",
   "metadata": {},
   "outputs": [
    {
     "name": "stdout",
     "output_type": "stream",
     "text": [
      "IX\n"
     ]
    }
   ],
   "source": [
    "mydic={ 10:\"X\",9:\"IX\",5:\"V\",4:\"IV\",1:\"I\"}\n",
    "n=9\n",
    "romannumber=''\n",
    "for i in mydic:\n",
    "    while(n>=i):\n",
    "        romannumber= romannumber+mydic[i]\n",
    "        n=n-i\n",
    "print(romannumber)"
   ]
  },
  {
   "cell_type": "code",
   "execution_count": null,
   "id": "38a03128-1f74-45b2-945d-da5246d31386",
   "metadata": {},
   "outputs": [],
   "source": []
  }
 ],
 "metadata": {
  "kernelspec": {
   "display_name": "Python 3 (ipykernel)",
   "language": "python",
   "name": "python3"
  },
  "language_info": {
   "codemirror_mode": {
    "name": "ipython",
    "version": 3
   },
   "file_extension": ".py",
   "mimetype": "text/x-python",
   "name": "python",
   "nbconvert_exporter": "python",
   "pygments_lexer": "ipython3",
   "version": "3.10.11"
  }
 },
 "nbformat": 4,
 "nbformat_minor": 5
}
