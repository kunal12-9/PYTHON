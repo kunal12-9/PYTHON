{
 "cells": [
  {
   "cell_type": "code",
   "execution_count": 1,
   "id": "b4d2bdf6-c7d3-4d73-8be4-494a942fa301",
   "metadata": {},
   "outputs": [
    {
     "name": "stdout",
     "output_type": "stream",
     "text": [
      "{40, 10, 20, 30}\n"
     ]
    }
   ],
   "source": [
    "myset={10,20,30,40,10,10}\n",
    "print(myset)"
   ]
  },
  {
   "cell_type": "code",
   "execution_count": 3,
   "id": "e9bb6a26-0ca9-47d1-b066-37b7b3841526",
   "metadata": {},
   "outputs": [
    {
     "name": "stdout",
     "output_type": "stream",
     "text": [
      "{'y', 40, 10, 'hey', 80, 'e', 'h', 30}\n"
     ]
    }
   ],
   "source": [
    "myset={10,20,30,40,10,10}\n",
    "myset.add(80)#insert a eliment\n",
    "myset.add(\"hey\")\n",
    "myset.update(\"hey\")#insert each charecter\n",
    "myset.pop #delete any element randomly\n",
    "myset.remove(20)\n",
    "print(myset)"
   ]
  },
  {
   "cell_type": "code",
   "execution_count": 5,
   "id": "04eb1702-d9ba-4725-82aa-6e4865decb53",
   "metadata": {},
   "outputs": [
    {
     "name": "stdout",
     "output_type": "stream",
     "text": [
      "{40, 10, 'hey', 50, 20, 60, 30}\n",
      "common value {40, 'hey', 30}\n"
     ]
    }
   ],
   "source": [
    "#diffrent diffrent value set oprations\n",
    "myset1={10,20,30,40}\n",
    "myset2={30,40,50,60,\"hey\"}\n",
    "print(myset1.union(myset2)) #its use plus(+) two set value\n",
    "\n",
    "print(\"common value\",myset.intersection(myset2)) #itas use to get commoan value"
   ]
  },
  {
   "cell_type": "code",
   "execution_count": 7,
   "id": "eae346f4-9b4d-4eb1-9edc-56d48d6ca6c9",
   "metadata": {},
   "outputs": [
    {
     "name": "stdout",
     "output_type": "stream",
     "text": [
      "{50, 60, 'hey'}\n"
     ]
    }
   ],
   "source": [
    "myset1={10,20,30,40}\n",
    "myset2={30,40,50,60,\"hey\"}\n",
    "print(myset2.difference(myset1)) #its use to check which element "
   ]
  },
  {
   "cell_type": "code",
   "execution_count": 2,
   "id": "7bbf9463-e1a2-408d-9f5d-3349a8db9860",
   "metadata": {},
   "outputs": [
    {
     "name": "stdout",
     "output_type": "stream",
     "text": [
      "[2, 3, 4, 5, 6]\n"
     ]
    }
   ],
   "source": [
    "#list compherision #set compheirsion\n",
    "\n",
    "#normanl list\n",
    "mylist=[]\n",
    "for i in range(2,7):\n",
    "    mylist.append(i)\n",
    "print(mylist)\n"
   ]
  },
  {
   "cell_type": "code",
   "execution_count": 3,
   "id": "e7ddb836-db60-47dd-a913-5b703bebb1f4",
   "metadata": {},
   "outputs": [
    {
     "data": {
      "text/plain": [
       "[4, 9, 16, 25, 36]"
      ]
     },
     "execution_count": 3,
     "metadata": {},
     "output_type": "execute_result"
    }
   ],
   "source": [
    "#list compheirsion \n",
    "[x**2 for x in range(2,7)]"
   ]
  },
  {
   "cell_type": "code",
   "execution_count": 9,
   "id": "2ef2d1a0-066e-4710-bc6e-a76808b24a1b",
   "metadata": {},
   "outputs": [
    {
     "data": {
      "text/plain": [
       "{4: 1, 9: 1, 16: 1, 25: 1, 36: 1}"
      ]
     },
     "execution_count": 9,
     "metadata": {},
     "output_type": "execute_result"
    }
   ],
   "source": [
    "#dictonary compherision\n",
    "list1=[4, 9, 16, 25, 36]\n",
    "{i:1 for i in list1} "
   ]
  },
  {
   "cell_type": "code",
   "execution_count": 6,
   "id": "83baf290-9f50-4e5b-80c1-c61ac1033125",
   "metadata": {},
   "outputs": [
    {
     "data": {
      "text/plain": [
       "{4, 9, 16, 25, 36}"
      ]
     },
     "execution_count": 6,
     "metadata": {},
     "output_type": "execute_result"
    }
   ],
   "source": [
    "#set compherision\n",
    "list1=[4, 9, 16, 25, 36]\n",
    "{i for i in list1} "
   ]
  },
  {
   "cell_type": "code",
   "execution_count": 12,
   "id": "332224c6-ea33-4ff3-8442-5d3d0d61e234",
   "metadata": {},
   "outputs": [
    {
     "name": "stdout",
     "output_type": "stream",
     "text": [
      "[(1, 1), (1, 2), (1, 3), (1, 4), (2, 1), (2, 2), (2, 3), (2, 4), (3, 1), (3, 2), (3, 3), (3, 4)]\n"
     ]
    }
   ],
   "source": [
    "list=[4,9]\n",
    "mydic=[(i,j) for i in range(1,4) for j in range(1,5)]\n",
    "print(mydic)"
   ]
  },
  {
   "cell_type": "code",
   "execution_count": 20,
   "id": "9e0cd69c-88c8-440f-b0ac-4bdaf415a14f",
   "metadata": {},
   "outputs": [
    {
     "name": "stdout",
     "output_type": "stream",
     "text": [
      "kuanl\n",
      "aman\n"
     ]
    }
   ],
   "source": [
    "dic={10:\"kuanl\",20:\"aman\"}\n",
    "for i in dic.values():\n",
    "    print(i)"
   ]
  },
  {
   "cell_type": "code",
   "execution_count": 23,
   "id": "a0b9b50e-bfce-48e8-8f07-2e06136088e0",
   "metadata": {},
   "outputs": [
    {
     "name": "stdout",
     "output_type": "stream",
     "text": [
      "(10, 'kunal') 10 kunal\n",
      "(20, 'raj') 20 raj\n"
     ]
    }
   ],
   "source": [
    "#first type\n",
    "l1=[(10,\"kunal\"),(20,\"raj\")]\n",
    "for i in l1:\n",
    "    a,name=i\n",
    "    name=i[1]\n",
    "    print(i,a,name)\n"
   ]
  },
  {
   "cell_type": "code",
   "execution_count": 26,
   "id": "89c6ba45-dda3-40ba-a631-51d340f5ef89",
   "metadata": {},
   "outputs": [
    {
     "name": "stdout",
     "output_type": "stream",
     "text": [
      "(10, 'kunal') 20 raj\n",
      "(20, 'raj') 20 raj\n"
     ]
    }
   ],
   "source": [
    "#first type\n",
    "dic={10:\"kunal\",20:\"raj\"}\n",
    "for i in dic.items():\n",
    "    key=i[0]\n",
    "    value=i[1]\n",
    "    print(i,a,name)"
   ]
  },
  {
   "cell_type": "code",
   "execution_count": null,
   "id": "a4bc24b1-43b2-46cb-9112-12679418c482",
   "metadata": {},
   "outputs": [],
   "source": []
  }
 ],
 "metadata": {
  "kernelspec": {
   "display_name": "Python 3 (ipykernel)",
   "language": "python",
   "name": "python3"
  },
  "language_info": {
   "codemirror_mode": {
    "name": "ipython",
    "version": 3
   },
   "file_extension": ".py",
   "mimetype": "text/x-python",
   "name": "python",
   "nbconvert_exporter": "python",
   "pygments_lexer": "ipython3",
   "version": "3.10.11"
  }
 },
 "nbformat": 4,
 "nbformat_minor": 5
}
