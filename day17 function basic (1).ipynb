{
 "cells": [
  {
   "cell_type": "code",
   "execution_count": 13,
   "id": "6e795c2e-597f-448d-be4a-1ad7b76fa4bf",
   "metadata": {},
   "outputs": [
    {
     "name": "stdout",
     "output_type": "stream",
     "text": [
      "hey user\n"
     ]
    }
   ],
   "source": [
    "#user define\n",
    "def msg():#function declare\n",
    "    print(\"hey user\")\n",
    "msg() #function call\n",
    "    "
   ]
  },
  {
   "cell_type": "code",
   "execution_count": 11,
   "id": "491d9878-ab4d-45ed-b647-bc843210f7f2",
   "metadata": {},
   "outputs": [
    {
     "name": "stdout",
     "output_type": "stream",
     "text": [
      "19 hey user\n"
     ]
    }
   ],
   "source": [
    "#1.local variable\n",
    "def msg():\n",
    "    c=19 \n",
    "    print(c,\"hey user\")\n",
    "msg() #function call\n",
    "    "
   ]
  },
  {
   "cell_type": "code",
   "execution_count": 12,
   "id": "7e04f52a-1990-4755-a16e-ede5fd3cca66",
   "metadata": {},
   "outputs": [
    {
     "name": "stdout",
     "output_type": "stream",
     "text": [
      "19 hey user 17\n"
     ]
    }
   ],
   "source": [
    "#2.global variable\n",
    "y=17\n",
    "def msg():\n",
    "    c=19 \n",
    "    print(c,\"hey user\",y)\n",
    "msg() #function call"
   ]
  },
  {
   "cell_type": "code",
   "execution_count": 18,
   "id": "c62b57c2-3e30-4b4b-b69b-156bef3e02d3",
   "metadata": {},
   "outputs": [
    {
     "name": "stdout",
     "output_type": "stream",
     "text": [
      "5 hey user\n",
      "1990 hey user\n"
     ]
    }
   ],
   "source": [
    "def msg(c):#c is parametr\n",
    "   print(c,\"hey user\")\n",
    "msg(5) \n",
    "msg(1990)"
   ]
  },
  {
   "cell_type": "code",
   "execution_count": 20,
   "id": "854e579e-88c9-4ded-afdd-e5f26b6cfc6a",
   "metadata": {},
   "outputs": [
    {
     "name": "stdout",
     "output_type": "stream",
     "text": [
      "5 15 hey user\n"
     ]
    }
   ],
   "source": [
    "def msg(c,d):#c is parametr\n",
    "   print(c,d,\"hey user\")\n",
    "msg(5,15) "
   ]
  },
  {
   "cell_type": "code",
   "execution_count": 21,
   "id": "4242584c-e245-4336-b972-6ebb98c8a603",
   "metadata": {},
   "outputs": [
    {
     "name": "stdout",
     "output_type": "stream",
     "text": [
      "5 15 hey user\n",
      "15 5 hey user\n"
     ]
    }
   ],
   "source": [
    "def msg(c,d):#c is parametr\n",
    "   print(c,d,\"hey user\")\n",
    "msg(5,15) \n",
    "msg(15,5)"
   ]
  },
  {
   "cell_type": "code",
   "execution_count": 22,
   "id": "08562b1f-8d71-4b17-8427-3e717e5d0aae",
   "metadata": {},
   "outputs": [
    {
     "name": "stdout",
     "output_type": "stream",
     "text": [
      "5 15 hey user\n",
      "15 5 hey user\n"
     ]
    }
   ],
   "source": [
    "def msg(c,d):#c is parametr\n",
    "   print(c,d,\"hey user\")\n",
    "msg(5,15) \n",
    "def msg(c,d):#c is parametr\n",
    "   print(c,d,\"hey user\")\n",
    "msg(15,5) \n",
    "\n"
   ]
  },
  {
   "cell_type": "code",
   "execution_count": 27,
   "id": "76dd6707-3007-464a-be34-cd87f6a92fcc",
   "metadata": {},
   "outputs": [
    {
     "name": "stdout",
     "output_type": "stream",
     "text": [
      "odd\n"
     ]
    }
   ],
   "source": [
    "def func():\n",
    "    a=11\n",
    "    if (a%2==0):\n",
    "        print(\"even\")\n",
    "    else:\n",
    "        print(\"odd\")\n",
    "func()"
   ]
  },
  {
   "cell_type": "code",
   "execution_count": 28,
   "id": "e4e12a6e-d915-463e-b3a0-f1857a9a3f3d",
   "metadata": {},
   "outputs": [
    {
     "name": "stdout",
     "output_type": "stream",
     "text": [
      "odd\n"
     ]
    }
   ],
   "source": [
    "def func(a):\n",
    "    a=11\n",
    "    if (a%2==0):\n",
    "        print(\"even\")\n",
    "    else:\n",
    "        print(\"odd\")\n",
    "func(11)"
   ]
  },
  {
   "cell_type": "code",
   "execution_count": null,
   "id": "5b36e5d9-03fb-4f97-8760-08683f79ef23",
   "metadata": {},
   "outputs": [],
   "source": []
  },
  {
   "cell_type": "code",
   "execution_count": 2,
   "id": "09f924b2-99cd-46ff-aee1-a3c5a650a78b",
   "metadata": {},
   "outputs": [
    {
     "name": "stdout",
     "output_type": "stream",
     "text": [
      "\n",
      "5\n",
      "54\n",
      "543\n",
      "5432\n"
     ]
    }
   ],
   "source": [
    "#normal pattern\n",
    "for i in range(5,0,-1):\n",
    "        for j in range(5,i,-1):\n",
    "                print(j,end=\"\")\n",
    "        print(\"\")"
   ]
  },
  {
   "cell_type": "code",
   "execution_count": 3,
   "id": "027a175d-d062-420b-8925-5af5da793c8e",
   "metadata": {},
   "outputs": [
    {
     "name": "stdin",
     "output_type": "stream",
     "text": [
      "enter number 6\n"
     ]
    },
    {
     "name": "stdout",
     "output_type": "stream",
     "text": [
      "12345\n",
      "2345\n",
      "345\n",
      "45\n",
      "5\n"
     ]
    }
   ],
   "source": [
    "#pattern by function \n",
    "def func(a):\n",
    "    for i in range(1,a):\n",
    "        for j in range(i,a):\n",
    "                print(j,end=\"\")\n",
    "        print(\"\")\n",
    "        \n",
    "a=int(input(\"enter number\"))\n",
    "func(a)"
   ]
  },
  {
   "cell_type": "code",
   "execution_count": 38,
   "id": "e9686dda-07ab-420b-b0df-9dad29fd5cae",
   "metadata": {},
   "outputs": [
    {
     "name": "stdin",
     "output_type": "stream",
     "text": [
      "enter number 8\n"
     ]
    },
    {
     "name": "stdout",
     "output_type": "stream",
     "text": [
      "1\n",
      "2\n",
      "4\n"
     ]
    }
   ],
   "source": [
    "def func(a):\n",
    "    for i in range(1,a):\n",
    "        if(a%i==0):\n",
    "            print(i)\n",
    "a=int(input(\"enter number\"))\n",
    "func(a)"
   ]
  },
  {
   "cell_type": "code",
   "execution_count": 1,
   "id": "9e92ab66-b252-4edc-8a3e-d30f31a788cc",
   "metadata": {},
   "outputs": [
    {
     "name": "stdin",
     "output_type": "stream",
     "text": [
      "enter the string kun\n"
     ]
    },
    {
     "name": "stdout",
     "output_type": "stream",
     "text": [
      "not more then 10\n"
     ]
    }
   ],
   "source": [
    "a=input(\"enter the string\")\n",
    "c=0\n",
    "for i in a:\n",
    "    c+=1\n",
    "if(c>10):\n",
    "    print(\"more then 10\")\n",
    "else:\n",
    "    print(\"not more then 10\")"
   ]
  },
  {
   "cell_type": "code",
   "execution_count": 46,
   "id": "8af709e2-0c7d-4aca-9584-abe27f937c3e",
   "metadata": {},
   "outputs": [
    {
     "name": "stdin",
     "output_type": "stream",
     "text": [
      "enter the string kunal\n"
     ]
    },
    {
     "name": "stdout",
     "output_type": "stream",
     "text": [
      "not more than 10\n"
     ]
    }
   ],
   "source": [
    "def func(a):\n",
    "    c=0\n",
    "    for i in a:\n",
    "        c+=1\n",
    "    if(c>10):\n",
    "        print(\"more then 10\")\n",
    "    else:\n",
    "        print(\"not more than 10\")\n",
    "a=input(\"enter the string\")\n",
    "func(a)"
   ]
  }
 ],
 "metadata": {
  "kernelspec": {
   "display_name": "Python 3 (ipykernel)",
   "language": "python",
   "name": "python3"
  },
  "language_info": {
   "codemirror_mode": {
    "name": "ipython",
    "version": 3
   },
   "file_extension": ".py",
   "mimetype": "text/x-python",
   "name": "python",
   "nbconvert_exporter": "python",
   "pygments_lexer": "ipython3",
   "version": "3.10.11"
  }
 },
 "nbformat": 4,
 "nbformat_minor": 5
}
