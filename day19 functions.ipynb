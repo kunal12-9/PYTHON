{
 "cells": [
  {
   "cell_type": "code",
   "execution_count": 7,
   "id": "8e5d61e1-704f-4569-8095-b351ae0cef54",
   "metadata": {},
   "outputs": [
    {
     "name": "stdout",
     "output_type": "stream",
     "text": [
      "hey this is function outer\n"
     ]
    }
   ],
   "source": [
    "#first class function\n",
    "def outer_func():\n",
    "    print(\"hey this is function outer\")\n",
    "    \n",
    "x= outer_func\n",
    "outer_func()\n"
   ]
  },
  {
   "cell_type": "code",
   "execution_count": 8,
   "id": "55401272-04f8-4efa-a694-5a2f2cdffa27",
   "metadata": {},
   "outputs": [
    {
     "name": "stdout",
     "output_type": "stream",
     "text": [
      "hey this is function outer\n",
      "this is test function x= None\n"
     ]
    }
   ],
   "source": [
    "def outer_func():\n",
    "    print(\"hey this is function outer\")\n",
    "    \n",
    "def  test(x):\n",
    "    print(\"this is test function x=\",x)\n",
    "    \n",
    "test(outer_func())\n"
   ]
  },
  {
   "cell_type": "code",
   "execution_count": 12,
   "id": "58376269-e136-43cc-9d6b-a48515ad6282",
   "metadata": {},
   "outputs": [
    {
     "name": "stdout",
     "output_type": "stream",
     "text": [
      "this is test function x= 100\n"
     ]
    }
   ],
   "source": [
    "def outer_func():\n",
    "    return 100\n",
    "def  test(x):\n",
    "    print(\"this is test function x=\",x)\n",
    "    \n",
    "test(outer_func())\n"
   ]
  },
  {
   "cell_type": "code",
   "execution_count": 14,
   "id": "bdd5831c-8457-41ad-8946-f1143ddd9e1f",
   "metadata": {},
   "outputs": [
    {
     "name": "stdout",
     "output_type": "stream",
     "text": [
      "this is test function x= <function outer_func at 0x0000022F4CC804C0>\n"
     ]
    }
   ],
   "source": [
    "def outer_func():\n",
    "    print(\"hey this is function outer\")\n",
    "    \n",
    "def  test(x):\n",
    "    print(\"this is test function x=\",x)\n",
    "    \n",
    "test (outer_func)\n"
   ]
  },
  {
   "cell_type": "code",
   "execution_count": 15,
   "id": "7d1aa76c-026c-4380-8a1e-c31d01485e09",
   "metadata": {},
   "outputs": [
    {
     "data": {
      "text/plain": [
       "'odd'"
      ]
     },
     "execution_count": 15,
     "metadata": {},
     "output_type": "execute_result"
    }
   ],
   "source": [
    "def func(num):\n",
    "    if num%2==0:\n",
    "        return (\"even\")\n",
    "    else:\n",
    "        return (\"odd\")\n",
    "func(11)"
   ]
  },
  {
   "cell_type": "code",
   "execution_count": 19,
   "id": "4c208777-9255-42bf-be2f-e99bfc899210",
   "metadata": {},
   "outputs": [
    {
     "name": "stdout",
     "output_type": "stream",
     "text": [
      "lcm is greater 60\n"
     ]
    }
   ],
   "source": [
    "x=10\n",
    "y=12\n",
    "\n",
    "if x>y:\n",
    "    greter=x\n",
    "else:\n",
    "    greater=y\n",
    "\n",
    "while(True):\n",
    "\n",
    "    if(greater%x==0 and greater%y==0):\n",
    "        print(\"lcm is greater\",greater)\n",
    "        break\n",
    "    else:\n",
    "        greater+=1\n",
    "        "
   ]
  },
  {
   "cell_type": "code",
   "execution_count": 22,
   "id": "c2497546-34e9-4f85-af2c-f79659d85d0e",
   "metadata": {},
   "outputs": [
    {
     "name": "stdout",
     "output_type": "stream",
     "text": [
      "lcm is greater 15\n"
     ]
    }
   ],
   "source": [
    "#by function\n",
    "def lcm_check(x,y):\n",
    "\n",
    "    if x>y:\n",
    "        greter=x\n",
    "    else:\n",
    "        greater=y\n",
    "    \n",
    "    while(True):\n",
    "    \n",
    "        if(greater%x==0 and greater%y==0):\n",
    "            print(\"lcm is greater\",greater)\n",
    "            break\n",
    "        else:\n",
    "            greater+=1\n",
    "\n",
    "lcm_check(3,5)\n",
    "        "
   ]
  },
  {
   "cell_type": "code",
   "execution_count": 3,
   "id": "a4c74072-565e-438c-9a1d-06e35d713940",
   "metadata": {},
   "outputs": [
    {
     "data": {
      "text/plain": [
       "12"
      ]
     },
     "execution_count": 3,
     "metadata": {},
     "output_type": "execute_result"
    }
   ],
   "source": [
    "def lcm_check(x,y):\n",
    "    if x>y:\n",
    "        greater=x\n",
    "    else:\n",
    "        greater=y\n",
    "    while(True):\n",
    "        if(greater%x==0 and greater%y==0):\n",
    "            return greater\n",
    "        else:\n",
    "            greater+=1\n",
    "    print(greater)\n",
    "    \n",
    "lcm_check(lcm_check(2,3),4)"
   ]
  },
  {
   "cell_type": "code",
   "execution_count": 1,
   "id": "a275adf4-f09c-4293-ad51-517a25c8564f",
   "metadata": {},
   "outputs": [
    {
     "name": "stdout",
     "output_type": "stream",
     "text": [
      "hey\n"
     ]
    }
   ],
   "source": [
    "def abc():\n",
    "    print(\"hey\")\n",
    "    dic={\"kunal\":1}\n",
    "    dic[\"kunal\"]=abc\n",
    "abc()"
   ]
  },
  {
   "cell_type": "code",
   "execution_count": 3,
   "id": "23afe41b-c49b-4fd7-b868-e69a61871682",
   "metadata": {},
   "outputs": [
    {
     "name": "stdin",
     "output_type": "stream",
     "text": [
      "enter the string kunal\n"
     ]
    },
    {
     "data": {
      "text/plain": [
       "False"
      ]
     },
     "execution_count": 3,
     "metadata": {},
     "output_type": "execute_result"
    }
   ],
   "source": [
    "\n",
    "def kunal(a):\n",
    "    dic={\"a\":1,\"b\":2,\"c\":3}\n",
    "    if a in dic:\n",
    "        return True\n",
    "    else:\n",
    "        return False\n",
    "a=input(\"enter the string\")\n",
    "kunal(a)\n",
    "    "
   ]
  }
 ],
 "metadata": {
  "kernelspec": {
   "display_name": "Python 3 (ipykernel)",
   "language": "python",
   "name": "python3"
  },
  "language_info": {
   "codemirror_mode": {
    "name": "ipython",
    "version": 3
   },
   "file_extension": ".py",
   "mimetype": "text/x-python",
   "name": "python",
   "nbconvert_exporter": "python",
   "pygments_lexer": "ipython3",
   "version": "3.10.11"
  }
 },
 "nbformat": 4,
 "nbformat_minor": 5
}
