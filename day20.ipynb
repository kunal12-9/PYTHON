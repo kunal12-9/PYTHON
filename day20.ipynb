{
 "cells": [
  {
   "cell_type": "code",
   "execution_count": 1,
   "id": "4100be7f-3417-4a0e-bbad-b3bf7519d5fd",
   "metadata": {},
   "outputs": [
    {
     "data": {
      "text/plain": [
       "<function __main__.<lambda>(x)>"
      ]
     },
     "execution_count": 1,
     "metadata": {},
     "output_type": "execute_result"
    }
   ],
   "source": [
    "lambda x:\"hey\""
   ]
  },
  {
   "cell_type": "code",
   "execution_count": 2,
   "id": "d6986e30-a015-470c-baf1-dd9ab1272ff2",
   "metadata": {},
   "outputs": [
    {
     "data": {
      "text/plain": [
       "'hey'"
      ]
     },
     "execution_count": 2,
     "metadata": {},
     "output_type": "execute_result"
    }
   ],
   "source": [
    "out=lambda x:\"hey\"\n",
    "out(10)"
   ]
  },
  {
   "cell_type": "code",
   "execution_count": 2,
   "id": "b5c58c6f-7cf6-4806-babd-17d75141f5c4",
   "metadata": {},
   "outputs": [
    {
     "data": {
      "text/plain": [
       "121"
      ]
     },
     "execution_count": 2,
     "metadata": {},
     "output_type": "execute_result"
    }
   ],
   "source": [
    "def number_sqaure(x):\n",
    "    return x**2\n",
    "number_sqaure(11)"
   ]
  },
  {
   "cell_type": "code",
   "execution_count": 10,
   "id": "ae2221bf-0352-42c7-acf5-c631752ccf20",
   "metadata": {},
   "outputs": [
    {
     "data": {
      "text/plain": [
       "25"
      ]
     },
     "execution_count": 10,
     "metadata": {},
     "output_type": "execute_result"
    }
   ],
   "source": [
    "#by lambda function\n",
    "y= map(lambda x:x**2,[5,7,8])\n",
    "next(y) #lambda parameter:expression"
   ]
  },
  {
   "cell_type": "code",
   "execution_count": 9,
   "id": "43c218e1-6010-4738-9723-255610a48c13",
   "metadata": {},
   "outputs": [
    {
     "data": {
      "text/plain": [
       "64"
      ]
     },
     "execution_count": 9,
     "metadata": {},
     "output_type": "execute_result"
    }
   ],
   "source": [
    "#map(function,itreable)\n",
    "y= map(number_sqaure,[5,7,8])\n",
    "\n",
    "next(y)\n",
    "next(y)\n",
    "next(y)"
   ]
  },
  {
   "cell_type": "code",
   "execution_count": 11,
   "id": "bfe74bfe-edaf-4e3b-b1a5-a03e254f8366",
   "metadata": {},
   "outputs": [
    {
     "data": {
      "text/plain": [
       "[25, 49, 64]"
      ]
     },
     "execution_count": 11,
     "metadata": {},
     "output_type": "execute_result"
    }
   ],
   "source": [
    "#take in the list\n",
    "list( map(lambda x:x**2,[5,7,8]) )"
   ]
  },
  {
   "cell_type": "code",
   "execution_count": 14,
   "id": "940a9f8d-354d-4fa3-a2f3-dea985c13daf",
   "metadata": {},
   "outputs": [
    {
     "data": {
      "text/plain": [
       "[[25], [49], [64]]"
      ]
     },
     "execution_count": 14,
     "metadata": {},
     "output_type": "execute_result"
    }
   ],
   "source": [
    "#if take in the nested list\n",
    "#nested list\n",
    "list( map(lambda x:[x**2],[5,7,8]) )"
   ]
  },
  {
   "cell_type": "code",
   "execution_count": 12,
   "id": "7c22ba97-4669-4e6f-9f67-e58f61f40909",
   "metadata": {},
   "outputs": [
    {
     "data": {
      "text/plain": [
       "(25, 49, 64)"
      ]
     },
     "execution_count": 12,
     "metadata": {},
     "output_type": "execute_result"
    }
   ],
   "source": [
    "#if take in the touple\n",
    "tuple( map(lambda x:x**2,[5,7,8]) )"
   ]
  },
  {
   "cell_type": "code",
   "execution_count": 15,
   "id": "b106f4f7-82d3-453c-b8df-446d71321639",
   "metadata": {},
   "outputs": [
    {
     "data": {
      "text/plain": [
       "[False, False, True]"
      ]
     },
     "execution_count": 15,
     "metadata": {},
     "output_type": "execute_result"
    }
   ],
   "source": [
    "#map=> it will return all the \n",
    "list( map(lambda x:x%2==0,[5,7,8]) )"
   ]
  },
  {
   "cell_type": "code",
   "execution_count": 16,
   "id": "364904ec-c501-4a70-82fd-ad9b33aa5574",
   "metadata": {},
   "outputs": [
    {
     "data": {
      "text/plain": [
       "[8]"
      ]
     },
     "execution_count": 16,
     "metadata": {},
     "output_type": "execute_result"
    }
   ],
   "source": [
    "#filter=> it will return vlaue whose right acrding condtion\n",
    "list( filter(lambda x:x%2==0,[5,7,8]) )"
   ]
  },
  {
   "cell_type": "code",
   "execution_count": 22,
   "id": "f5496352-8431-42a0-9c50-ecd85c0d68df",
   "metadata": {
    "scrolled": true
   },
   "outputs": [
    {
     "data": {
      "text/plain": [
       "[(5, 1), (7, 1), (8, 1)]"
      ]
     },
     "execution_count": 22,
     "metadata": {},
     "output_type": "execute_result"
    }
   ],
   "source": [
    "#genrete key value pair\n",
    "list( map(lambda x:(x,1),[5,7,8]) )"
   ]
  },
  {
   "cell_type": "code",
   "execution_count": null,
   "id": "842924a9-185e-44b2-9d08-46583ee8e98e",
   "metadata": {},
   "outputs": [],
   "source": [
    "#file handling\n",
    "#open\n",
    "#read wrie \n",
    "#close\n",
    "\n",
    "f=open(\"kunal.txt\")\n"
   ]
  }
 ],
 "metadata": {
  "kernelspec": {
   "display_name": "Python 3 (ipykernel)",
   "language": "python",
   "name": "python3"
  },
  "language_info": {
   "codemirror_mode": {
    "name": "ipython",
    "version": 3
   },
   "file_extension": ".py",
   "mimetype": "text/x-python",
   "name": "python",
   "nbconvert_exporter": "python",
   "pygments_lexer": "ipython3",
   "version": "3.10.11"
  }
 },
 "nbformat": 4,
 "nbformat_minor": 5
}
