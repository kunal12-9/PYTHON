{
 "cells": [
  {
   "cell_type": "code",
   "execution_count": 18,
   "id": "0ff019ab-afa1-4375-a9ba-ba44fb4d0262",
   "metadata": {},
   "outputs": [
    {
     "name": "stdout",
     "output_type": "stream",
     "text": [
      "cur1 0\n",
      "cur2 5\n",
      "cur3 2\n",
      "llo\n",
      "cur4 5\n",
      "<built-in method read of _io.TextIOWrapper object at 0x000001AE200DCC70>\n"
     ]
    }
   ],
   "source": [
    "with open(\"data.txt\",\"w+\") as f:\n",
    "     print(\"cur1\",f.tell() )\n",
    "     f.write(\"hello\")\n",
    "     print(\"cur2\",f.tell() )\n",
    "     f.seek(2)\n",
    "     print(\"cur3\",f.tell() )\n",
    "     print(f.read() )\n",
    "     print(\"cur4\", f.tell() )\n",
    "    \n",
    "\n",
    "print(x)"
   ]
  },
  {
   "cell_type": "code",
   "execution_count": 20,
   "id": "6cf57bca-4547-42ad-b07a-3558a6da556b",
   "metadata": {},
   "outputs": [
    {
     "name": "stdout",
     "output_type": "stream",
     "text": [
      "cur1 0\n",
      "cur2 0\n",
      "cur3 2\n",
      "#$%\n",
      "cur4 2\n",
      "<built-in method read of _io.TextIOWrapper object at 0x000001AE200DCC70>\n"
     ]
    }
   ],
   "source": [
    "with open(\"data.txt\",\"r+\") as f:\n",
    "     print(\"cur1\",f.tell() )\n",
    "     f.read\n",
    "     print(\"cur2\",f.tell() )\n",
    "     f.seek(2)\n",
    "     print(\"cur3\",f.tell() )\n",
    "     print(\"#$%\")\n",
    "     print(\"cur4\", f.tell() )\n",
    "    \n",
    "\n",
    "print(x)"
   ]
  },
  {
   "cell_type": "code",
   "execution_count": 25,
   "id": "9e4bbf53-5a17-4332-af0c-9481c20d3a66",
   "metadata": {},
   "outputs": [
    {
     "name": "stdout",
     "output_type": "stream",
     "text": [
      "hello\n",
      "\n"
     ]
    }
   ],
   "source": [
    "with open(\"data.txt\",\"r\") as f:\n",
    "    print(f.readline())"
   ]
  },
  {
   "cell_type": "code",
   "execution_count": 29,
   "id": "2bd8c13a-e014-4fa3-8862-240004a697bb",
   "metadata": {},
   "outputs": [
    {
     "name": "stdout",
     "output_type": "stream",
     "text": [
      "['hello@kunal']\n"
     ]
    }
   ],
   "source": [
    "import csv\n",
    "f=open(\"data.txt\",\"r\")\n",
    "f_csv = csv.reader(f)\n",
    "for line in f_csv:\n",
    "    print(line)"
   ]
  },
  {
   "cell_type": "code",
   "execution_count": 34,
   "id": "a6675cfe-122b-4f9d-9750-3a203dba7593",
   "metadata": {},
   "outputs": [
    {
     "name": "stdout",
     "output_type": "stream",
     "text": [
      "hello\n",
      "hey\n"
     ]
    }
   ],
   "source": [
    "#exception handling\n",
    "#try block and expect block\n",
    "# if 10/0=> its is armatic error\n",
    "\n",
    "try:\n",
    "    print(\"hello\")\n",
    "    x=10\n",
    "    print(\"hey\")\n",
    "\n",
    "except:\n",
    "    print(\"error handle\")"
   ]
  },
  {
   "cell_type": "code",
   "execution_count": 35,
   "id": "992ab7d1-534e-42db-9ca4-10e1f824a3c6",
   "metadata": {},
   "outputs": [
    {
     "name": "stdout",
     "output_type": "stream",
     "text": [
      "hello\n",
      "error handle\n"
     ]
    }
   ],
   "source": [
    "\n",
    "try:\n",
    "    print(\"hello\")\n",
    "    x=10\n",
    "    10/0\n",
    "    print(\"hey\")\n",
    "\n",
    "except:\n",
    "    print(\"error handle\")"
   ]
  },
  {
   "cell_type": "code",
   "execution_count": 39,
   "id": "cb34eb52-1775-4b0c-87e5-c2d0922cbacc",
   "metadata": {},
   "outputs": [
    {
     "name": "stdout",
     "output_type": "stream",
     "text": [
      "hello\n",
      "error handle => division by zero\n"
     ]
    }
   ],
   "source": [
    "try:\n",
    "    print(\"hello\")\n",
    "    x=10\n",
    "    10/0\n",
    "    print(\"hey\")\n",
    "\n",
    "except ZeroDivisionError as e:\n",
    "    print(\"error handle =>\",e)"
   ]
  },
  {
   "cell_type": "code",
   "execution_count": null,
   "id": "5ac83f32-bcd9-4fd2-a6e1-036908f2344f",
   "metadata": {},
   "outputs": [],
   "source": []
  }
 ],
 "metadata": {
  "kernelspec": {
   "display_name": "Python 3 (ipykernel)",
   "language": "python",
   "name": "python3"
  },
  "language_info": {
   "codemirror_mode": {
    "name": "ipython",
    "version": 3
   },
   "file_extension": ".py",
   "mimetype": "text/x-python",
   "name": "python",
   "nbconvert_exporter": "python",
   "pygments_lexer": "ipython3",
   "version": "3.10.11"
  }
 },
 "nbformat": 4,
 "nbformat_minor": 5
}
