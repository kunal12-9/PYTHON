{
 "cells": [
  {
   "cell_type": "code",
   "execution_count": 3,
   "id": "ad6e8b08-f9ce-4edd-8b75-6579a67cb260",
   "metadata": {},
   "outputs": [
    {
     "name": "stdout",
     "output_type": "stream",
     "text": [
      "hey\n",
      "internal except\n",
      "second line\n",
      "else block\n"
     ]
    }
   ],
   "source": [
    "try:\n",
    "    print(\"hey\")\n",
    "    try:\n",
    "        s=\"hey\"\n",
    "        s[10]\n",
    "    except:\n",
    "        print(\"internal except\")\n",
    "    print(\"second line\")\n",
    "\n",
    "except (NameError,IndexError) as e:\n",
    "    print(\"error will be handled\",e)\n",
    "\n",
    "else:\n",
    "    print(\"else block\")"
   ]
  },
  {
   "cell_type": "code",
   "execution_count": 4,
   "id": "ac4f208a-db59-48be-8101-2a7bedc953b3",
   "metadata": {},
   "outputs": [
    {
     "name": "stdout",
     "output_type": "stream",
     "text": [
      "hey\n",
      "second line\n",
      "error will be handled name 'x' is not defined\n"
     ]
    }
   ],
   "source": [
    "try:\n",
    "    print(\"hey\")\n",
    "    print(\"second line\")\n",
    "    x/0\n",
    "\n",
    "except (NameError,IndexError) as e:\n",
    "    print(\"error will be handled\",e)\n",
    "\n",
    "else:\n",
    "    print(\"else block\")"
   ]
  },
  {
   "cell_type": "code",
   "execution_count": 8,
   "id": "d2826de4-0165-4e5a-929c-043c13e8d09d",
   "metadata": {},
   "outputs": [
    {
     "name": "stdout",
     "output_type": "stream",
     "text": [
      "hey\n",
      "second line\n",
      "finally block\n"
     ]
    }
   ],
   "source": [
    "try:\n",
    "    print(\"hey\")\n",
    "    print(\"second line\")\n",
    "  \n",
    "\n",
    "except (NameError,IndexError) as e:\n",
    "    print(\"error will be handled\",e)\n",
    "\n",
    "finally:\n",
    "    print(\"finally block\")"
   ]
  },
  {
   "cell_type": "code",
   "execution_count": 13,
   "id": "d9e24aa5-8c33-4e57-b292-6f5118f439c0",
   "metadata": {},
   "outputs": [
    {
     "name": "stdout",
     "output_type": "stream",
     "text": [
      "x is 10\n"
     ]
    }
   ],
   "source": [
    "#rays keyword\n",
    "x=10\n",
    "try:\n",
    "    if(x!=10):\n",
    "        raise valueError\n",
    "    else:\n",
    "        print(\"x is 10\")\n",
    "\n",
    "except ValueError as e:\n",
    "    print(\"valueerror => \",e)"
   ]
  },
  {
   "cell_type": "code",
   "execution_count": 19,
   "id": "10c8fb77-c0b1-4f3b-9c77-4a2210dcf2de",
   "metadata": {},
   "outputs": [
    {
     "name": "stdout",
     "output_type": "stream",
     "text": [
      "hey\n",
      "before yield 2\n"
     ]
    },
    {
     "data": {
      "text/plain": [
       "2"
      ]
     },
     "execution_count": 19,
     "metadata": {},
     "output_type": "execute_result"
    }
   ],
   "source": [
    "#genrator\n",
    "\n",
    "def func():\n",
    "    print(\"hey\")\n",
    "    yield 1\n",
    "    print(\"before yield 2\")\n",
    "    yield 2\n",
    "gen=func()\n",
    "next(gen)\n",
    "next(gen)"
   ]
  },
  {
   "cell_type": "code",
   "execution_count": 20,
   "id": "81550be6-b841-4dfc-ab93-ac9365f78cbb",
   "metadata": {},
   "outputs": [
    {
     "name": "stdout",
     "output_type": "stream",
     "text": [
      "hey\n",
      "1\n",
      "before yield 2\n",
      "2\n"
     ]
    }
   ],
   "source": [
    "def func():\n",
    "    print(\"hey\")\n",
    "    yield 1\n",
    "    print(\"before yield 2\")\n",
    "    yield 2\n",
    "gen=func()\n",
    "for i in gen:\n",
    "    print(i)"
   ]
  },
  {
   "cell_type": "code",
   "execution_count": 3,
   "id": "769d277f-6f4e-424d-a510-cf0bac1c7dc0",
   "metadata": {},
   "outputs": [],
   "source": [
    "#fibonachi seris\n",
    "\n",
    "def func():\n",
    "    x=0\n",
    "    x=1\n",
    "    while(True):\n",
    "        x,y=y,x+y\n",
    "        yield y\n",
    "\n"
   ]
  },
  {
   "cell_type": "code",
   "execution_count": 6,
   "id": "9a7bd80d-b573-41cf-88c5-945b05de5b50",
   "metadata": {},
   "outputs": [
    {
     "name": "stdout",
     "output_type": "stream",
     "text": [
      "1\n",
      "1\n",
      "2\n",
      "3\n",
      "5\n",
      "8\n",
      "13\n",
      "21\n",
      "34\n",
      "55\n"
     ]
    }
   ],
   "source": [
    "def func():\n",
    "    x, y = 0, 1\n",
    "    while True:\n",
    "        x, y = y, x + y\n",
    "        yield x\n",
    "f = func()\n",
    "for _ in range(10):\n",
    "    print(next(f))"
   ]
  },
  {
   "cell_type": "code",
   "execution_count": null,
   "id": "df3b536f-0925-4547-889f-fb1a564a85d5",
   "metadata": {},
   "outputs": [],
   "source": [
    "#decorator\n",
    "#static,classmethod,@property\n"
   ]
  },
  {
   "cell_type": "code",
   "execution_count": 13,
   "id": "15d7a159-7aef-4ca2-848b-64eb184aa152",
   "metadata": {},
   "outputs": [
    {
     "name": "stdout",
     "output_type": "stream",
     "text": [
      "abc\n"
     ]
    }
   ],
   "source": [
    "def func_outer():\n",
    "    def func_inner():\n",
    "        print(\"hey\")\n",
    "    return \"abc\"\n",
    "a=func_outer()\n",
    "print(a)"
   ]
  },
  {
   "cell_type": "code",
   "execution_count": 17,
   "id": "ae54e691-d5bf-47f4-bb59-a39bd4c4216a",
   "metadata": {},
   "outputs": [
    {
     "data": {
      "text/plain": [
       "'abc'"
      ]
     },
     "execution_count": 17,
     "metadata": {},
     "output_type": "execute_result"
    }
   ],
   "source": [
    "def func_outer():\n",
    "    def func_inner():\n",
    "        print(\"hey\")\n",
    "    return \"abc\"\n",
    "a=func_outer\n",
    "a() #its "
   ]
  },
  {
   "cell_type": "code",
   "execution_count": null,
   "id": "c8f77f8f-4e41-4409-b4c4-1101d1304b9b",
   "metadata": {},
   "outputs": [],
   "source": []
  }
 ],
 "metadata": {
  "kernelspec": {
   "display_name": "Python 3 (ipykernel)",
   "language": "python",
   "name": "python3"
  },
  "language_info": {
   "codemirror_mode": {
    "name": "ipython",
    "version": 3
   },
   "file_extension": ".py",
   "mimetype": "text/x-python",
   "name": "python",
   "nbconvert_exporter": "python",
   "pygments_lexer": "ipython3",
   "version": "3.10.11"
  }
 },
 "nbformat": 4,
 "nbformat_minor": 5
}
