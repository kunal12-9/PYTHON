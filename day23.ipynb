{
 "cells": [
  {
   "cell_type": "code",
   "execution_count": 2,
   "id": "cbc1020d-6878-4e36-8d77-e6e4e64ea3da",
   "metadata": {},
   "outputs": [
    {
     "name": "stdout",
     "output_type": "stream",
     "text": [
      "name of student is: amit, branch is: civil, semester is: second\n"
     ]
    }
   ],
   "source": [
    "class student:\n",
    "  def __init__(self, name, branch, semester):\n",
    "    self.name = name\n",
    "    self.branch = branch\n",
    "    self.semester = semester\n",
    "\n",
    "  def getinfo(self):\n",
    "    print(f\"name of student is: {self.name}, branch is: {self.branch}, semester is: {self.semester}\")\n",
    "\n",
    "a = student('amit', 'civil', 'second')\n",
    "a.getinfo()\n"
   ]
  },
  {
   "cell_type": "code",
   "execution_count": 5,
   "id": "865aa03a-57cc-45d9-bb2b-362e53fe1aa6",
   "metadata": {},
   "outputs": [
    {
     "ename": "TypeError",
     "evalue": "student() takes no arguments",
     "output_type": "error",
     "traceback": [
      "\u001b[1;31m---------------------------------------------------------------------------\u001b[0m",
      "\u001b[1;31mTypeError\u001b[0m                                 Traceback (most recent call last)",
      "Cell \u001b[1;32mIn[5], line 10\u001b[0m\n\u001b[0;32m      7\u001b[0m   \u001b[38;5;28;01mdef\u001b[39;00m\u001b[38;5;250m \u001b[39m\u001b[38;5;21mgetinfo\u001b[39m(\u001b[38;5;28mself\u001b[39m):\n\u001b[0;32m      8\u001b[0m     \u001b[38;5;28mprint\u001b[39m(\u001b[38;5;124mf\u001b[39m\u001b[38;5;124m\"\u001b[39m\u001b[38;5;124mname of student is:\u001b[39m\u001b[38;5;132;01m{\u001b[39;00m\u001b[38;5;28mself\u001b[39m\u001b[38;5;241m.\u001b[39mname\u001b[38;5;132;01m}\u001b[39;00m\u001b[38;5;124m and branch is : \u001b[39m\u001b[38;5;132;01m{\u001b[39;00m\u001b[38;5;28mself\u001b[39m\u001b[38;5;241m.\u001b[39mbranch\u001b[38;5;132;01m}\u001b[39;00m\u001b[38;5;124m and semester is : \u001b[39m\u001b[38;5;132;01m{\u001b[39;00m\u001b[38;5;28mself\u001b[39m\u001b[38;5;241m.\u001b[39msemester\u001b[38;5;132;01m}\u001b[39;00m\u001b[38;5;124m\"\u001b[39m)\n\u001b[1;32m---> 10\u001b[0m a \u001b[38;5;241m=\u001b[39m \u001b[43mstudent\u001b[49m\u001b[43m(\u001b[49m\u001b[38;5;124;43m'\u001b[39;49m\u001b[38;5;124;43mamit\u001b[39;49m\u001b[38;5;124;43m'\u001b[39;49m\u001b[43m \u001b[49m\u001b[43m,\u001b[49m\u001b[43m \u001b[49m\u001b[38;5;124;43m'\u001b[39;49m\u001b[38;5;124;43mcivil\u001b[39;49m\u001b[38;5;124;43m'\u001b[39;49m\u001b[43m \u001b[49m\u001b[43m,\u001b[49m\u001b[43m \u001b[49m\u001b[38;5;124;43m'\u001b[39;49m\u001b[38;5;124;43msecond\u001b[39;49m\u001b[38;5;124;43m'\u001b[39;49m\u001b[43m)\u001b[49m\n\u001b[0;32m     11\u001b[0m a\u001b[38;5;241m.\u001b[39mgetinfo()\n",
      "\u001b[1;31mTypeError\u001b[0m: student() takes no arguments"
     ]
    }
   ],
   "source": [
    "class student:\n",
    "  def _init_(self , name, branch , semester):\n",
    "    self.name = name\n",
    "    self.branch = branch\n",
    "    self.semester = semester\n",
    "\n",
    "  def getinfo(self):\n",
    "    print(f\"name of student is:{self.name} and branch is : {self.branch} and semester is : {self.semester}\")\n",
    "\n",
    "a = student('amit' , 'civil' , 'second')\n",
    "a.getinfo()"
   ]
  },
  {
   "cell_type": "code",
   "execution_count": null,
   "id": "f98bbb11-acf6-4b91-a417-a1fd937eb1ed",
   "metadata": {},
   "outputs": [],
   "source": []
  }
 ],
 "metadata": {
  "kernelspec": {
   "display_name": "Python 3 (ipykernel)",
   "language": "python",
   "name": "python3"
  },
  "language_info": {
   "codemirror_mode": {
    "name": "ipython",
    "version": 3
   },
   "file_extension": ".py",
   "mimetype": "text/x-python",
   "name": "python",
   "nbconvert_exporter": "python",
   "pygments_lexer": "ipython3",
   "version": "3.10.11"
  }
 },
 "nbformat": 4,
 "nbformat_minor": 5
}
