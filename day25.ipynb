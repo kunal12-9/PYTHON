{
 "cells": [
  {
   "cell_type": "code",
   "execution_count": 2,
   "id": "d45975bb-ed67-416e-872a-f46501a8784f",
   "metadata": {},
   "outputs": [
    {
     "name": "stdout",
     "output_type": "stream",
     "text": [
      "Name: Rahul\n",
      "Age: 18\n",
      "Marks: 75\n",
      "Status: Passed\n"
     ]
    }
   ],
   "source": [
    "class Student:\n",
    "    def __init__(self, name, age, marks):  # Corrected constructor\n",
    "        self.name = name\n",
    "        self.age = age\n",
    "        self.marks = marks\n",
    "\n",
    "    def display_details(self):\n",
    "        print(f\"Name: {self.name}\")\n",
    "        print(f\"Age: {self.age}\")\n",
    "        print(f\"Marks: {self.marks}\")\n",
    "\n",
    "    def is_passed(self):\n",
    "        if self.marks >= 40:\n",
    "            print(\"Status: Passed\")\n",
    "        else:\n",
    "            print(\"Status: Failed\")\n",
    "\n",
    "# Example usage:\n",
    "student1 = Student(\"Rahul\", 18, 75)\n",
    "student1.display_details()\n",
    "student1.is_passed()\n"
   ]
  },
  {
   "cell_type": "code",
   "execution_count": 5,
   "id": "cb0cbd4c-5d60-4f10-be66-9c3e569e7713",
   "metadata": {},
   "outputs": [
    {
     "name": "stdout",
     "output_type": "stream",
     "text": [
      "Name of employee is: sam and salary is: 20000\n",
      "sam\n"
     ]
    }
   ],
   "source": [
    "class Employee:\n",
    "\n",
    "    def __init__(self,name,salary):\n",
    "        self.name = name           # public attribute\n",
    "        self.__salary = salary     # private attribute\n",
    "\n",
    "    def getinfo(self):\n",
    "        print(f\"Name of employee is: {self.name} and salary is: {self.__salary}\")\n",
    "\n",
    "a = Employee('sam' , 20000)\n",
    "a.getinfo()\n",
    "print(a.name)\n"
   ]
  },
  {
   "cell_type": "code",
   "execution_count": 8,
   "id": "32b0614e-5bd5-4790-b1b4-ce9faa03a815",
   "metadata": {},
   "outputs": [
    {
     "name": "stdout",
     "output_type": "stream",
     "text": [
      "sam\n",
      "5000\n",
      "Deposit successful! New balance: 6000\n",
      "Withdrawal successful! New balance: 4000\n"
     ]
    }
   ],
   "source": [
    "class BankAccount:\n",
    "    def __init__(self, account_holder, balance):\n",
    "        self.__account_holder = account_holder\n",
    "        self.__balance = balance\n",
    "\n",
    "    def get_account_holder(self):\n",
    "        return self.__account_holder\n",
    "\n",
    "    # Getter for balance \n",
    "    def get_balance(self):\n",
    "        return self.__balance\n",
    "\n",
    "    # Method to deposit money\n",
    "    def deposit(self, amount):\n",
    "        if amount > 0:\n",
    "            self.__balance += amount\n",
    "            return f\"Deposit successful! New balance: {self.__balance}\"\n",
    "        else:\n",
    "            return \"Deposit amount must be positive.\"\n",
    "\n",
    "    # Method to withdraw money\n",
    "    def withdraw(self, amount):\n",
    "        if amount > 0 and amount <= self.__balance:\n",
    "            self.__balance -= amount\n",
    "            return f\"Withdrawal successful! New balance: {self.__balance}\"\n",
    "        else:\n",
    "            return \"Insufficient funds or invalid amount.\"\n",
    "\n",
    "# Usage\n",
    "account = BankAccount(\"sam\", 5000)\n",
    "print(account.get_account_holder())\n",
    "print(account.get_balance())\n",
    "print(account.deposit(1000))\n",
    "print(account.withdraw(2000))\n",
    "\n",
    "# attempt to accses private attributes directly (not allowed)\n",
    "# print(account.__balance) #error: attributeerror\n"
   ]
  },
  {
   "cell_type": "code",
   "execution_count": 11,
   "id": "272ae529-2304-4d06-b50e-5258997eb3d8",
   "metadata": {},
   "outputs": [
    {
     "name": "stdout",
     "output_type": "stream",
     "text": [
      "Rohit\n",
      "85\n",
      "Grade updated successfully\n",
      "75\n",
      "Invalid grade! Must be between 0 and 100\n"
     ]
    }
   ],
   "source": [
    "class Student:\n",
    "    def __init__(self, name, grade):\n",
    "        self.name = name  # public attribute\n",
    "        self.__grade = grade  # private attribute\n",
    "\n",
    "    # Getter for grade\n",
    "    def get_grade(self):\n",
    "        return self.__grade\n",
    "\n",
    "    # Setter for grade (with validation)\n",
    "    def set_grade(self, new_grade):\n",
    "        if 0 <= new_grade <= 100:\n",
    "            self.__grade = new_grade\n",
    "            return \"Grade updated successfully\"\n",
    "        else:\n",
    "            return \"Invalid grade! Must be between 0 and 100\"\n",
    "\n",
    "# Using the class\n",
    "student1 = Student(\"Rohit\", 85)\n",
    "print(student1.name)                     # public attribute\n",
    "print(student1.get_grade())             # get private grade\n",
    "print(student1.set_grade(75))           # valid update\n",
    "print(student1.get_grade())             # verify update\n",
    "# attempt to set an invalid grade\n",
    "print(student1.set_grade(150))          # invalid update\n"
   ]
  },
  {
   "cell_type": "code",
   "execution_count": 13,
   "id": "3b11c8ce-c3cd-439d-88e9-6c0ea78a1e10",
   "metadata": {},
   "outputs": [
    {
     "name": "stdout",
     "output_type": "stream",
     "text": [
      "Medical record added for rohit.\n",
      "Medical record added for rohit.\n",
      "Medical record added for rohit.\n",
      "Medical History for rohit: ['2024: Flu dignosis', '2024: Blood test result normal', '2024: covid']\n"
     ]
    }
   ],
   "source": [
    "class Patient:\n",
    "    def __init__(self,name,age):\n",
    "        self.__name = name\n",
    "        self.__age = age\n",
    "        self.__medical_history = []\n",
    "\n",
    "    def add_medical_record(self, record):\n",
    "        self.__medical_history.append(record)\n",
    "        return f\"Medical record added for {self.__name}.\"\n",
    "\n",
    "    def get_medical_history(self):\n",
    "        return f\"Medical History for {self.__name}: {self.__medical_history}\"\n",
    "\n",
    "#usage\n",
    "patient = Patient(\"rohit\", 30)\n",
    "print(patient.add_medical_record(\"2024: Flu dignosis\"))\n",
    "print(patient.add_medical_record(\"2024: Blood test result normal\"))\n",
    "print(patient.add_medical_record(\"2024: covid\"))\n",
    "\n",
    "print(patient.get_medical_history()) #retrieve medical history \n",
    "        \n"
   ]
  },
  {
   "cell_type": "code",
   "execution_count": null,
   "id": "56bc7499-62b0-424c-b8f1-524571a4c48d",
   "metadata": {},
   "outputs": [],
   "source": []
  }
 ],
 "metadata": {
  "kernelspec": {
   "display_name": "Python 3 (ipykernel)",
   "language": "python",
   "name": "python3"
  },
  "language_info": {
   "codemirror_mode": {
    "name": "ipython",
    "version": 3
   },
   "file_extension": ".py",
   "mimetype": "text/x-python",
   "name": "python",
   "nbconvert_exporter": "python",
   "pygments_lexer": "ipython3",
   "version": "3.10.11"
  }
 },
 "nbformat": 4,
 "nbformat_minor": 5
}
