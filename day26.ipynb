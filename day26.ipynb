{
 "cells": [
  {
   "cell_type": "code",
   "execution_count": 1,
   "id": "b0f7982a-eec9-4233-84a9-f305504364f6",
   "metadata": {},
   "outputs": [
    {
     "name": "stdout",
     "output_type": "stream",
     "text": [
      "name of location isjaipur\n",
      "project is scheduled....\n",
      "name of location isdelhi\n"
     ]
    }
   ],
   "source": [
    "class Employee:\n",
    "    def __init__(self,location):\n",
    "        self.location = location\n",
    "    def get_location(self):\n",
    "        print(f\"name of location is{self.location}\")\n",
    "class Manager(Employee):\n",
    "    def get_project(self):\n",
    "        print(\"project is scheduled....\")\n",
    "\n",
    "sam = Employee(\"jaipur\")\n",
    "sam.get_location()\n",
    "Mohit =  Manager('delhi')\n",
    "Mohit.get_project()\n",
    "Mohit.get_location()"
   ]
  },
  {
   "cell_type": "code",
   "execution_count": 4,
   "id": "befa1640-f538-4b25-b605-0d7f667519f8",
   "metadata": {},
   "outputs": [
    {
     "name": "stdout",
     "output_type": "stream",
     "text": [
      "Engine started\n",
      "Wheels are rotating.\n",
      "car is driving\n"
     ]
    }
   ],
   "source": [
    "class Engine:\n",
    "    def start_engine(self):\n",
    "        print(\"Engine started\")\n",
    "\n",
    "class Wheels:\n",
    "    def rotate_wheels(self):\n",
    "        print(\"Wheels are rotating.\")\n",
    "\n",
    "class Car(Engine, Wheels):\n",
    "    def drive(self):\n",
    "        print(\"car is driving\")\n",
    "\n",
    "\n",
    "my_car = Car()\n",
    "my_car.start_engine() #method from engine\n",
    "my_car.rotate_wheels() # method from wheel\n",
    "my_car.drive() #method from car"
   ]
  },
  {
   "cell_type": "code",
   "execution_count": 11,
   "id": "660243ce-7968-4ba8-b1fe-9d9f1a67fa5f",
   "metadata": {},
   "outputs": [
    {
     "name": "stdout",
     "output_type": "stream",
     "text": [
      "animal is eating\n",
      "dog is barking\n",
      "puppy is weeping\n"
     ]
    }
   ],
   "source": [
    "class Animal:\n",
    "    def eat(self):\n",
    "        print(\"animal is eating\")\n",
    "\n",
    "class Dog(Animal): #dog inherits from animal\n",
    "    def bark(self):\n",
    "        print(\"dog is barking\")\n",
    "\n",
    "class Puppy(Dog): #puppy inheritis from dog\n",
    "    def weep(self):\n",
    "        print(\"puppy is weeping\")\n",
    "\n",
    "#usage\n",
    "puppy = Puppy()\n",
    "puppy.eat() #animal\n",
    "puppy.bark()#dog \n",
    "puppy.weep() #puppy"
   ]
  },
  {
   "cell_type": "code",
   "execution_count": 14,
   "id": "795180ba-256c-4d8b-a389-59c6dc06af08",
   "metadata": {},
   "outputs": [
    {
     "name": "stdout",
     "output_type": "stream",
     "text": [
      "Tech Solutions\n",
      "future tech\n",
      "physics\n",
      "physics\n",
      "rebal\n"
     ]
    }
   ],
   "source": [
    "class Employee:\n",
    "    company_name = \"Tech Solutions\"\n",
    "\n",
    "    def __init__(self, name, salary):\n",
    "        self.name = name\n",
    "        self.salary= salary\n",
    "\n",
    "    @classmethod\n",
    "    def change_company_name(cls, new_name):\n",
    "        cls.company_name = new_name\n",
    "\n",
    "#usage\n",
    "emp1 = Employee(\"sam\", 50000)\n",
    "emp2 = Employee(\"rahul\", 60000)\n",
    "emp3 = Employee(\"sumit\" , 75000)\n",
    "\n",
    "#Accses the class attribute\n",
    "print(Employee.company_name)\n",
    "\n",
    "#change the class attribute using class method\n",
    "Employee.change_company_name(\"future tech\")\n",
    "print(Employee.company_name)\n",
    "\n",
    "emp1.company_name\n",
    "emp1.change_company_name('physics')\n",
    "emp1.company_name\n",
    "\n",
    "print(emp2.company_name)\n",
    "print(emp3.company_name)\n",
    "emp3.change_company_name(\"rebal\")\n",
    "print(emp3.company_name)"
   ]
  },
  {
   "cell_type": "code",
   "execution_count": null,
   "id": "962e284a-7b07-48ab-a126-273088785d0b",
   "metadata": {},
   "outputs": [],
   "source": []
  }
 ],
 "metadata": {
  "kernelspec": {
   "display_name": "Python 3 (ipykernel)",
   "language": "python",
   "name": "python3"
  },
  "language_info": {
   "codemirror_mode": {
    "name": "ipython",
    "version": 3
   },
   "file_extension": ".py",
   "mimetype": "text/x-python",
   "name": "python",
   "nbconvert_exporter": "python",
   "pygments_lexer": "ipython3",
   "version": "3.10.11"
  }
 },
 "nbformat": 4,
 "nbformat_minor": 5
}
