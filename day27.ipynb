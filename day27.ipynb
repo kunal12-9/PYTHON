{
 "cells": [
  {
   "cell_type": "code",
   "execution_count": 4,
   "id": "70cb13ec-672d-489f-8fba-4cde80fb6b26",
   "metadata": {},
   "outputs": [
    {
     "name": "stdout",
     "output_type": "stream",
     "text": [
      "name of employee is sam and role is frontenddevloper\n",
      "this is great job\n",
      "total = 12\n"
     ]
    }
   ],
   "source": [
    "#static method\n",
    "class Employee:\n",
    "    location = 'jaipur'\n",
    "\n",
    "    def __init__(self, name , role):\n",
    "        self.name = name\n",
    "        self.role = role\n",
    "\n",
    "    def getInfo(self):\n",
    "        print(f\"name of employee is {self.name} and role is {self.role}\")\n",
    "    @staticmethod\n",
    "    def NewInfo():\n",
    "        print(f\"this is great job\")\n",
    "        a =5\n",
    "        b= 7\n",
    "        c= a+b\n",
    "        print(\"total =\",c)\n",
    "\n",
    "a = Employee('sam' , 'frontenddevloper')\n",
    "a.getInfo()\n",
    "a.NewInfo()"
   ]
  },
  {
   "cell_type": "code",
   "execution_count": 8,
   "id": "62e9d1f2-d907-49e0-872e-7151f307599d",
   "metadata": {},
   "outputs": [
    {
     "name": "stdout",
     "output_type": "stream",
     "text": [
      "hello, i am sam from the parent class.\n",
      " i am 10 years old from the child class.\n"
     ]
    }
   ],
   "source": [
    "#super method\n",
    "class Parent:\n",
    "    def __init__(self, name):\n",
    "        self.name = name\n",
    "\n",
    "    def greet(self):\n",
    "        print(f\"hello, i am {self.name} from the parent class.\")\n",
    "\n",
    "class Child(Parent):\n",
    "    def __init__(self, name, age):\n",
    "        super().__init__(name) # call the parent's __init__method\n",
    "        self.age = age\n",
    "\n",
    "    def greet(self):\n",
    "        super().greet() #call the parent's greet method\n",
    "        print(f\" i am {self.age} years old from the child class.\")\n",
    "\n",
    "#usage\n",
    "child = Child(\"sam\", 10)\n",
    "child.greet()"
   ]
  }
 ],
 "metadata": {
  "kernelspec": {
   "display_name": "Python 3 (ipykernel)",
   "language": "python",
   "name": "python3"
  },
  "language_info": {
   "codemirror_mode": {
    "name": "ipython",
    "version": 3
   },
   "file_extension": ".py",
   "mimetype": "text/x-python",
   "name": "python",
   "nbconvert_exporter": "python",
   "pygments_lexer": "ipython3",
   "version": "3.10.11"
  }
 },
 "nbformat": 4,
 "nbformat_minor": 5
}
