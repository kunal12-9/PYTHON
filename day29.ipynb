{
 "cells": [
  {
   "cell_type": "code",
   "execution_count": 3,
   "id": "7cd42026-5fa9-46f9-82fd-a4e7f8abf1cc",
   "metadata": {},
   "outputs": [
    {
     "name": "stdout",
     "output_type": "stream",
     "text": [
      "Circle area: 78.5\n",
      "Circle perimeter: 31.400000000000002\n"
     ]
    }
   ],
   "source": [
    "from abc import ABC, abstractmethod\n",
    "\n",
    "class Shape(ABC):\n",
    "    @abstractmethod\n",
    "    def area(self):\n",
    "        pass \n",
    "\n",
    "    @abstractmethod\n",
    "    def perimeter(self):\n",
    "        pass\n",
    "\n",
    "class Circle(Shape):\n",
    "    def __init__(self, radius):\n",
    "        self.radius = radius\n",
    "\n",
    "    def area(self):\n",
    "        return 3.14 * self.radius * self.radius\n",
    "\n",
    "    def perimeter(self):\n",
    "        return 2 * 3.14 * self.radius\n",
    "\n",
    "circle = Circle(5)\n",
    "print(\"Circle area:\", circle.area())\n",
    "print(\"Circle perimeter:\", circle.perimeter())\n"
   ]
  },
  {
   "cell_type": "code",
   "execution_count": 9,
   "id": "f0031697-c754-4f89-ae15-1c4faf9ea5b7",
   "metadata": {},
   "outputs": [
    {
     "name": "stdout",
     "output_type": "stream",
     "text": [
      "the facFactorial of 5 is 120\n"
     ]
    }
   ],
   "source": [
    "class FactorialCalculator:\n",
    "    def calculate_factorial(self,n):\n",
    "        if n==0 or n==1:\n",
    "            return 1\n",
    "\n",
    "        else:\n",
    "\n",
    "            return n * self.calculate_factorial(n-1)\n",
    "\n",
    "calculator = FactorialCalculator()\n",
    "number = 5\n",
    "result = calculator.calculate_factorial(number)\n",
    "print(f\"the facFactorial of {number} is {result}\")\n",
    "\n"
   ]
  },
  {
   "cell_type": "code",
   "execution_count": 12,
   "id": "9a92e2a1-e902-43d0-80e5-0fc2cc41d1fd",
   "metadata": {},
   "outputs": [
    {
     "name": "stdout",
     "output_type": "stream",
     "text": [
      "Function 'greet' is called\n",
      "hello, sam!\n",
      "function 'greet' finished execution\n"
     ]
    }
   ],
   "source": [
    "#decorator function\n",
    "def log_decorator(func):\n",
    "    def wrapper(*args, **kwargs):\n",
    "        print(f\"Function '{func.__name__}' is called\")\n",
    "        result = func(*args, **kwargs) # call the orignal functin\n",
    "        print(f\"function '{func.__name__}' finished execution\")\n",
    "        return result\n",
    "    return wrapper\n",
    "#using the decorator\n",
    "@log_decorator\n",
    "def greet(name):\n",
    "        print(f\"hello, {name}!\")\n",
    "\n",
    "#call the function\n",
    "greet(\"sam\")\n",
    "    "
   ]
  }
 ],
 "metadata": {
  "kernelspec": {
   "display_name": "Python 3 (ipykernel)",
   "language": "python",
   "name": "python3"
  },
  "language_info": {
   "codemirror_mode": {
    "name": "ipython",
    "version": 3
   },
   "file_extension": ".py",
   "mimetype": "text/x-python",
   "name": "python",
   "nbconvert_exporter": "python",
   "pygments_lexer": "ipython3",
   "version": "3.10.11"
  }
 },
 "nbformat": 4,
 "nbformat_minor": 5
}
