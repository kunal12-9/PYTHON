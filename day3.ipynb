{
 "cells": [
  {
   "cell_type": "code",
   "execution_count": 1,
   "id": "6c6906dc-e745-407e-9a45-b591f3271f99",
   "metadata": {},
   "outputs": [
    {
     "name": "stdout",
     "output_type": "stream",
     "text": [
      "number divisble by 2\n",
      "number divisble by 5\n"
     ]
    }
   ],
   "source": [
    "num=10\n",
    "if(num%2==0):\n",
    "    print(\"number divisble by 2\")\n",
    "    if(num%5==0):\n",
    "        print(\"number divisble by 5\")\n",
    "else:\n",
    "    print(\"number is not divisble by 2\")\n",
    "    \n",
    "    "
   ]
  },
  {
   "cell_type": "code",
   "execution_count": 19,
   "id": "4171adc5-914f-4a06-8bc8-e415c5d9baf0",
   "metadata": {},
   "outputs": [
    {
     "name": "stdout",
     "output_type": "stream",
     "text": [
      "x is grether then all\n",
      "both are condition setisfied\n"
     ]
    }
   ],
   "source": [
    "x=14\n",
    "y=5\n",
    "z=3\n",
    "if(x>y and x>z):\n",
    "    print(\"x is grether then all\")\n",
    "    if(y>z):\n",
    "        print(\"both are condition setisfied\")\n",
    "        "
   ]
  },
  {
   "cell_type": "code",
   "execution_count": 21,
   "id": "bed4fd40-6a0d-43b6-86f3-abfc4426604b",
   "metadata": {},
   "outputs": [
    {
     "data": {
      "text/plain": [
       "'r'"
      ]
     },
     "execution_count": 21,
     "metadata": {},
     "output_type": "execute_result"
    }
   ],
   "source": [
    "company=\"regex\"\n",
    "company[0]"
   ]
  },
  {
   "cell_type": "code",
   "execution_count": 23,
   "id": "318cc5f6-8d7b-4524-9778-8a88b32e612d",
   "metadata": {},
   "outputs": [
    {
     "data": {
      "text/plain": [
       "'e'"
      ]
     },
     "execution_count": 23,
     "metadata": {},
     "output_type": "execute_result"
    }
   ],
   "source": [
    "company=\"regex\"\n",
    "company[3]"
   ]
  },
  {
   "cell_type": "code",
   "execution_count": 29,
   "id": "5c5c0cd6-a5c0-4d08-b4b3-287666869fe5",
   "metadata": {},
   "outputs": [
    {
     "data": {
      "text/plain": [
       "'reg'"
      ]
     },
     "execution_count": 29,
     "metadata": {},
     "output_type": "execute_result"
    }
   ],
   "source": [
    "company=\"regex\"\n",
    "company[:3]"
   ]
  },
  {
   "cell_type": "code",
   "execution_count": 31,
   "id": "2ba8cbf1-6881-473f-83e5-ddc1bcb888d7",
   "metadata": {},
   "outputs": [
    {
     "data": {
      "text/plain": [
       "'regexsoftware'"
      ]
     },
     "execution_count": 31,
     "metadata": {},
     "output_type": "execute_result"
    }
   ],
   "source": [
    "company=\"regexsoftware\"\n",
    "company[0:]"
   ]
  },
  {
   "cell_type": "code",
   "execution_count": 41,
   "id": "97fbaf7b-c697-47a7-bfaf-181b900d504b",
   "metadata": {},
   "outputs": [
    {
     "data": {
      "text/plain": [
       "'regex'"
      ]
     },
     "execution_count": 41,
     "metadata": {},
     "output_type": "execute_result"
    }
   ],
   "source": [
    "company=\"regexsoftware\"\n",
    "company[0:5]"
   ]
  },
  {
   "cell_type": "code",
   "execution_count": 43,
   "id": "b35cc4db-f4ac-4032-be64-e891443677a1",
   "metadata": {},
   "outputs": [
    {
     "data": {
      "text/plain": [
       "'regex'"
      ]
     },
     "execution_count": 43,
     "metadata": {},
     "output_type": "execute_result"
    }
   ],
   "source": [
    "company=\"regexsoftware\"\n",
    "company[0:5:1]"
   ]
  },
  {
   "cell_type": "code",
   "execution_count": 45,
   "id": "64c1a401-f674-4f85-ba3e-e3e5c301f7bc",
   "metadata": {},
   "outputs": [
    {
     "data": {
      "text/plain": [
       "'rgx'"
      ]
     },
     "execution_count": 45,
     "metadata": {},
     "output_type": "execute_result"
    }
   ],
   "source": [
    "company=\"regexsoftware\"\n",
    "company[0:5:2]"
   ]
  },
  {
   "cell_type": "code",
   "execution_count": 47,
   "id": "fca123d7-682a-4bed-878c-ec796c2a1ec7",
   "metadata": {},
   "outputs": [
    {
     "data": {
      "text/plain": [
       "'xeg'"
      ]
     },
     "execution_count": 47,
     "metadata": {},
     "output_type": "execute_result"
    }
   ],
   "source": [
    "company=\"regexsoftware\"\n",
    "company[4:1:-1]"
   ]
  },
  {
   "cell_type": "code",
   "execution_count": 51,
   "id": "c19b8b89-15fb-48c1-8d80-a6488ebdab7f",
   "metadata": {},
   "outputs": [
    {
     "data": {
      "text/plain": [
       "'war'"
      ]
     },
     "execution_count": 51,
     "metadata": {},
     "output_type": "execute_result"
    }
   ],
   "source": [
    "company=\"regexsoftware\"\n",
    "company[-4:-1]"
   ]
  },
  {
   "cell_type": "code",
   "execution_count": 53,
   "id": "9c56452c-2a45-439c-a6ac-1c772f38718d",
   "metadata": {},
   "outputs": [
    {
     "data": {
      "text/plain": [
       "'erawtfosxeger'"
      ]
     },
     "execution_count": 53,
     "metadata": {},
     "output_type": "execute_result"
    }
   ],
   "source": [
    "company=\"regexsoftware\"\n",
    "company[::-1]"
   ]
  },
  {
   "cell_type": "code",
   "execution_count": 55,
   "id": "52aa7f4b-b0b5-4bb8-8468-2ea1f355171c",
   "metadata": {},
   "outputs": [
    {
     "data": {
      "text/plain": [
       "5"
      ]
     },
     "execution_count": 55,
     "metadata": {},
     "output_type": "execute_result"
    }
   ],
   "source": [
    "10>>1"
   ]
  },
  {
   "cell_type": "code",
   "execution_count": 59,
   "id": "7973a8c1-b9dc-45dd-ab61-b1982ff66d70",
   "metadata": {},
   "outputs": [
    {
     "data": {
      "text/plain": [
       "2"
      ]
     },
     "execution_count": 59,
     "metadata": {},
     "output_type": "execute_result"
    }
   ],
   "source": [
    "20>>3"
   ]
  }
 ],
 "metadata": {
  "kernelspec": {
   "display_name": "Python [conda env:base] *",
   "language": "python",
   "name": "conda-base-py"
  },
  "language_info": {
   "codemirror_mode": {
    "name": "ipython",
    "version": 3
   },
   "file_extension": ".py",
   "mimetype": "text/x-python",
   "name": "python",
   "nbconvert_exporter": "python",
   "pygments_lexer": "ipython3",
   "version": "3.12.7"
  }
 },
 "nbformat": 4,
 "nbformat_minor": 5
}
