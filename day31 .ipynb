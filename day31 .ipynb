{
 "cells": [
  {
   "cell_type": "code",
   "execution_count": 2,
   "id": "ee6befe1-49b8-47a4-86e1-e6238173aaf2",
   "metadata": {},
   "outputs": [],
   "source": [
    "import numpy as np "
   ]
  },
  {
   "cell_type": "code",
   "execution_count": 3,
   "id": "13084484-54cd-482c-b3ee-661cf8509877",
   "metadata": {},
   "outputs": [
    {
     "data": {
      "text/plain": [
       "array([1., 1., 1., 1.])"
      ]
     },
     "execution_count": 3,
     "metadata": {},
     "output_type": "execute_result"
    }
   ],
   "source": [
    "#(02). ones() > it will create an array in which all the values are 1.\n",
    "a = np.ones(4)\n",
    "a"
   ]
  },
  {
   "cell_type": "code",
   "execution_count": 4,
   "id": "57ca2516-8120-4cbe-bf81-7a34016da245",
   "metadata": {},
   "outputs": [],
   "source": [
    "#(3) eye() > it will create an array inm which digonal positonal\n",
    "#elements will be 1 and rest all are 0."
   ]
  },
  {
   "cell_type": "code",
   "execution_count": 5,
   "id": "4bfae9a6-80c8-47e5-8818-4f430c3c4a7d",
   "metadata": {},
   "outputs": [
    {
     "data": {
      "text/plain": [
       "array([[1., 0., 0.],\n",
       "       [0., 1., 0.],\n",
       "       [0., 0., 1.]])"
      ]
     },
     "execution_count": 5,
     "metadata": {},
     "output_type": "execute_result"
    }
   ],
   "source": [
    "a= np.eye(3)\n",
    "a"
   ]
  },
  {
   "cell_type": "code",
   "execution_count": 6,
   "id": "422ce2aa-ccd6-461c-b05a-3b2080e1ca6a",
   "metadata": {},
   "outputs": [],
   "source": [
    "#(4). diag > using this method, we can create an array in which can\n",
    "#cutomize our digonal positional elements"
   ]
  },
  {
   "cell_type": "code",
   "execution_count": 7,
   "id": "75d434af-3104-4d18-9049-62213cbff65c",
   "metadata": {},
   "outputs": [
    {
     "data": {
      "text/plain": [
       "array([[ 1,  0,  0,  0],\n",
       "       [ 0, 45,  0,  0],\n",
       "       [ 0,  0, 67,  0],\n",
       "       [ 0,  0,  0, 90]])"
      ]
     },
     "execution_count": 7,
     "metadata": {},
     "output_type": "execute_result"
    }
   ],
   "source": [
    "a = np.diag([1,45,67,90])\n",
    "a"
   ]
  },
  {
   "cell_type": "code",
   "execution_count": 8,
   "id": "68c28746-eed9-4bdb-b78a-b2ba69262abf",
   "metadata": {},
   "outputs": [],
   "source": [
    "#(5). Random module"
   ]
  },
  {
   "cell_type": "code",
   "execution_count": 9,
   "id": "acf4563d-8fae-4678-861d-86ffc2fbf450",
   "metadata": {},
   "outputs": [],
   "source": [
    "#(a) Randit() --> it will genrate random numbers in a given range.\n",
    "#syntex: np.random.randit(min_value, max_value , total_numbers)"
   ]
  },
  {
   "cell_type": "code",
   "execution_count": 12,
   "id": "83e907fe-7b13-424f-8979-d11267d2bb51",
   "metadata": {},
   "outputs": [
    {
     "data": {
      "text/plain": [
       "array([9, 3, 2], dtype=int32)"
      ]
     },
     "execution_count": 12,
     "metadata": {},
     "output_type": "execute_result"
    }
   ],
   "source": [
    "a = np.random.randint(1,10,3)\n",
    "a"
   ]
  },
  {
   "cell_type": "code",
   "execution_count": 13,
   "id": "f41d689c-ae59-46f1-9c07-23b78df82730",
   "metadata": {},
   "outputs": [],
   "source": [
    "#(b) . Rand() --> it will genrate random numbers in range 0-1"
   ]
  },
  {
   "cell_type": "code",
   "execution_count": 14,
   "id": "a1fe5766-c541-4936-be6a-33f7ab3ea3ad",
   "metadata": {},
   "outputs": [
    {
     "data": {
      "text/plain": [
       "array([[0.91964044, 0.0922317 , 0.03248581],\n",
       "       [0.57148435, 0.85867447, 0.64522824],\n",
       "       [0.89759096, 0.85972641, 0.72153877]])"
      ]
     },
     "execution_count": 14,
     "metadata": {},
     "output_type": "execute_result"
    }
   ],
   "source": [
    "a = np.random.rand(3,3)\n",
    "a"
   ]
  },
  {
   "cell_type": "code",
   "execution_count": 15,
   "id": "2ba97101-7a01-4801-b3e6-777758e22605",
   "metadata": {},
   "outputs": [],
   "source": [
    "# (c). seed() ----> it will fix our random genrated data."
   ]
  },
  {
   "cell_type": "code",
   "execution_count": 16,
   "id": "6cc169e0-96ff-41ff-b549-ca8cf1d6b2b7",
   "metadata": {},
   "outputs": [
    {
     "data": {
      "text/plain": [
       "array([6, 6, 5], dtype=int32)"
      ]
     },
     "execution_count": 16,
     "metadata": {},
     "output_type": "execute_result"
    }
   ],
   "source": [
    "np.random.seed(30)\n",
    "a = np.random.randint(1,10,3)\n",
    "a"
   ]
  },
  {
   "cell_type": "code",
   "execution_count": 17,
   "id": "a19bc505-9047-48b7-a388-86477a75bada",
   "metadata": {},
   "outputs": [],
   "source": [
    "# (6). view vs copy ---->\n",
    "#view means modification in original dataset.\n",
    "# copy means modification in duplicate data."
   ]
  },
  {
   "cell_type": "code",
   "execution_count": 18,
   "id": "601aad99-21c6-43bf-8438-7a2dc2517722",
   "metadata": {},
   "outputs": [
    {
     "data": {
      "text/plain": [
       "array([0, 0, 0])"
      ]
     },
     "execution_count": 18,
     "metadata": {},
     "output_type": "execute_result"
    }
   ],
   "source": [
    "a = np.array([1,2,3,4,5,6,7,8,9])\n",
    "b = a[2:5]\n",
    "b[:] =0\n",
    "b"
   ]
  },
  {
   "cell_type": "code",
   "execution_count": 19,
   "id": "22d4b0db-0556-4e3a-b4cd-9e5866b637cb",
   "metadata": {},
   "outputs": [
    {
     "data": {
      "text/plain": [
       "array([1, 2, 0, 0, 0, 6, 7, 8, 9])"
      ]
     },
     "execution_count": 19,
     "metadata": {},
     "output_type": "execute_result"
    }
   ],
   "source": [
    "a"
   ]
  },
  {
   "cell_type": "code",
   "execution_count": 24,
   "id": "773bae3c-b7c2-4412-843b-9f9f020c6c40",
   "metadata": {},
   "outputs": [
    {
     "data": {
      "text/plain": [
       "array([0, 0, 0])"
      ]
     },
     "execution_count": 24,
     "metadata": {},
     "output_type": "execute_result"
    }
   ],
   "source": [
    "a=  np.array([1,2,3,4,5,6,7,8,9])\n",
    "b = a[2:5].copy()\n",
    "b[:] =0\n",
    "b\n"
   ]
  },
  {
   "cell_type": "code",
   "execution_count": 22,
   "id": "26b668e6-5414-4e9f-903f-5928f6d90056",
   "metadata": {},
   "outputs": [
    {
     "data": {
      "text/plain": [
       "array([1, 2, 3, 4, 5, 6, 7, 8, 9])"
      ]
     },
     "execution_count": 22,
     "metadata": {},
     "output_type": "execute_result"
    }
   ],
   "source": [
    "a"
   ]
  },
  {
   "cell_type": "code",
   "execution_count": null,
   "id": "3a4a11af-bfda-44d8-959f-cc8e250a30d9",
   "metadata": {},
   "outputs": [],
   "source": []
  }
 ],
 "metadata": {
  "kernelspec": {
   "display_name": "Python 3 (ipykernel)",
   "language": "python",
   "name": "python3"
  },
  "language_info": {
   "codemirror_mode": {
    "name": "ipython",
    "version": 3
   },
   "file_extension": ".py",
   "mimetype": "text/x-python",
   "name": "python",
   "nbconvert_exporter": "python",
   "pygments_lexer": "ipython3",
   "version": "3.10.11"
  }
 },
 "nbformat": 4,
 "nbformat_minor": 5
}
