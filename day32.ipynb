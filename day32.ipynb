{
 "cells": [
  {
   "cell_type": "code",
   "execution_count": 36,
   "id": "aebc1c58-609a-4650-95bf-b5210f73fe80",
   "metadata": {},
   "outputs": [],
   "source": [
    "import numpy as np "
   ]
  },
  {
   "cell_type": "code",
   "execution_count": 37,
   "id": "7f78eb51-7560-4ec3-9a7c-a33126c48577",
   "metadata": {},
   "outputs": [],
   "source": [
    "#Reshaping the array"
   ]
  },
  {
   "cell_type": "code",
   "execution_count": 38,
   "id": "4fb4cf32-b74e-40ff-8bd5-2db6a5bf2237",
   "metadata": {},
   "outputs": [],
   "source": [
    "# n(rows) * n(coulums) = n(total_elements)\n",
    "#total_elements =12\n",
    "# 1*12 , 12*1\n",
    "# 2*6 , 6*2\n",
    "# 3*4 , 4*3"
   ]
  },
  {
   "cell_type": "code",
   "execution_count": 39,
   "id": "76389178-69e0-4533-bb23-4eeea7d2aa75",
   "metadata": {},
   "outputs": [
    {
     "data": {
      "text/plain": [
       "array([ 1,  2,  3,  4,  5,  6,  7,  8,  9, 10, 11, 12])"
      ]
     },
     "execution_count": 39,
     "metadata": {},
     "output_type": "execute_result"
    }
   ],
   "source": [
    "a = np.arange(1,13,1)\n",
    "a"
   ]
  },
  {
   "cell_type": "code",
   "execution_count": 40,
   "id": "9adb2daa-5511-48ec-b8e4-33de1c4ce348",
   "metadata": {},
   "outputs": [
    {
     "data": {
      "text/plain": [
       "array([[ 1,  2,  3,  4,  5,  6],\n",
       "       [ 7,  8,  9, 10, 11, 12]])"
      ]
     },
     "execution_count": 40,
     "metadata": {},
     "output_type": "execute_result"
    }
   ],
   "source": [
    "a.reshape(2,6)"
   ]
  },
  {
   "cell_type": "code",
   "execution_count": 41,
   "id": "51037252-0bd8-4f03-9685-407b451c4f54",
   "metadata": {},
   "outputs": [
    {
     "data": {
      "text/plain": [
       "array([[ 1,  2,  3,  4],\n",
       "       [ 5,  6,  7,  8],\n",
       "       [ 9, 10, 11, 12]])"
      ]
     },
     "execution_count": 41,
     "metadata": {},
     "output_type": "execute_result"
    }
   ],
   "source": [
    "a.reshape(3,4)"
   ]
  },
  {
   "cell_type": "code",
   "execution_count": 42,
   "id": "38ebed7a-d7d9-44cd-a383-3f171c869cbc",
   "metadata": {},
   "outputs": [
    {
     "data": {
      "text/plain": [
       "array([[ 1,  2,  3],\n",
       "       [ 4,  5,  6],\n",
       "       [ 7,  8,  9],\n",
       "       [10, 11, 12]])"
      ]
     },
     "execution_count": 42,
     "metadata": {},
     "output_type": "execute_result"
    }
   ],
   "source": [
    "a.reshape(4,3)"
   ]
  },
  {
   "cell_type": "code",
   "execution_count": 43,
   "id": "9de96d76-f761-45b9-8f82-dfe6bce6fa72",
   "metadata": {},
   "outputs": [],
   "source": [
    "#a.reshape(6,3) , beacuse 6*3=18"
   ]
  },
  {
   "cell_type": "code",
   "execution_count": 44,
   "id": "51daef29-50e0-4e71-b209-ae361989d5f6",
   "metadata": {},
   "outputs": [],
   "source": [
    "#Oprations on array"
   ]
  },
  {
   "cell_type": "code",
   "execution_count": 45,
   "id": "99566967-e5fd-4d4f-b1f4-6bfacfe4887c",
   "metadata": {},
   "outputs": [
    {
     "data": {
      "text/plain": [
       "array([1, 2, 3, 4])"
      ]
     },
     "execution_count": 45,
     "metadata": {},
     "output_type": "execute_result"
    }
   ],
   "source": [
    "a = np.array([1,2,3,4])\n",
    "a"
   ]
  },
  {
   "cell_type": "code",
   "execution_count": 46,
   "id": "0d202d24-f23c-49ef-9b8d-8f91fa85a3ed",
   "metadata": {},
   "outputs": [
    {
     "data": {
      "text/plain": [
       "array([ 1,  4,  9, 16])"
      ]
     },
     "execution_count": 46,
     "metadata": {},
     "output_type": "execute_result"
    }
   ],
   "source": [
    "a**2"
   ]
  },
  {
   "cell_type": "code",
   "execution_count": 47,
   "id": "e8fc89a7-c570-4cfe-b8e5-519b0cfee344",
   "metadata": {},
   "outputs": [
    {
     "data": {
      "text/plain": [
       "array([ 3,  6,  9, 12])"
      ]
     },
     "execution_count": 47,
     "metadata": {},
     "output_type": "execute_result"
    }
   ],
   "source": [
    "a*3"
   ]
  },
  {
   "cell_type": "code",
   "execution_count": 48,
   "id": "824f9426-867d-4199-95a5-e5f66c290369",
   "metadata": {},
   "outputs": [
    {
     "data": {
      "text/plain": [
       "array([[1, 2],\n",
       "       [3, 4]])"
      ]
     },
     "execution_count": 48,
     "metadata": {},
     "output_type": "execute_result"
    }
   ],
   "source": [
    "a = np.arange(1,5).reshape(2,2)\n",
    "a"
   ]
  },
  {
   "cell_type": "code",
   "execution_count": 49,
   "id": "5ccc96fa-697c-4fa9-b4ca-427eda43ae94",
   "metadata": {},
   "outputs": [
    {
     "data": {
      "text/plain": [
       "array([[5, 6],\n",
       "       [7, 8]])"
      ]
     },
     "execution_count": 49,
     "metadata": {},
     "output_type": "execute_result"
    }
   ],
   "source": [
    "b = np.arange(5,9).reshape(2,2)\n",
    "b"
   ]
  },
  {
   "cell_type": "code",
   "execution_count": 50,
   "id": "7af39553-e2b6-4474-822c-8809e4179476",
   "metadata": {},
   "outputs": [
    {
     "data": {
      "text/plain": [
       "array([[ 6,  8],\n",
       "       [10, 12]])"
      ]
     },
     "execution_count": 50,
     "metadata": {},
     "output_type": "execute_result"
    }
   ],
   "source": [
    "a+b"
   ]
  },
  {
   "cell_type": "code",
   "execution_count": 51,
   "id": "0395c14e-2a21-48fc-8c7c-6c5b583d417f",
   "metadata": {},
   "outputs": [
    {
     "data": {
      "text/plain": [
       "array([[-4, -4],\n",
       "       [-4, -4]])"
      ]
     },
     "execution_count": 51,
     "metadata": {},
     "output_type": "execute_result"
    }
   ],
   "source": [
    "a-b"
   ]
  },
  {
   "cell_type": "code",
   "execution_count": 52,
   "id": "f7a70f33-24c5-4634-8345-12d5c97c2af2",
   "metadata": {},
   "outputs": [
    {
     "data": {
      "text/plain": [
       "array([[ 5, 12],\n",
       "       [21, 32]])"
      ]
     },
     "execution_count": 52,
     "metadata": {},
     "output_type": "execute_result"
    }
   ],
   "source": [
    "a*b  ###not"
   ]
  },
  {
   "cell_type": "code",
   "execution_count": 53,
   "id": "f1ca1f02-5429-4bd8-911a-16cf086365b8",
   "metadata": {},
   "outputs": [
    {
     "data": {
      "text/plain": [
       "array([[19, 22],\n",
       "       [43, 50]])"
      ]
     },
     "execution_count": 53,
     "metadata": {},
     "output_type": "execute_result"
    }
   ],
   "source": [
    "a.dot(b)"
   ]
  },
  {
   "cell_type": "code",
   "execution_count": 54,
   "id": "40462d48-993b-4040-832c-9d6add6d5789",
   "metadata": {},
   "outputs": [
    {
     "data": {
      "text/plain": [
       "array([1, 2, 3, 4, 5, 6, 7, 8, 9])"
      ]
     },
     "execution_count": 54,
     "metadata": {},
     "output_type": "execute_result"
    }
   ],
   "source": [
    "a = np.arange(1,10)\n",
    "a"
   ]
  },
  {
   "cell_type": "code",
   "execution_count": 55,
   "id": "67ec781b-3c74-4acd-8db6-ac3bab74449d",
   "metadata": {},
   "outputs": [
    {
     "data": {
      "text/plain": [
       "array([[1, 2, 3],\n",
       "       [4, 5, 6],\n",
       "       [7, 8, 9]])"
      ]
     },
     "execution_count": 55,
     "metadata": {},
     "output_type": "execute_result"
    }
   ],
   "source": [
    "a = a.reshape(3,3)\n",
    "a"
   ]
  },
  {
   "cell_type": "code",
   "execution_count": 60,
   "id": "faf1dac4-71ad-4b2b-9b86-ca9acf344864",
   "metadata": {},
   "outputs": [
    {
     "data": {
      "text/plain": [
       "np.int64(45)"
      ]
     },
     "execution_count": 60,
     "metadata": {},
     "output_type": "execute_result"
    }
   ],
   "source": [
    "np.sum(a) ###total sum"
   ]
  },
  {
   "cell_type": "code",
   "execution_count": 57,
   "id": "357658e8-d982-4a3a-b2da-c2853074af3d",
   "metadata": {},
   "outputs": [
    {
     "data": {
      "text/plain": [
       "array([12, 15, 18])"
      ]
     },
     "execution_count": 57,
     "metadata": {},
     "output_type": "execute_result"
    }
   ],
   "source": [
    "np.sum(a, axis =0) ### coulum wise sum"
   ]
  },
  {
   "cell_type": "code",
   "execution_count": 59,
   "id": "c306bca0-4dfb-4f6d-99e0-bccb85c0c216",
   "metadata": {},
   "outputs": [
    {
     "data": {
      "text/plain": [
       "array([ 6, 15, 24])"
      ]
     },
     "execution_count": 59,
     "metadata": {},
     "output_type": "execute_result"
    }
   ],
   "source": [
    "np.sum(a, axis =1) ### row wise sum"
   ]
  },
  {
   "cell_type": "code",
   "execution_count": 61,
   "id": "27768f14-8325-4471-9d94-311207ce36d0",
   "metadata": {},
   "outputs": [],
   "source": [
    "#unique() ----->  it will return unique elements of array and its indexing and total accurance"
   ]
  },
  {
   "cell_type": "code",
   "execution_count": 64,
   "id": "371221ef-fd83-4166-abfa-69d14eef3d01",
   "metadata": {},
   "outputs": [
    {
     "data": {
      "text/plain": [
       "(array([1, 2, 3, 4, 5]), array([ 0,  1, 10, 12, 13]), array([2, 9, 1, 1, 1]))"
      ]
     },
     "execution_count": 64,
     "metadata": {},
     "output_type": "execute_result"
    }
   ],
   "source": [
    "a = np.array([1,2,2,2,2,2,2,2,2,2,3,1,4,5])\n",
    "np.unique(a, return_index=True , return_counts = True)"
   ]
  },
  {
   "cell_type": "code",
   "execution_count": 65,
   "id": "6f13a7db-70b3-4b26-8620-0e7fe60395b2",
   "metadata": {},
   "outputs": [],
   "source": [
    "#linespace() ---> it will create an array in eh==which gap of values will br=e equal"
   ]
  },
  {
   "cell_type": "code",
   "execution_count": 70,
   "id": "060a8805-01c4-4705-8130-62489f6bb9a2",
   "metadata": {},
   "outputs": [
    {
     "data": {
      "text/plain": [
       "array([1.  , 1.25, 1.5 , 1.75, 2.  ])"
      ]
     },
     "execution_count": 70,
     "metadata": {},
     "output_type": "execute_result"
    }
   ],
   "source": [
    "a = np.linspace(1,2,5)\n",
    "a"
   ]
  },
  {
   "cell_type": "code",
   "execution_count": 71,
   "id": "d6dc2b6d-0824-4e05-849f-b0ce8b841d82",
   "metadata": {},
   "outputs": [],
   "source": [
    "# Hstack and vstack"
   ]
  },
  {
   "cell_type": "code",
   "execution_count": 72,
   "id": "cbf498f0-b19d-4685-96db-11a5d4a126eb",
   "metadata": {},
   "outputs": [],
   "source": [
    "a = np.array([1,2,3,4])\n",
    "b = np.array([5,6,7,8])\n",
    "c = np.array([9,10,11,12])\n"
   ]
  },
  {
   "cell_type": "code",
   "execution_count": 73,
   "id": "9f51a9e1-baf1-47dc-a790-2081d6b1a9c1",
   "metadata": {},
   "outputs": [
    {
     "data": {
      "text/plain": [
       "array([ 1,  2,  3,  4,  5,  6,  7,  8,  9, 10, 11, 12])"
      ]
     },
     "execution_count": 73,
     "metadata": {},
     "output_type": "execute_result"
    }
   ],
   "source": [
    "np.hstack((a,b,c))"
   ]
  },
  {
   "cell_type": "code",
   "execution_count": 74,
   "id": "773f7bf6-8d66-4bbf-900e-de590ebd8351",
   "metadata": {},
   "outputs": [
    {
     "data": {
      "text/plain": [
       "array([[ 1,  2,  3,  4],\n",
       "       [ 5,  6,  7,  8],\n",
       "       [ 9, 10, 11, 12]])"
      ]
     },
     "execution_count": 74,
     "metadata": {},
     "output_type": "execute_result"
    }
   ],
   "source": [
    "np.vstack((a,b,c))"
   ]
  }
 ],
 "metadata": {
  "kernelspec": {
   "display_name": "Python 3 (ipykernel)",
   "language": "python",
   "name": "python3"
  },
  "language_info": {
   "codemirror_mode": {
    "name": "ipython",
    "version": 3
   },
   "file_extension": ".py",
   "mimetype": "text/x-python",
   "name": "python",
   "nbconvert_exporter": "python",
   "pygments_lexer": "ipython3",
   "version": "3.10.11"
  }
 },
 "nbformat": 4,
 "nbformat_minor": 5
}
