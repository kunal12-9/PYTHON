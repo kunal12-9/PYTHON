{
 "cells": [
  {
   "cell_type": "code",
   "execution_count": 1,
   "id": "285a9def-f982-4acd-80fd-4f1a326637cb",
   "metadata": {},
   "outputs": [
    {
     "name": "stdout",
     "output_type": "stream",
     "text": [
      "140706524508120\n"
     ]
    }
   ],
   "source": [
    "x=50\n",
    "print(id(x))\n",
    "\n",
    "a=x\n",
    "print=(id(a))"
   ]
  },
  {
   "cell_type": "code",
   "execution_count": 4,
   "id": "152f1394-6e9a-44de-8720-ff2a0ce8383c",
   "metadata": {},
   "outputs": [
    {
     "name": "stdout",
     "output_type": "stream",
     "text": [
      "hey 0\n",
      "hey 1\n",
      "hey 2\n",
      "hey 3\n",
      "hey 4\n"
     ]
    }
   ],
   "source": [
    "for i in range(0,5):\n",
    "    print(\"hey\",i)"
   ]
  },
  {
   "cell_type": "code",
   "execution_count": 6,
   "id": "dec6d65d-5f75-4186-8e6b-3b0dae6a4234",
   "metadata": {},
   "outputs": [
    {
     "name": "stdout",
     "output_type": "stream",
     "text": [
      "hey 1\n",
      "hey 2\n",
      "hey 3\n",
      "hey 4\n",
      "hey 5\n",
      "hey 6\n"
     ]
    }
   ],
   "source": [
    "for i in range(1,7):\n",
    "    print(\"hey\",i)"
   ]
  },
  {
   "cell_type": "code",
   "execution_count": 14,
   "id": "f29ecfe3-724d-4d40-8983-9152e35f4d06",
   "metadata": {},
   "outputs": [
    {
     "name": "stdout",
     "output_type": "stream",
     "text": [
      "hey 3\n",
      "hey 6\n"
     ]
    }
   ],
   "source": [
    "for i in range(3,9,3):\n",
    "    print(\"hey\",i)"
   ]
  },
  {
   "cell_type": "code",
   "execution_count": 16,
   "id": "598cc8cf-1706-4282-a37e-db79798949d9",
   "metadata": {},
   "outputs": [
    {
     "name": "stdout",
     "output_type": "stream",
     "text": [
      "hey 9\n",
      "hey 8\n",
      "hey 7\n",
      "hey 6\n",
      "hey 5\n",
      "hey 4\n"
     ]
    }
   ],
   "source": [
    "for i in range(9,3,-1):\n",
    "    print(\"hey\",i)"
   ]
  },
  {
   "cell_type": "code",
   "execution_count": 18,
   "id": "f6d8ac7d-f0f0-40f8-a35c-4587bd80034a",
   "metadata": {},
   "outputs": [
    {
     "name": "stdout",
     "output_type": "stream",
     "text": [
      "hey 11\n",
      "hey 12\n"
     ]
    }
   ],
   "source": [
    "for i in range(11,13):\n",
    "    print(\"hey\",i)"
   ]
  },
  {
   "cell_type": "code",
   "execution_count": 28,
   "id": "c68b0fc0-0b30-4ca5-b471-3c06395fd8af",
   "metadata": {},
   "outputs": [
    {
     "name": "stdout",
     "output_type": "stream",
     "text": [
      "even 2\n",
      "odd 3\n",
      "even 4\n",
      "odd 5\n",
      "even 6\n",
      "odd 7\n",
      "even 8\n"
     ]
    }
   ],
   "source": [
    "for num in range(2,9):\n",
    "    if(num%2==0):\n",
    "        print(\"even\",num)\n",
    "    else:\n",
    "        print(\"odd\",num)"
   ]
  },
  {
   "cell_type": "code",
   "execution_count": 30,
   "id": "2a072fb3-0ba5-496e-8565-320e5d60f5e8",
   "metadata": {},
   "outputs": [
    {
     "name": "stdout",
     "output_type": "stream",
     "text": [
      "2\n",
      "3\n",
      "4\n",
      "5\n",
      "6\n",
      "7\n",
      "8\n",
      "9\n",
      "10\n",
      "11\n",
      "12\n",
      "13\n",
      "14\n",
      "15\n",
      "16\n",
      "17\n",
      "18\n",
      "19\n"
     ]
    }
   ],
   "source": [
    "for i in range(2,20):\n",
    "    print(i)"
   ]
  },
  {
   "cell_type": "code",
   "execution_count": 32,
   "id": "7532ac35-4bc8-417a-a559-e86142a136d8",
   "metadata": {},
   "outputs": [
    {
     "name": "stdout",
     "output_type": "stream",
     "text": [
      "97\n",
      "96\n",
      "95\n",
      "94\n",
      "93\n",
      "92\n",
      "91\n",
      "90\n",
      "89\n",
      "88\n",
      "87\n",
      "86\n",
      "85\n",
      "84\n",
      "83\n",
      "82\n",
      "81\n",
      "80\n",
      "79\n",
      "78\n",
      "77\n",
      "76\n",
      "75\n",
      "74\n",
      "73\n",
      "72\n",
      "71\n",
      "70\n",
      "69\n",
      "68\n",
      "67\n",
      "66\n",
      "65\n",
      "64\n",
      "63\n",
      "62\n",
      "61\n",
      "60\n",
      "59\n",
      "58\n",
      "57\n",
      "56\n"
     ]
    }
   ],
   "source": [
    "for i in range(97,55,-1):\n",
    "    print(i)"
   ]
  },
  {
   "cell_type": "code",
   "execution_count": 52,
   "id": "41255db3-d50c-49a1-8d6f-8f0f0b9bcee5",
   "metadata": {},
   "outputs": [
    {
     "name": "stdout",
     "output_type": "stream",
     "text": [
      "sum 2 i 2\n",
      "sum 5 i 3\n",
      "sum 9 i 4\n",
      "sum 14 i 5\n",
      "sum 20 i 6\n",
      "sum 27 i 7\n",
      "sum 35 i 8\n"
     ]
    }
   ],
   "source": [
    "  sum=0\n",
    "for i in range(2,9,1):\n",
    "    sum=sum+i\n",
    "    print(\"sum\",sum,\"i=>\",i)\n",
    "    "
   ]
  },
  {
   "cell_type": "code",
   "execution_count": 88,
   "id": "581c1f8e-22b3-4fa8-b458-9f19acd36590",
   "metadata": {},
   "outputs": [
    {
     "name": "stdout",
     "output_type": "stream",
     "text": [
      "sum 2542 i 67\n"
     ]
    }
   ],
   "source": [
    "  sum=0\n",
    "for i in range(97,66,-1):\n",
    "    sum=sum+i\n",
    "print(\"sum\",sum,\"i\",i)\n",
    "    \n",
    "    "
   ]
  },
  {
   "cell_type": "code",
   "execution_count": 84,
   "id": "f003a4a0-095a-4174-a019-dab8aea6be5c",
   "metadata": {},
   "outputs": [
    {
     "name": "stdout",
     "output_type": "stream",
     "text": [
      "count 30\n"
     ]
    }
   ],
   "source": [
    "count=0\n",
    "for i in range(7,37):\n",
    "    count=count+1\n",
    "print(\"count\",count)\n",
    "    "
   ]
  },
  {
   "cell_type": "code",
   "execution_count": 92,
   "id": "958f9da4-4e07-494e-8ff1-4ec227cff77b",
   "metadata": {},
   "outputs": [
    {
     "name": "stdout",
     "output_type": "stream",
     "text": [
      "j\n",
      "a\n",
      "i\n",
      "p\n",
      "u\n",
      "r\n"
     ]
    }
   ],
   "source": [
    "data=\"jaipur\"\n",
    "for i in data:\n",
    "    print(i)"
   ]
  },
  {
   "cell_type": "code",
   "execution_count": 104,
   "id": "55937acd-2ed2-49a5-93d5-242d66ece3ac",
   "metadata": {},
   "outputs": [
    {
     "name": "stdout",
     "output_type": "stream",
     "text": [
      "0 j\n",
      "1 a\n",
      "2 i\n",
      "3 p\n",
      "4 u\n",
      "5 r\n"
     ]
    }
   ],
   "source": [
    "data=\"jaipur\"\n",
    "for i in range(0,6):\n",
    "    print(i, data[i])"
   ]
  },
  {
   "cell_type": "code",
   "execution_count": 110,
   "id": "974dc583-450d-4573-b389-fb09ad09760f",
   "metadata": {},
   "outputs": [
    {
     "name": "stdout",
     "output_type": "stream",
     "text": [
      "16\n",
      "0 j\n",
      "1 a\n",
      "2 i\n",
      "3 p\n",
      "4 u\n",
      "5 r\n",
      "6  \n",
      "7 r\n",
      "8 a\n",
      "9 j\n",
      "10 a\n",
      "11 s\n",
      "12 t\n",
      "13 h\n",
      "14 a\n",
      "15 n\n"
     ]
    }
   ],
   "source": [
    "data=\"jaipur rajasthan\"\n",
    "print(len(data))\n",
    "for i in range(0,16):\n",
    "    print(i, data[i])"
   ]
  },
  {
   "cell_type": "code",
   "execution_count": null,
   "id": "b15cf884-87bd-4a40-9ff0-6f6b66e50c8e",
   "metadata": {},
   "outputs": [],
   "source": []
  }
 ],
 "metadata": {
  "kernelspec": {
   "display_name": "Python [conda env:base] *",
   "language": "python",
   "name": "conda-base-py"
  },
  "language_info": {
   "codemirror_mode": {
    "name": "ipython",
    "version": 3
   },
   "file_extension": ".py",
   "mimetype": "text/x-python",
   "name": "python",
   "nbconvert_exporter": "python",
   "pygments_lexer": "ipython3",
   "version": "3.12.7"
  }
 },
 "nbformat": 4,
 "nbformat_minor": 5
}
