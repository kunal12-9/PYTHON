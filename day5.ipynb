{
 "cells": [
  {
   "cell_type": "code",
   "execution_count": 1,
   "id": "9aa38a5f-1b87-40ab-b80c-3a170c75e419",
   "metadata": {},
   "outputs": [
    {
     "name": "stdout",
     "output_type": "stream",
     "text": [
      "hey 1\n",
      "hey 2\n",
      "hey 3\n",
      "hey 4\n"
     ]
    }
   ],
   "source": [
    "i=1\n",
    "while(i<5):\n",
    "    print(\"hey\",i)\n",
    "    i=i+1"
   ]
  },
  {
   "cell_type": "code",
   "execution_count": 3,
   "id": "e9e4f738-f5ee-41ef-bd13-4a61b576719b",
   "metadata": {},
   "outputs": [
    {
     "name": "stdout",
     "output_type": "stream",
     "text": [
      "even 50 odd\n",
      "even 48 odd\n",
      "even 46 odd\n",
      "even 44 odd\n",
      "even 42 odd\n",
      "even 40 odd\n",
      "even 38 odd\n",
      "even 36 odd\n",
      "even 34 odd\n",
      "even 32 odd\n",
      "even 30 odd\n",
      "even 28 odd\n",
      "even 26 odd\n",
      "even 24 "
     ]
    }
   ],
   "source": [
    "i=50\n",
    "while(i>=24):\n",
    "    if(i%2==0):\n",
    "        print(\"even\",i,end=\" \")\n",
    "    else:\n",
    "        print(\"odd\")\n",
    "    i=i-1"
   ]
  },
  {
   "cell_type": "code",
   "execution_count": 14,
   "id": "ef0211ce-03cf-46a0-8acf-2a85519c81cc",
   "metadata": {},
   "outputs": [
    {
     "name": "stdout",
     "output_type": "stream",
     "text": [
      "896\n",
      "14\n"
     ]
    }
   ],
   "source": [
    "i=n=125633\n",
    "\n",
    "odd=0\n",
    "count=0\n",
    "while(i>=51):\n",
    "    if(i%2==0):\n",
    "       print(\"\",end=\"\")\n",
    "    else:\n",
    "        print(\"\",end=\"\")\n",
    "        odd+=i\n",
    "        count=count+1\n",
    "    i=i-1\n",
    "print(odd)\n",
    "print(count)"
   ]
  },
  {
   "cell_type": "code",
   "execution_count": 24,
   "id": "cd76c142-0747-4709-8b8b-a873e6a1b9ff",
   "metadata": {},
   "outputs": [
    {
     "name": "stdout",
     "output_type": "stream",
     "text": [
      "number 1254 reminder 2\n",
      "number 125 reminder 4\n",
      "number 12 reminder 5\n",
      "number 1 reminder 2\n",
      "number 0 reminder 1\n"
     ]
    }
   ],
   "source": [
    "n=12542\n",
    "while(n>0):\n",
    "    rem=n%10\n",
    "    n=n//10\n",
    "    print(\"number\",n,\"reminder\",rem)"
   ]
  },
  {
   "cell_type": "code",
   "execution_count": 44,
   "id": "a75d89f0-2aaa-496b-bacf-7ef04c228498",
   "metadata": {},
   "outputs": [
    {
     "name": "stdout",
     "output_type": "stream",
     "text": [
      "armstrongnumber\n"
     ]
    }
   ],
   "source": [
    "n=153\n",
    "temp=n\n",
    "sum=0\n",
    "while(n>0):\n",
    "    rem=n%10\n",
    "    n=n//10\n",
    "    sum=sum+rem**3\n",
    "if(temp==sum):\n",
    "    print(\"armstrongnumber\")\n",
    "else:\n",
    "    print(\"not\")"
   ]
  },
  {
   "cell_type": "code",
   "execution_count": null,
   "id": "49e93b7b-c43b-4be1-8058-e67256bdeca2",
   "metadata": {},
   "outputs": [],
   "source": [
    "i=3\n",
    "j=0\n",
    "    while(i<=42):\n",
    "    if(i%3==0):\n",
    "        j+=i\n",
    "    else:\n",
    "    print(\"\",end=\"\")\n",
    "    i=i+1\n",
    "print(j)"
   ]
  }
 ],
 "metadata": {
  "kernelspec": {
   "display_name": "Python [conda env:base] *",
   "language": "python",
   "name": "conda-base-py"
  },
  "language_info": {
   "codemirror_mode": {
    "name": "ipython",
    "version": 3
   },
   "file_extension": ".py",
   "mimetype": "text/x-python",
   "name": "python",
   "nbconvert_exporter": "python",
   "pygments_lexer": "ipython3",
   "version": "3.12.7"
  }
 },
 "nbformat": 4,
 "nbformat_minor": 5
}
