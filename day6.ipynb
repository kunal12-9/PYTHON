{
 "cells": [
  {
   "cell_type": "code",
   "execution_count": 25,
   "id": "a7a3f1f2-d6eb-4d1f-bfc1-81b33f06a1e3",
   "metadata": {},
   "outputs": [
    {
     "name": "stdout",
     "output_type": "stream",
     "text": [
      "not a prime number\n"
     ]
    }
   ],
   "source": [
    "num=35\n",
    "a=0\n",
    "for i in range(2,num):\n",
    "    if(num%i==0):\n",
    "        print(\"not a prime number\")\n",
    "        a=1\n",
    "        break\n",
    "\n",
    "if(a==0):\n",
    "    print(\"prime number\",num)"
   ]
  },
  {
   "cell_type": "code",
   "execution_count": null,
   "id": "61e1a205-2bc4-423c-90b2-f6846c7f1a57",
   "metadata": {},
   "outputs": [],
   "source": []
  }
 ],
 "metadata": {
  "kernelspec": {
   "display_name": "Python [conda env:base] *",
   "language": "python",
   "name": "conda-base-py"
  },
  "language_info": {
   "codemirror_mode": {
    "name": "ipython",
    "version": 3
   },
   "file_extension": ".py",
   "mimetype": "text/x-python",
   "name": "python",
   "nbconvert_exporter": "python",
   "pygments_lexer": "ipython3",
   "version": "3.12.7"
  }
 },
 "nbformat": 4,
 "nbformat_minor": 5
}
