{
 "cells": [
  {
   "cell_type": "code",
   "execution_count": 31,
   "id": "73492f70-12e7-4cfb-83e6-166e72c460dc",
   "metadata": {},
   "outputs": [
    {
     "name": "stdout",
     "output_type": "stream",
     "text": [
      "{10: 40, 20: 50, 300: 60}\n"
     ]
    }
   ],
   "source": [
    "#1.byzip\n",
    "l1=[10,20,300]\n",
    "l2=[40,50,60]\n",
    "dic={}\n",
    "for i,j in zip(l1,l2):\n",
    "    dic[i]=j\n",
    "print(dic)"
   ]
  },
  {
   "cell_type": "code",
   "execution_count": 44,
   "id": "cb85b909-5a3b-433c-8640-e8624484a400",
   "metadata": {},
   "outputs": [
    {
     "data": {
      "text/plain": [
       "{10: 40, 20: 50, 300: 60}"
      ]
     },
     "execution_count": 44,
     "metadata": {},
     "output_type": "execute_result"
    }
   ],
   "source": [
    "#1(b)without zip\n",
    "l1=[10,20,300]\n",
    "l2=[40,50,60]\n",
    "dic={}\n",
    "for i in range(len(l1)):\n",
    " dic[l1[i]]=l2[i]\n",
    "dic"
   ]
  },
  {
   "cell_type": "code",
   "execution_count": 2,
   "id": "bf7f075b-6931-49f8-be51-f62362e8e797",
   "metadata": {},
   "outputs": [
    {
     "name": "stdin",
     "output_type": "stream",
     "text": [
      "enter the score 6\n"
     ]
    },
    {
     "name": "stdout",
     "output_type": "stream",
     "text": [
      "kartik\n",
      "ajay\n"
     ]
    }
   ],
   "source": [
    "#2\n",
    "di={\"name\":['kunal','rahul'],\n",
    "    \"marks\":[40,50]}\n",
    "score=int(input(\"enter the score\"))\n",
    "a=0\n",
    "for i in di[\"marks\"]:\n",
    "    if score<i:\n",
    "        print(di[\"name\"][a])\n",
    "    a+=1"
   ]
  },
  {
   "cell_type": "code",
   "execution_count": 8,
   "id": "f6dd13af-5327-44cb-8a08-082a23563690",
   "metadata": {},
   "outputs": [
    {
     "name": "stdout",
     "output_type": "stream",
     "text": [
      "{'x': 25, 'y': 49, 'z': 100}\n"
     ]
    }
   ],
   "source": [
    "#4\n",
    "dic= {\"x\":5, \"y\":7, \"z\":10}\n",
    "dic2={}\n",
    "for i in dic:\n",
    "    dic2[i]=dic[i]**2\n",
    "print(dic2)"
   ]
  },
  {
   "cell_type": "code",
   "execution_count": 13,
   "id": "9d22220a-e93f-424c-ada9-1050f9397954",
   "metadata": {},
   "outputs": [
    {
     "name": "stdout",
     "output_type": "stream",
     "text": [
      "{1: 1, 2: 8, 3: 27, 4: 64, 5: 125}\n"
     ]
    }
   ],
   "source": [
    "#5\n",
    "dic={}\n",
    "for i in range(1,6):\n",
    "    dic[i]=i**3\n",
    "print(dic)"
   ]
  },
  {
   "cell_type": "code",
   "execution_count": 1,
   "id": "ed21bd79-ac5c-4675-ada8-91f6a46da8b1",
   "metadata": {},
   "outputs": [
    {
     "name": "stdout",
     "output_type": "stream",
     "text": [
      "{'average': 7.3, 'max': 10}\n"
     ]
    }
   ],
   "source": [
    "#6\n",
    "a= {\"x\":5, \"y\":7, \"z\":10}\n",
    "di={}\n",
    "b=0\n",
    "max=0\n",
    "for i in a:\n",
    "    if a[i]>max:\n",
    "        max=a[i]\n",
    "for i in a:\n",
    "    b+=a[i]\n",
    "di['average']=round(b/len(a),1)\n",
    "di['max']=max\n",
    "print(di)"
   ]
  },
  {
   "cell_type": "code",
   "execution_count": null,
   "id": "3986ff8a-e16c-4a3c-815a-1906b0a14554",
   "metadata": {},
   "outputs": [],
   "source": []
  }
 ],
 "metadata": {
  "kernelspec": {
   "display_name": "Python 3 (ipykernel)",
   "language": "python",
   "name": "python3"
  },
  "language_info": {
   "codemirror_mode": {
    "name": "ipython",
    "version": 3
   },
   "file_extension": ".py",
   "mimetype": "text/x-python",
   "name": "python",
   "nbconvert_exporter": "python",
   "pygments_lexer": "ipython3",
   "version": "3.10.11"
  }
 },
 "nbformat": 4,
 "nbformat_minor": 5
}
