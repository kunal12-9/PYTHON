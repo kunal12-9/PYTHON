{
 "cells": [
  {
   "cell_type": "code",
   "execution_count": 129,
   "id": "79e5f73d-4f09-4f0f-b19d-0fdb00ab503e",
   "metadata": {},
   "outputs": [
    {
     "name": "stdin",
     "output_type": "stream",
     "text": [
      " 16\n"
     ]
    },
    {
     "name": "stdout",
     "output_type": "stream",
     "text": [
      "number is even\n"
     ]
    }
   ],
   "source": [
    "#1\n",
    "num=int(input(\"enter the number\"))\n",
    "if(a%2==0):\n",
    "    print(\"number is even\")\n",
    "else:\n",
    "    print(\"number is odd\")\n",
    "\n"
   ]
  },
  {
   "cell_type": "code",
   "execution_count": 95,
   "id": "ad09e671-89d2-4bf6-bf51-09d91c28da98",
   "metadata": {},
   "outputs": [
    {
     "name": "stdin",
     "output_type": "stream",
     "text": [
      "enter the number a 5\n",
      "enter the number b 6\n",
      "enter the number c 3\n"
     ]
    },
    {
     "name": "stdout",
     "output_type": "stream",
     "text": [
      "b is largest\n"
     ]
    }
   ],
   "source": [
    "#2\n",
    "a=int(input(\"enter the number a\"))\n",
    "b=int(input(\"enter the number b\"))\n",
    "c=int(input(\"enter the number c\"))\n",
    "if(a>b and a>c):\n",
    "    print(\"a is largest\")\n",
    "elif(b>a and b>c):\n",
    "    print(\"b is largest\")\n",
    "else:\n",
    "    print(\"c is largest\")\n",
    "    "
   ]
  },
  {
   "cell_type": "code",
   "execution_count": 93,
   "id": "3be1d2a1-475e-454b-9c99-a6c015726dbe",
   "metadata": {},
   "outputs": [
    {
     "name": "stdin",
     "output_type": "stream",
     "text": [
      "enter the year 2024\n"
     ]
    },
    {
     "name": "stdout",
     "output_type": "stream",
     "text": [
      "its a leap year\n"
     ]
    }
   ],
   "source": [
    "#3\n",
    "year=int(input(\"enter the year\"))\n",
    "if(year%4==0 and year%100!=0)or (year%400==0):\n",
    "    print(\"its a leap year\")\n",
    "else:\n",
    "    print(\"its not leap year\")\n"
   ]
  },
  {
   "cell_type": "code",
   "execution_count": 91,
   "id": "635995b7-bea2-4e69-b33b-f99bafc96b77",
   "metadata": {},
   "outputs": [
    {
     "name": "stdin",
     "output_type": "stream",
     "text": [
      "enter the percentage 58.5\n"
     ]
    },
    {
     "name": "stdout",
     "output_type": "stream",
     "text": [
      "grade is F\n"
     ]
    }
   ],
   "source": [
    "#4\n",
    "percentage=float(input(\"enter the percentage\"))\n",
    "if(percentage>=90 and percentage<=100):\n",
    "    print(\"grade is A\")\n",
    "elif(percentage>=80 and percentage<90):\n",
    "    print(\"grade is B\")\n",
    "elif(percentage>=70 and percentage<80):\n",
    "    print(\"grade is C\")\n",
    "elif(percentage>=60 and percentage<70):\n",
    "    print(\"grade is D\")\n",
    "elif(percentage<60 and percentage>=0):\n",
    "    print(\"grade is F\")\n",
    "else:\n",
    "    print(\"not valid\")"
   ]
  },
  {
   "cell_type": "code",
   "execution_count": 127,
   "id": "6104d1e0-e5c8-4434-8ed3-9a07cda970eb",
   "metadata": {},
   "outputs": [
    {
     "name": "stdin",
     "output_type": "stream",
     "text": [
      " o\n"
     ]
    },
    {
     "name": "stdout",
     "output_type": "stream",
     "text": [
      "vowel\n"
     ]
    }
   ],
   "source": [
    "#5\n",
    "a=(input())\n",
    "if(a=='a' or a=='e' or a=='i' or a=='o' or a=='u'):\n",
    "    print(\"vowel\")\n",
    "else:\n",
    "    print(\"consonet\")\n",
    "    "
   ]
  },
  {
   "cell_type": "code",
   "execution_count": 169,
   "id": "65bb7a91-c588-43e4-9c57-c090dcdf6f15",
   "metadata": {},
   "outputs": [
    {
     "name": "stdin",
     "output_type": "stream",
     "text": [
      " multi\n",
      " 58\n",
      " 98\n"
     ]
    },
    {
     "name": "stdout",
     "output_type": "stream",
     "text": [
      "5684\n"
     ]
    }
   ],
   "source": [
    "#6\n",
    "a=(input())\n",
    "if(a=='add'):\n",
    "    a=int(input())\n",
    "    b=int(input())\n",
    "    c=a+b\n",
    "    print(c)\n",
    "elif(a=='sub'):\n",
    "    a=int(input())\n",
    "    b=int(input())\n",
    "    c=a-b\n",
    "    print(c)\n",
    "elif(a=='multi'):\n",
    "    a=int(input())\n",
    "    b=int(input())\n",
    "    c=a*b\n",
    "    print(c)\n",
    "elif(a=='divi'):\n",
    "    a=int(input())\n",
    "    b=int(input())\n",
    "    c=a/b\n",
    "    print(c)\n",
    "else:\n",
    "    print(\"input is not matched\")\n",
    "    "
   ]
  },
  {
   "cell_type": "code",
   "execution_count": 3,
   "id": "1f0fbaaa-4435-4836-b382-33824e696b60",
   "metadata": {},
   "outputs": [
    {
     "name": "stdin",
     "output_type": "stream",
     "text": [
      " 5\n"
     ]
    },
    {
     "name": "stdout",
     "output_type": "stream",
     "text": [
      "number is positive\n"
     ]
    }
   ],
   "source": [
    "#7\n",
    "num=int(input('enter the number'))\n",
    "if(num>0):\n",
    "    print(\"number is positive\")\n",
    "elif(num<0):\n",
    "    print(\"number is negative\")\n",
    "else:\n",
    "    print(\"number is zero\")"
   ]
  },
  {
   "cell_type": "code",
   "execution_count": 53,
   "id": "80a7368c-5f3e-414a-bd40-160cabba1dd5",
   "metadata": {},
   "outputs": [
    {
     "name": "stdin",
     "output_type": "stream",
     "text": [
      "enter the user name admin\n",
      " 1234\n"
     ]
    },
    {
     "name": "stdout",
     "output_type": "stream",
     "text": [
      "login succsesful\n"
     ]
    }
   ],
   "source": [
    "#8\n",
    "username=(input('enter the user name'))\n",
    "password=int(input('enter the password'))\n",
    "if(username=='admin' and password==1234):\n",
    "    print(\"login succsesful\")\n",
    "else:\n",
    "    print(\"not valid\")"
   ]
  },
  {
   "cell_type": "code",
   "execution_count": 87,
   "id": "4a1986cf-36bb-4409-ae5a-1dced0eef279",
   "metadata": {},
   "outputs": [
    {
     "name": "stdin",
     "output_type": "stream",
     "text": [
      "enter the value a 40\n",
      "enter the value b 50\n",
      "enter the value c 90\n"
     ]
    },
    {
     "name": "stdout",
     "output_type": "stream",
     "text": [
      "triangle\n"
     ]
    }
   ],
   "source": [
    "#9\n",
    "a=int(input(\"enter the value a\"))\n",
    "b=int(input(\"enter the value b\"))\n",
    "c=int(input(\"enter the value c\"))\n",
    "if(a<b+c or b<a+c or c<a+b):\n",
    "    print(\"triangle\")\n",
    "else:\n",
    "    print(\"not valid\")\n",
    "    \n"
   ]
  },
  {
   "cell_type": "code",
   "execution_count": 155,
   "id": "bb8a8502-c132-4fe7-90af-73b318e5bf40",
   "metadata": {},
   "outputs": [
    {
     "name": "stdin",
     "output_type": "stream",
     "text": [
      " 50\n",
      " 5\n"
     ]
    },
    {
     "name": "stdout",
     "output_type": "stream",
     "text": [
      "underwight\n"
     ]
    }
   ],
   "source": [
    "#10\n",
    "height=int(input(\"enter the height\"))\n",
    "weight=int(input(\"enter the weight\"))\n",
    "bmi=weight / (height ** 2)\n",
    "if(bmi<18.5):\n",
    "    print(\"underwight\")\n",
    "elif(bmi>=18.5 and bmi<=24.9):\n",
    "    print(\"normal\")\n",
    "elif(bmi>=25 and bmi<=29.9):\n",
    "    print(\"overwieght\")\n",
    "else:\n",
    "    print(\"obesity\")"
   ]
  }
 ],
 "metadata": {
  "kernelspec": {
   "display_name": "Python [conda env:base] *",
   "language": "python",
   "name": "conda-base-py"
  },
  "language_info": {
   "codemirror_mode": {
    "name": "ipython",
    "version": 3
   },
   "file_extension": ".py",
   "mimetype": "text/x-python",
   "name": "python",
   "nbconvert_exporter": "python",
   "pygments_lexer": "ipython3",
   "version": "3.12.7"
  }
 },
 "nbformat": 4,
 "nbformat_minor": 5
}
