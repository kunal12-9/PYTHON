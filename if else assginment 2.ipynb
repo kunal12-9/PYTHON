{
 "cells": [
  {
   "cell_type": "code",
   "execution_count": 13,
   "id": "215f7a68-698d-4ab7-a617-8cae4653499e",
   "metadata": {},
   "outputs": [
    {
     "name": "stdin",
     "output_type": "stream",
     "text": [
      "enter the price 1500\n"
     ]
    },
    {
     "name": "stdout",
     "output_type": "stream",
     "text": [
      "1350.0\n"
     ]
    }
   ],
   "source": [
    "#11\n",
    "price = int(input(\"enter the price\"))\n",
    "if(price>1000):\n",
    "    discount=price*0.90\n",
    "    print(discount)\n",
    "elif(price>=500 and price<=1000):\n",
    "    discount=price*0.95\n",
    "    print(discount)\n",
    "else:\n",
    "    print(\"no discount\")\n",
    "    \n"
   ]
  },
  {
   "cell_type": "code",
   "execution_count": 37,
   "id": "f921c298-6c67-4b4a-8c2c-6cdac93e8307",
   "metadata": {},
   "outputs": [
    {
     "name": "stdin",
     "output_type": "stream",
     "text": [
      "enter the month april\n"
     ]
    },
    {
     "name": "stdout",
     "output_type": "stream",
     "text": [
      "30 days\n"
     ]
    }
   ],
   "source": [
    "#12\n",
    "month=(input(\"enter the month\"))\n",
    "if(month=='jan'):\n",
    "    print(\"31 days\")\n",
    "elif(month=='feb'):\n",
    "    print(\"29 days\")\n",
    "elif(month=='march'):\n",
    "    print(\"31 days\")\n",
    "elif(month=='april'):\n",
    "    print(\"30 days\")\n",
    "elif(month=='may'):\n",
    "    print(\"31 days\")\n",
    "elif(month=='jun'):\n",
    "    print(\"30 days\")\n",
    "elif(month=='july'):\n",
    "    print(\"31 days\")\n",
    "elif(month=='aug'):\n",
    "    print(\"31 days\")\n",
    "elif(month=='september'):\n",
    "    print(\"30 days\")\n",
    "elif(month=='oct'):\n",
    "    print(\"31 days\")\n",
    "elif(month=='nov'):\n",
    "    print(\"30 days\")\n",
    "elif(month=='dec'):\n",
    "    print(\"31 days\")\n",
    "else:\n",
    "    print(\"input not matched\")\n",
    "\n",
    "\n",
    "\n"
   ]
  },
  {
   "cell_type": "code",
   "execution_count": 13,
   "id": "ba463113-8079-4079-adcf-077fe7b3a3b9",
   "metadata": {},
   "outputs": [
    {
     "name": "stdout",
     "output_type": "stream",
     "text": [
      "1 for balance check\n",
      "2 for Deposit\n",
      "3 for Withdraw\n"
     ]
    },
    {
     "name": "stdin",
     "output_type": "stream",
     "text": [
      "enter  your choice 3\n",
      "enter the number withdraw money  5000\n"
     ]
    },
    {
     "name": "stdout",
     "output_type": "stream",
     "text": [
      "you balence now 23000\n"
     ]
    }
   ],
   "source": [
    "#13\n",
    "balence=28000\n",
    "print(\"1 for balance check\")\n",
    "print(\"2 for Deposit\")\n",
    "print(\"3 for Withdraw\")\n",
    "choice=int(input(\"enter  your choice\"))\n",
    "if(choice==1):\n",
    "    print(balence)\n",
    "elif(choice==2):\n",
    "    Deposit=int(input(\"enter the add money it \")) \n",
    "    balence=balence+Deposit\n",
    "    print(\"balence is\",balence) \n",
    "elif(choice==3):\n",
    "       Withdraw =int(input(\"enter the number withdraw money \")) \n",
    "       if(Withdraw>0 and Withdraw<28001):\n",
    "           balence=balence-Withdraw\n",
    "           print(\"you balence now\",balence)\n",
    "       else:\n",
    "           print(\"unsufficient balance\")\n"
   ]
  },
  {
   "cell_type": "code",
   "execution_count": null,
   "id": "7f5ef774-f03d-4f66-821c-ab43e612c1da",
   "metadata": {},
   "outputs": [],
   "source": [
    "#14\n",
    "age=int(input(\"enter the number\"))\n",
    "if(age>=0 and age<=1):\n",
    " print(\"infant\")\n",
    "elif(age>=2 and age<=4):\n",
    " print(\"Toddler\")\n",
    "elif(age>=5 and age<=12):\n",
    " print(\"Child\")\n",
    "elif(age>=13 and age<=19):\n",
    " print(\"Teenager\")\n",
    "elif(age>=20 and age<=59):\n",
    " print(\"Adult\")\n",
    "elif(age>=60):\n",
    " print(\"Senior\")\n",
    "else:\n",
    "    print(\"wrong input\")"
   ]
  }
 ],
 "metadata": {
  "kernelspec": {
   "display_name": "Python [conda env:base] *",
   "language": "python",
   "name": "conda-base-py"
  },
  "language_info": {
   "codemirror_mode": {
    "name": "ipython",
    "version": 3
   },
   "file_extension": ".py",
   "mimetype": "text/x-python",
   "name": "python",
   "nbconvert_exporter": "python",
   "pygments_lexer": "ipython3",
   "version": "3.12.7"
  }
 },
 "nbformat": 4,
 "nbformat_minor": 5
}
