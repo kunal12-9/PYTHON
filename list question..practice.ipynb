{
 "cells": [
  {
   "cell_type": "code",
   "execution_count": 24,
   "id": "e7e793a8-2e52-42b0-9678-f7d1891d6fd3",
   "metadata": {},
   "outputs": [
    {
     "name": "stdout",
     "output_type": "stream",
     "text": [
      "maximum 99\n"
     ]
    }
   ],
   "source": [
    "#1\n",
    "list1=[10,20,4,45,99]\n",
    "maxium=0\n",
    "for i in list1:\n",
    "    if (i>maxium):\n",
    "        maxium=i\n",
    "print(\"maximum\",maxium)"
   ]
  },
  {
   "cell_type": "code",
   "execution_count": 10,
   "id": "7c9b7d21-46f9-48f5-8faf-fe503a02fcf2",
   "metadata": {},
   "outputs": [
    {
     "name": "stdout",
     "output_type": "stream",
     "text": [
      "100\n"
     ]
    }
   ],
   "source": [
    "#2\n",
    "l1=[10,20,30,40]\n",
    "total=0\n",
    "for i in l1:\n",
    "    total+=i\n",
    "print(total)"
   ]
  },
  {
   "cell_type": "code",
   "execution_count": 18,
   "id": "b8334eb6-7453-4345-ab37-4a7fc0a4554c",
   "metadata": {},
   "outputs": [
    {
     "data": {
      "text/plain": [
       "[5, 4, 3, 2, 1]"
      ]
     },
     "execution_count": 18,
     "metadata": {},
     "output_type": "execute_result"
    }
   ],
   "source": [
    "#3\n",
    "list1 = [1, 2, 3, 4, 5]\n",
    "list2 = []\n",
    "for i in range(len(list1),0,-1):\n",
    "    list2.append(i)\n",
    "list2  "
   ]
  },
  {
   "cell_type": "code",
   "execution_count": 28,
   "id": "833e26f6-f536-4c36-9610-a76ce2ae1439",
   "metadata": {},
   "outputs": [
    {
     "name": "stdout",
     "output_type": "stream",
     "text": [
      "[2, 8, 10, 20]\n"
     ]
    }
   ],
   "source": [
    "#4\n",
    "mylist=[10,20,8,2]\n",
    "for i in range(0,len(mylist)):\n",
    "    for j in range(i+1,len(mylist)):\n",
    "        if(mylist[i]>mylist[j]):\n",
    "            temp=mylist[i]\n",
    "            mylist[i]=mylist[j]\n",
    "            mylist[j]=temp\n",
    "print(mylist)"
   ]
  },
  {
   "cell_type": "code",
   "execution_count": 11,
   "id": "42b1c821-f9f8-4e39-92a2-ad23793c3ffe",
   "metadata": {},
   "outputs": [
    {
     "name": "stdout",
     "output_type": "stream",
     "text": [
      "[1, 2, 3, 4, 5]\n"
     ]
    }
   ],
   "source": [
    "#5\n",
    "list1=[1, 2, 2, 3, 4, 4, 5]\n",
    "list2=[]\n",
    "for i in list1:\n",
    "    if i not in list2:\n",
    "        list2.append(i)\n",
    "print(list2)"
   ]
  },
  {
   "cell_type": "code",
   "execution_count": 12,
   "id": "d2d7caf5-bc10-43f3-b4c3-1227d5aa4802",
   "metadata": {},
   "outputs": [
    {
     "name": "stdout",
     "output_type": "stream",
     "text": [
      "[(1, 5), (2, 4), (3, 3)]\n"
     ]
    }
   ],
   "source": [
    "#6\n",
    "list1=[1,2,3,4,5,6]\n",
    "target=6\n",
    "touple=()\n",
    "l2=[]\n",
    "for i in range(0,len(list1)):\n",
    "    for j in range(i,len(list1)):\n",
    "        if(list1[i]+list1[j]==target):\n",
    "            s=(list1[i], list1[j])\n",
    "            l2.append(s)\n",
    "print(l2)             "
   ]
  },
  {
   "cell_type": "code",
   "execution_count": 11,
   "id": "d07d3d56-4edf-4934-aa18-42e1e7b90b4a",
   "metadata": {},
   "outputs": [
    {
     "name": "stdout",
     "output_type": "stream",
     "text": [
      "9\n"
     ]
    }
   ],
   "source": [
    "#8\n",
    "list1=[1, 2, 3, 4, 5]\n",
    "total=0\n",
    "for i in range(1,len(list1)-1):\n",
    "    total+=list1[i]\n",
    "print(total)\n",
    "    "
   ]
  },
  {
   "cell_type": "code",
   "execution_count": 38,
   "id": "a44410b3-e5ad-4287-a0f8-297f5b3a7879",
   "metadata": {},
   "outputs": [
    {
     "name": "stdout",
     "output_type": "stream",
     "text": [
      "True\n"
     ]
    }
   ],
   "source": [
    "#9\n",
    "numbers = [1, 2, 3,2,1]\n",
    "start=0\n",
    "end=len(numbers)-1\n",
    "pallendrome=True\n",
    "while(start<end):\n",
    "    if numbers[start]!=numbers[end]:\n",
    "        pallendrome=False\n",
    "        break\n",
    "    start+=1\n",
    "    end-=1\n",
    "print(pallendrome)\n"
   ]
  },
  {
   "cell_type": "code",
   "execution_count": 9,
   "id": "ddc36eb1-77e7-4faa-9b91-72a7e83b12e1",
   "metadata": {},
   "outputs": [
    {
     "name": "stdout",
     "output_type": "stream",
     "text": [
      "[1, 2, 3, 4, 5, 6]\n"
     ]
    }
   ],
   "source": [
    "#10\n",
    "num=[1,2,3,2,4,5,1,6]\n",
    "num2=[]\n",
    "for i in num:\n",
    "    if i not in num2:\n",
    "        num2.append(i)\n",
    "print(num2)"
   ]
  },
  {
   "cell_type": "code",
   "execution_count": 5,
   "id": "c8169d35-6556-4f66-a111-88630dda1bc5",
   "metadata": {},
   "outputs": [
    {
     "name": "stdout",
     "output_type": "stream",
     "text": [
      "[3, 4, 5]\n"
     ]
    }
   ],
   "source": [
    "#11\n",
    "list1=[1, 2, 3, 4, 5]\n",
    "list2=[3, 4, 5, 6, 7]\n",
    "list3=[]\n",
    "for i in list1:\n",
    "    for j in list2:\n",
    "        if i==j and i not in list3:\n",
    "            list3.append(i)\n",
    "print(list3)"
   ]
  },
  {
   "cell_type": "code",
   "execution_count": 15,
   "id": "7f0053ea-e82f-4fce-ab59-a7a292a04dc6",
   "metadata": {},
   "outputs": [
    {
     "name": "stdout",
     "output_type": "stream",
     "text": [
      "strawberry\n"
     ]
    }
   ],
   "source": [
    "#12\n",
    "words = [\"apple\",\"banana\",\"strawberry\",\"kiwi\"]\n",
    "longest = \"\"\n",
    "for i in words:\n",
    "    if len(i)>len(longest):\n",
    "        longest=i\n",
    "print(longest)\n"
   ]
  },
  {
   "cell_type": "code",
   "execution_count": 19,
   "id": "7db92ade-7d45-4850-9e67-387b6d514c9e",
   "metadata": {},
   "outputs": [
    {
     "name": "stdout",
     "output_type": "stream",
     "text": [
      "6\n"
     ]
    }
   ],
   "source": [
    "#13\n",
    "list1=[0,1, 2, 3, 4, 5,7,8]\n",
    "for i in range (0,len(list1)):\n",
    "    if i not in list1:\n",
    "        print(i)"
   ]
  }
 ],
 "metadata": {
  "kernelspec": {
   "display_name": "Python 3 (ipykernel)",
   "language": "python",
   "name": "python3"
  },
  "language_info": {
   "codemirror_mode": {
    "name": "ipython",
    "version": 3
   },
   "file_extension": ".py",
   "mimetype": "text/x-python",
   "name": "python",
   "nbconvert_exporter": "python",
   "pygments_lexer": "ipython3",
   "version": "3.10.11"
  }
 },
 "nbformat": 4,
 "nbformat_minor": 5
}
