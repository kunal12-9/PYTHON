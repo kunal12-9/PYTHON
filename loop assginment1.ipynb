{
 "cells": [
  {
   "cell_type": "code",
   "execution_count": 23,
   "id": "6f40ffd6-01f6-4fa8-882e-649e6759e28e",
   "metadata": {},
   "outputs": [
    {
     "name": "stdin",
     "output_type": "stream",
     "text": [
      "enter the number 11\n"
     ]
    },
    {
     "name": "stdout",
     "output_type": "stream",
     "text": [
      "1 2 3 4 5 6 7 8 9 10 "
     ]
    }
   ],
   "source": [
    "#1\n",
    "n=int(input(\"enter the number\"))\n",
    "for i in range(1,n):\n",
    "    print(i,end=' ')"
   ]
  },
  {
   "cell_type": "code",
   "execution_count": 29,
   "id": "47822357-8c45-49cb-b4be-28541d16341f",
   "metadata": {},
   "outputs": [
    {
     "name": "stdin",
     "output_type": "stream",
     "text": [
      "enter the number 0\n"
     ]
    },
    {
     "name": "stdout",
     "output_type": "stream",
     "text": [
      "10 9 8 7 6 5 4 3 2 1 "
     ]
    }
   ],
   "source": [
    "#2\n",
    "n=int(input(\"enter the number\"))\n",
    "for i in range(10,n,-1):\n",
    "    print(i,end=' ')"
   ]
  },
  {
   "cell_type": "code",
   "execution_count": 31,
   "id": "7ad3b619-ee90-481d-a8a1-5e3bd5e1a3c8",
   "metadata": {},
   "outputs": [
    {
     "name": "stdout",
     "output_type": "stream",
     "text": [
      "a b c d e f g h i j k l m n o p q r s t u v w x y z "
     ]
    }
   ],
   "source": [
    "#3\n",
    "for a in range(97,123):\n",
    "    print(chr(a),end=' ')\n",
    "    "
   ]
  },
  {
   "cell_type": "code",
   "execution_count": 11,
   "id": "a9ce5314-6e51-4c92-8ba3-88c1664b2959",
   "metadata": {},
   "outputs": [
    {
     "name": "stdout",
     "output_type": "stream",
     "text": [
      "2\n",
      "4\n",
      "6\n",
      "8\n",
      "10\n",
      "12\n",
      "14\n",
      "16\n",
      "18\n",
      "20\n",
      "22\n",
      "24\n",
      "26\n",
      "28\n",
      "30\n",
      "32\n",
      "34\n",
      "36\n",
      "38\n",
      "40\n",
      "42\n",
      "44\n",
      "46\n",
      "48\n",
      "50\n",
      "52\n",
      "54\n",
      "56\n",
      "58\n",
      "60\n",
      "62\n",
      "64\n",
      "66\n",
      "68\n",
      "70\n",
      "72\n",
      "74\n",
      "76\n",
      "78\n",
      "80\n",
      "82\n",
      "84\n",
      "86\n",
      "88\n",
      "90\n",
      "92\n",
      "94\n",
      "96\n",
      "98\n",
      "100\n"
     ]
    }
   ],
   "source": [
    "#4\n",
    "for i in range(1,101):\n",
    "    if(i%2==0):\n",
    "        print(\"even i)"
   ]
  },
  {
   "cell_type": "code",
   "execution_count": 1,
   "id": "da5dab43-46ee-4e9c-93c1-a3e433bcb190",
   "metadata": {},
   "outputs": [
    {
     "name": "stdin",
     "output_type": "stream",
     "text": [
      "enter the number 10\n"
     ]
    },
    {
     "name": "stdout",
     "output_type": "stream",
     "text": [
      "25\n"
     ]
    }
   ],
   "source": [
    "#5 \n",
    "sum=0\n",
    "n=int(input(\"enter the number\"))\n",
    "for i in range(1,n):\n",
    "    if(i%2!=0):\n",
    "        sum=sum+i\n",
    "print(sum)\n",
    "\n"
   ]
  },
  {
   "cell_type": "code",
   "execution_count": 3,
   "id": "4b074eca-8458-4d48-870a-72bd641ad553",
   "metadata": {},
   "outputs": [
    {
     "name": "stdin",
     "output_type": "stream",
     "text": [
      "enter the number of digit 56457\n"
     ]
    },
    {
     "name": "stdout",
     "output_type": "stream",
     "text": [
      "5\n"
     ]
    }
   ],
   "source": [
    "#6\n",
    "n=int(input(\"enter the number of digit\"))\n",
    "count=0\n",
    "for i in range(n,0,-1):\n",
    "   if (i==n):\n",
    "       n=n//10\n",
    "       count+=1\n",
    "print(count)"
   ]
  },
  {
   "cell_type": "code",
   "execution_count": 57,
   "id": "a1bb47ce-90d7-441a-b040-e0d747410a8f",
   "metadata": {},
   "outputs": [
    {
     "name": "stdin",
     "output_type": "stream",
     "text": [
      "enter the number of digit 5689\n"
     ]
    },
    {
     "name": "stdout",
     "output_type": "stream",
     "text": [
      "sum of digit 28\n"
     ]
    }
   ],
   "source": [
    "#7 \n",
    "n=int(input(\"enter the number of digit\"))\n",
    "sum=0\n",
    "for i in range(n,0,-1):\n",
    "    if (i==n):\n",
    "       rem=n%10\n",
    "       n=n//10\n",
    "       sum=sum+rem\n",
    "print(\"sum of digit\",sum)"
   ]
  },
  {
   "cell_type": "code",
   "execution_count": 7,
   "id": "a1157265-9c13-4849-b6f7-2902755a3724",
   "metadata": {},
   "outputs": [
    {
     "name": "stdin",
     "output_type": "stream",
     "text": [
      "enter the digit of number 5468\n"
     ]
    },
    {
     "name": "stdout",
     "output_type": "stream",
     "text": [
      "firstvalue 5 lastvalue 8\n"
     ]
    }
   ],
   "source": [
    "#8\n",
    "n=int(input(\"enter the digit of number\"))\n",
    "lastvalue=n%10\n",
    "firstvalue=0\n",
    "for i in range(n,0,-1):\n",
    "    if (i==n):\n",
    "       firstvalue=n%10\n",
    "       n=n//10\n",
    "print(\"firstvalue\",firstvalue,end=' ')\n",
    "print(\"lastvalue\",lastvalue)"
   ]
  },
  {
   "cell_type": "code",
   "execution_count": 21,
   "id": "65d97e2f-0524-4446-ba7b-22ee8701b1cd",
   "metadata": {},
   "outputs": [
    {
     "name": "stdin",
     "output_type": "stream",
     "text": [
      "enter the digit of number 56982\n"
     ]
    },
    {
     "name": "stdout",
     "output_type": "stream",
     "text": [
      "sum of last and fast digit 7\n"
     ]
    }
   ],
   "source": [
    "#9\n",
    "n=int(input(\"enter the digit of number\"))\n",
    "lastvalue=n%10\n",
    "firstvalue=0\n",
    "for i in range(n,0,-1):\n",
    "    if (i==n):\n",
    "       firstvalue=n%10\n",
    "       n=n//10\n",
    "    sum=firstvalue+lastvalue\n",
    "print(\"sum of last and fast digit\",sum)"
   ]
  },
  {
   "cell_type": "code",
   "execution_count": 9,
   "id": "cb067f23-8856-4d91-80a7-bfb383ec7301",
   "metadata": {},
   "outputs": [
    {
     "name": "stdin",
     "output_type": "stream",
     "text": [
      "enter the digit of number 54698\n"
     ]
    },
    {
     "name": "stdout",
     "output_type": "stream",
     "text": [
      "reverse number of digit 89645\n"
     ]
    }
   ],
   "source": [
    "#10\n",
    "n=int(input(\"enter the digit of number\"))\n",
    "sum=0\n",
    "for i in range(n,0,-1):\n",
    "    if (i==n):\n",
    "       rem=n%10\n",
    "       n=n//10\n",
    "       sum=sum*10+rem\n",
    "print(\"reverse number of digit\",sum)"
   ]
  }
 ],
 "metadata": {
  "kernelspec": {
   "display_name": "Python [conda env:base] *",
   "language": "python",
   "name": "conda-base-py"
  },
  "language_info": {
   "codemirror_mode": {
    "name": "ipython",
    "version": 3
   },
   "file_extension": ".py",
   "mimetype": "text/x-python",
   "name": "python",
   "nbconvert_exporter": "python",
   "pygments_lexer": "ipython3",
   "version": "3.12.7"
  }
 },
 "nbformat": 4,
 "nbformat_minor": 5
}
