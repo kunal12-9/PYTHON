{
 "cells": [
  {
   "cell_type": "code",
   "execution_count": 9,
   "id": "3d0a888e-19d0-43ff-9392-819e70a2d04e",
   "metadata": {},
   "outputs": [
    {
     "name": "stdout",
     "output_type": "stream",
     "text": [
      "1 3 6 10 15 21 28 36 45 55 66 78 91 105 120 136 153 171 190 210 231 253 276 300 325 351 378 406 435 465 496 528 561 595 630 666 703 741 780 820 861 903 946 990 1035 1081 1128 1176 1225 1275 1326 1378 1431 1485 1540 1596 1653 1711 1770 1830 1891 1953 2016 2080 2145 2211 2278 2346 2415 2485 2556 2628 2701 2775 2850 2926 3003 3081 3160 3240 3321 3403 3486 3570 3655 3741 3828 3916 4005 4095 4186 4278 4371 4465 4560 4656 4753 4851 4950 5050 "
     ]
    }
   ],
   "source": [
    "#1\n",
    "k=0\n",
    "for i in range(1,101):\n",
    "    k+=i\n",
    "    print(k,end=' ')"
   ]
  },
  {
   "cell_type": "code",
   "execution_count": 16,
   "id": "b0578e3c-4fab-4b64-9e42-dbdaffe8e143",
   "metadata": {},
   "outputs": [
    {
     "name": "stdin",
     "output_type": "stream",
     "text": [
      "enter the number 60\n"
     ]
    },
    {
     "name": "stdout",
     "output_type": "stream",
     "text": [
      "1 2 3 4 5 6 10 12 15 20 30 60 "
     ]
    }
   ],
   "source": [
    "#2\n",
    "n=int(input(\"enter the number\"))\n",
    "for i in range(1,n+1):\n",
    "    if(n%i==0):\n",
    "        print(i,end=' ')\n"
   ]
  },
  {
   "cell_type": "code",
   "execution_count": 39,
   "id": "f0cb570a-eba2-42fa-a630-9a1823d720b5",
   "metadata": {},
   "outputs": [
    {
     "name": "stdin",
     "output_type": "stream",
     "text": [
      "enter the number 16\n"
     ]
    },
    {
     "name": "stdout",
     "output_type": "stream",
     "text": [
      "number more then two factor\n"
     ]
    }
   ],
   "source": [
    "#3\n",
    "c=0\n",
    "n=int(input(\"enter the number\"))\n",
    "for i in range(1,n+1):\n",
    "    if(n%i==0):\n",
    "       c+=1\n",
    "if(c>2):\n",
    "    print(\"number more then two factor\")\n",
    "else:\n",
    "    print(\"not morethan two factor\")\n",
    "    "
   ]
  },
  {
   "cell_type": "code",
   "execution_count": 48,
   "id": "e79127f5-5b3b-4cad-87ec-e77c047b2237",
   "metadata": {},
   "outputs": [
    {
     "name": "stdout",
     "output_type": "stream",
     "text": [
      "[5, 21]\n"
     ]
    }
   ],
   "source": [
    "#4\n",
    "mylist1=[10,14,5,16]\n",
    "mylist2=[21,14,12,10]\n",
    "mylist3=[]\n",
    "for i in mylist1:\n",
    "    if(i%2!=0):\n",
    "        mylist3.append(i)\n",
    "for j in mylist2:\n",
    "    if(j%2!=0):\n",
    "        mylist3.append(j)\n",
    "print(mylist3)\n",
    "\n",
    "\n"
   ]
  },
  {
   "cell_type": "code",
   "execution_count": 59,
   "id": "18d4bd93-0140-4b1e-b46e-cd908cb17dfc",
   "metadata": {},
   "outputs": [
    {
     "name": "stdout",
     "output_type": "stream",
     "text": [
      "its a pallendrome\n"
     ]
    }
   ],
   "source": [
    "#5\n",
    "n=123454321\n",
    "temp=n\n",
    "sum=0\n",
    "while(n>0):\n",
    "    rem=n%10\n",
    "    sum=sum*10+rem\n",
    "    n=n//10\n",
    "if(temp==sum):\n",
    "    print(\"its a pallendrome\")\n",
    "else:\n",
    "    print(\"not a pallendrome\")\n",
    "    \n",
    "    "
   ]
  },
  {
   "cell_type": "code",
   "execution_count": 17,
   "id": "b5b82ebd-2198-4fd3-be3f-ccc4a70feef9",
   "metadata": {},
   "outputs": [
    {
     "name": "stdout",
     "output_type": "stream",
     "text": [
      "1\n",
      "10403\n"
     ]
    }
   ],
   "source": [
    "#6\n",
    "gcd=0 \n",
    "a=101\n",
    "b=103\n",
    "rem=0\n",
    "greater=0\n",
    "smallest=0\n",
    "lcm=0\n",
    "x=a\n",
    "multi=a*b\n",
    "\n",
    "if(a>b):\n",
    "    greater=a\n",
    "    smallest=b\n",
    "else:\n",
    "    greater=b\n",
    "    smallest=a\n",
    "\n",
    "for i in range(1,x):\n",
    "    rem=greater % smallest\n",
    "    greater=smallest\n",
    "    smallest=rem\n",
    "    if(rem==0):\n",
    "      gcd=greater\n",
    "      break\n",
    "print(gcd)\n",
    "lcm=multi//gcd\n",
    "print(lcm)"
   ]
  },
  {
   "cell_type": "code",
   "execution_count": 115,
   "id": "ce237ba2-3b11-49a3-9fda-036cb7c90cbf",
   "metadata": {},
   "outputs": [
    {
     "name": "stdout",
     "output_type": "stream",
     "text": [
      "5040 "
     ]
    }
   ],
   "source": [
    "#7\n",
    "fact=1\n",
    "n=7\n",
    "for i in range(1,8):\n",
    "    fact=fact*i\n",
    "print(fact,end=' ')\n"
   ]
  },
  {
   "cell_type": "code",
   "execution_count": 2,
   "id": "6ef24e6c-a385-484c-92ce-6a36a7d1f955",
   "metadata": {},
   "outputs": [
    {
     "name": "stdout",
     "output_type": "stream",
     "text": [
      "maximum 101\n",
      "minium value 1\n"
     ]
    }
   ],
   "source": [
    "#8\n",
    "list1=[1,40,12,60,80,50,101,2]\n",
    "maxium=list1[0]\n",
    "for i in list1:\n",
    "    if (i>maxium):\n",
    "        maxium=i\n",
    "print(\"maximum\",maxium)\n",
    "\n",
    "minimum=list1[0]\n",
    "for i in list1:\n",
    "    if (i<minimum):\n",
    "        minimum=i\n",
    "print(\"minium value\",minimum)\n",
    "\n",
    "\n"
   ]
  },
  {
   "cell_type": "code",
   "execution_count": 8,
   "id": "9db672f9-d9a6-424f-9b7d-b2f9dd254f82",
   "metadata": {},
   "outputs": [
    {
     "name": "stdout",
     "output_type": "stream",
     "text": [
      "second maximum value 80\n"
     ]
    }
   ],
   "source": [
    "#8\n",
    "list1=[0,40,12,60,80,50,101,2]\n",
    "max1=0\n",
    "second=0\n",
    "for i in list1:\n",
    "    if i>max1:\n",
    "        second=max1\n",
    "        max1=i\n",
    "    elif max1!=i and i>second:\n",
    "        second=i\n",
    "print(\"second maximum value\",second)\n",
    "    "
   ]
  },
  {
   "cell_type": "code",
   "execution_count": 22,
   "id": "8b06ff3a-5f6a-4c47-97ad-08ebc8370041",
   "metadata": {},
   "outputs": [
    {
     "name": "stdout",
     "output_type": "stream",
     "text": [
      "[11, 12, 22, 25, 64]\n"
     ]
    }
   ],
   "source": [
    "mylist = [64, 25, 12, 22, 11]\n",
    "for i in range(0, len(mylist) - 1):\n",
    "    minimum=i\n",
    "    for j in range(i + 1, len(mylist)):\n",
    "        if (mylist[j]<mylist[minimum]):\n",
    "            minimum=j\n",
    "    mylist[i], mylist[minimum] = mylist[minimum], mylist[i]\n",
    "print(mylist)\n"
   ]
  },
  {
   "cell_type": "code",
   "execution_count": null,
   "id": "0d40aa6f-5a09-4aba-9a34-b3304b9cd61d",
   "metadata": {},
   "outputs": [],
   "source": []
  }
 ],
 "metadata": {
  "kernelspec": {
   "display_name": "Python 3 (ipykernel)",
   "language": "python",
   "name": "python3"
  },
  "language_info": {
   "codemirror_mode": {
    "name": "ipython",
    "version": 3
   },
   "file_extension": ".py",
   "mimetype": "text/x-python",
   "name": "python",
   "nbconvert_exporter": "python",
   "pygments_lexer": "ipython3",
   "version": "3.10.11"
  }
 },
 "nbformat": 4,
 "nbformat_minor": 5
}
