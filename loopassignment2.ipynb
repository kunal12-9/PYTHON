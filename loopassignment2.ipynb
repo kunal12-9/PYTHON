{
 "cells": [
  {
   "cell_type": "code",
   "execution_count": 5,
   "id": "87f952fa-f589-4c1d-a9f0-0a8700e85122",
   "metadata": {},
   "outputs": [
    {
     "name": "stdin",
     "output_type": "stream",
     "text": [
      "enter the number 10\n"
     ]
    },
    {
     "name": "stdout",
     "output_type": "stream",
     "text": [
      "1 2 3 4 5 6 7 8 9 10 "
     ]
    }
   ],
   "source": [
    "#1\n",
    "i=1\n",
    "n=int(input(\"enter the number\"))\n",
    "while(i<=n):\n",
    "    print(i,end=' ')\n",
    "    i=i+1"
   ]
  },
  {
   "cell_type": "code",
   "execution_count": 7,
   "id": "ffb3b7ef-0a29-4db7-b9c3-94767abb3476",
   "metadata": {},
   "outputs": [
    {
     "name": "stdin",
     "output_type": "stream",
     "text": [
      "enter the number 1\n"
     ]
    },
    {
     "name": "stdout",
     "output_type": "stream",
     "text": [
      "10 9 8 7 6 5 4 3 2 1 "
     ]
    }
   ],
   "source": [
    "#2\n",
    "i=10\n",
    "n=int(input(\"enter the number\"))\n",
    "while(i>=n):\n",
    "    print(i,end=' ')\n",
    "    i=i-1\n"
   ]
  },
  {
   "cell_type": "code",
   "execution_count": 5,
   "id": "13b96d7d-fbcd-4823-87e2-e16bb607e90f",
   "metadata": {},
   "outputs": [
    {
     "name": "stdout",
     "output_type": "stream",
     "text": [
      "a b c d e f g h i j k l m n o p q r s t u v w x y z "
     ]
    }
   ],
   "source": [
    "#3\n",
    "a=97\n",
    "while(a<123):\n",
    "    print(chr(a), end=' ')\n",
    "    a=a+1\n",
    "\n"
   ]
  },
  {
   "cell_type": "code",
   "execution_count": 11,
   "id": "761fcfad-082c-440f-98e7-d396e7a202fb",
   "metadata": {},
   "outputs": [
    {
     "name": "stdout",
     "output_type": "stream",
     "text": [
      "2 4 6 8 10 12 14 16 18 20 22 24 26 28 30 32 34 36 38 40 42 44 46 48 50 52 54 56 58 60 62 64 66 68 70 72 74 76 78 80 82 84 86 88 90 92 94 96 98 100 "
     ]
    }
   ],
   "source": [
    "#4\n",
    "i=1\n",
    "while(i<= 100):\n",
    "    if(i%2==0):\n",
    "        print(i,end=' ')\n",
    "    i=i+1"
   ]
  },
  {
   "cell_type": "code",
   "execution_count": 5,
   "id": "709e8a57-cc4c-420d-b2af-b7dc8e7b4845",
   "metadata": {},
   "outputs": [
    {
     "name": "stdin",
     "output_type": "stream",
     "text": [
      "enter the number 10\n"
     ]
    },
    {
     "name": "stdout",
     "output_type": "stream",
     "text": [
      "25\n"
     ]
    }
   ],
   "source": [
    "#5\n",
    "i=1\n",
    "sum=0\n",
    "n=int(input(\"enter the number\"))\n",
    "while(i<=n):\n",
    "    if(i%2!=0):\n",
    "        sum=sum+i\n",
    "    i=i+1\n",
    "print(sum)\n",
    "    "
   ]
  },
  {
   "cell_type": "code",
   "execution_count": 5,
   "id": "cf23c107-2b62-496b-9951-642203d77846",
   "metadata": {},
   "outputs": [
    {
     "name": "stdin",
     "output_type": "stream",
     "text": [
      "enter the number of digit 59656\n"
     ]
    },
    {
     "name": "stdout",
     "output_type": "stream",
     "text": [
      "5\n"
     ]
    }
   ],
   "source": [
    "#6\n",
    "i=1\n",
    "n=int(input(\"enter the number of digit\"))\n",
    "count=0\n",
    "while(n>0):\n",
    "    n=n//10\n",
    "    count=count+1\n",
    "print(count)\n",
    "    "
   ]
  },
  {
   "cell_type": "code",
   "execution_count": 11,
   "id": "d57e00a2-102f-4e06-a1df-fbed83c166e1",
   "metadata": {},
   "outputs": [
    {
     "name": "stdin",
     "output_type": "stream",
     "text": [
      "enter the number of digit 5486\n"
     ]
    },
    {
     "name": "stdout",
     "output_type": "stream",
     "text": [
      "23\n"
     ]
    }
   ],
   "source": [
    "#7\n",
    "i=1\n",
    "n=int(input(\"enter the number of digit\"))\n",
    "sum=0\n",
    "while(n>0):\n",
    "    rem=n%10\n",
    "    n=n//10\n",
    "    sum=sum+rem\n",
    "print(sum)\n"
   ]
  },
  {
   "cell_type": "code",
   "execution_count": 13,
   "id": "2f12d4b0-8126-4703-9d5d-dd343c7dda5c",
   "metadata": {},
   "outputs": [
    {
     "name": "stdin",
     "output_type": "stream",
     "text": [
      "Enter the digit of number:  5869\n"
     ]
    },
    {
     "name": "stdout",
     "output_type": "stream",
     "text": [
      "First value: 5 Last value: 9\n"
     ]
    }
   ],
   "source": [
    "#8\n",
    "n = int(input(\"Enter the digit of number: \"))\n",
    "lastvalue = n % 10\n",
    "firstvalue = 0\n",
    "while(n>=10):\n",
    "    firstvalue = n % 10\n",
    "    n=n// 10\n",
    "firstvalue=n\n",
    "print(\"First value:\", firstvalue, end=' ')\n",
    "print(\"Last value:\", lastvalue)\n"
   ]
  },
  {
   "cell_type": "code",
   "execution_count": 15,
   "id": "a45b7cf7-ed18-4b8a-85a9-87caa7b27a50",
   "metadata": {},
   "outputs": [
    {
     "name": "stdin",
     "output_type": "stream",
     "text": [
      "Enter the digit of number:  55989\n"
     ]
    },
    {
     "name": "stdout",
     "output_type": "stream",
     "text": [
      "14\n"
     ]
    }
   ],
   "source": [
    "#9\n",
    "n = int(input(\"Enter the digit of number: \"))\n",
    "lastvalue = n % 10\n",
    "firstvalue = 0\n",
    "while(n>=10):\n",
    "    firstvalue = n % 10\n",
    "    n=n// 10\n",
    "    firstvalue=n\n",
    "    sum=firstvalue+lastvalue\n",
    "print(sum)"
   ]
  },
  {
   "cell_type": "code",
   "execution_count": null,
   "id": "fd17bb84-4e69-4d8a-b493-27c44c7b3159",
   "metadata": {},
   "outputs": [],
   "source": [
    "\n",
    "\n",
    "n=int(input(\"enter the digit of number\"))\n",
    "sum=0\n",
    "while(n>0):\n",
    "    rem=n%10\n",
    "    n=n//10\n",
    "    sum=sum*10+rem\n",
    "    print(sum)\n",
    "    \n"
   ]
  }
 ],
 "metadata": {
  "kernelspec": {
   "display_name": "Python [conda env:base] *",
   "language": "python",
   "name": "conda-base-py"
  },
  "language_info": {
   "codemirror_mode": {
    "name": "ipython",
    "version": 3
   },
   "file_extension": ".py",
   "mimetype": "text/x-python",
   "name": "python",
   "nbconvert_exporter": "python",
   "pygments_lexer": "ipython3",
   "version": "3.12.7"
  }
 },
 "nbformat": 4,
 "nbformat_minor": 5
}
