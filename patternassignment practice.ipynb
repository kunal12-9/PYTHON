{
 "cells": [
  {
   "cell_type": "code",
   "execution_count": 124,
   "id": "5ef3945a-90e0-4443-9d6e-f18bca2d4887",
   "metadata": {},
   "outputs": [
    {
     "name": "stdout",
     "output_type": "stream",
     "text": [
      "*****\n",
      " *****\n",
      "  *****\n",
      "   *****\n"
     ]
    }
   ],
   "source": [
    "#1\n",
    "for i in range(1,5):\n",
    "    for s in range(1,i):\n",
    "        print(\" \",end=\"\")\n",
    "    for j in range(1,6):\n",
    "        print(\"*\",end=\"\")\n",
    "    print(\"\")"
   ]
  },
  {
   "cell_type": "code",
   "execution_count": 25,
   "id": "6dba19a2-f39a-4ac3-b340-67ab0cc3e0b5",
   "metadata": {},
   "outputs": [
    {
     "name": "stdout",
     "output_type": "stream",
     "text": [
      "******\n",
      "*    *\n",
      "*    *\n",
      "******\n"
     ]
    }
   ],
   "source": [
    "#2\n",
    "for i in range(1,5):\n",
    "    for j in range(1,7):\n",
    "        if(i==1 or i==4 or j==1 or j==6):\n",
    "            print(\"*\",end=\"\")\n",
    "        else:\n",
    "            print(\" \",end=\"\")\n",
    "    print(\"\")"
   ]
  },
  {
   "cell_type": "code",
   "execution_count": 145,
   "id": "6a709451-1a86-4bda-8966-97f21aa4559b",
   "metadata": {},
   "outputs": [
    {
     "name": "stdout",
     "output_type": "stream",
     "text": [
      "A\n",
      "AB\n",
      "ABC\n",
      "ABCD\n",
      "ABCDE\n"
     ]
    }
   ],
   "source": [
    "#3\n",
    "for i in range(1,6):\n",
    "    n=65\n",
    "    for j in range(1,i+1):\n",
    "        print(chr(n),end=\"\")\n",
    "        n+=1\n",
    "    print(\"\")"
   ]
  },
  {
   "cell_type": "code",
   "execution_count": 64,
   "id": "2ed6c91b-1a5f-4e0d-9120-562beee73c0a",
   "metadata": {},
   "outputs": [
    {
     "name": "stdout",
     "output_type": "stream",
     "text": [
      "A\n",
      "BB\n",
      "CCC\n",
      "DDDD\n",
      "EEEEE\n"
     ]
    }
   ],
   "source": [
    "#4\n",
    "n=65\n",
    "for i in range(1,6):\n",
    "    for j in range(1,i+1):\n",
    "        print(chr(n),end=\"\")\n",
    "    n+=1\n",
    "    print(\"\")"
   ]
  },
  {
   "cell_type": "code",
   "execution_count": 159,
   "id": "703e2a84-5231-4fed-88b4-79c0a1f30c03",
   "metadata": {},
   "outputs": [
    {
     "name": "stdout",
     "output_type": "stream",
     "text": [
      "        1 \n",
      "      1 2 \n",
      "    1 2 3 \n",
      "  1 2 3 4 \n",
      "1 2 3 4 5 \n"
     ]
    }
   ],
   "source": [
    "6.a\n",
    "for i in range(1,6):\n",
    "    for s in range(i,5):\n",
    "        print(\" \",end=\" \")\n",
    "    for j in range(1,i+1):\n",
    "        print(j,end=\" \")\n",
    "    print(\"\")"
   ]
  },
  {
   "cell_type": "code",
   "execution_count": 163,
   "id": "c2ca9f7e-33d1-4dc7-a0bb-63017490f862",
   "metadata": {},
   "outputs": [
    {
     "name": "stdout",
     "output_type": "stream",
     "text": [
      "        * \n",
      "      * * \n",
      "    * * * \n",
      "  * * * * \n",
      "* * * * * \n"
     ]
    }
   ],
   "source": [
    "#6.b\n",
    "for i in range(1,6):\n",
    "    for s in range(i,5):\n",
    "        print(\" \",end=\" \")\n",
    "    for j in range(1,i+1):\n",
    "        print(\"*\",end=\" \")\n",
    "    print(\"\")"
   ]
  },
  {
   "cell_type": "code",
   "execution_count": 180,
   "id": "7c218521-3c8f-4bd0-b04d-018d09dca3de",
   "metadata": {},
   "outputs": [
    {
     "name": "stdout",
     "output_type": "stream",
     "text": [
      "1 2 3 4 5 \n",
      "  1 2 3 4 \n",
      "    1 2 3 \n",
      "      1 2 \n",
      "        1 \n"
     ]
    }
   ],
   "source": [
    "#7.a\n",
    "for i in range(6,1,-1):\n",
    "    for s in range(6,i,-1):\n",
    "        print(\" \",end=\" \")\n",
    "    for j in range(1,i):\n",
    "       print(j,end=' ')\n",
    "    print('')\n",
    "    "
   ]
  },
  {
   "cell_type": "code",
   "execution_count": 1,
   "id": "9d5ca417-6e51-4cf5-b07f-b09803f5b6d4",
   "metadata": {},
   "outputs": [
    {
     "name": "stdout",
     "output_type": "stream",
     "text": [
      "A B C D E \n",
      "  A B C D \n",
      "    A B C \n",
      "      A B \n",
      "        A \n"
     ]
    }
   ],
   "source": [
    "#7.b\n",
    "for i in range(6,1,-1):\n",
    "    n=65\n",
    "    for s in range(6,i,-1):\n",
    "        print(\" \",end=\" \")\n",
    "    for j in range(1,i):\n",
    "       print(chr(n),end=' ')\n",
    "       n+=1\n",
    "    print('')\n",
    "    "
   ]
  },
  {
   "cell_type": "code",
   "execution_count": 225,
   "id": "3f5dc9d3-db52-43b1-869d-e24a657f5988",
   "metadata": {},
   "outputs": [
    {
     "name": "stdout",
     "output_type": "stream",
     "text": [
      "    *****\n",
      "   *****\n",
      "  *****\n",
      " *****\n",
      "*****\n"
     ]
    }
   ],
   "source": [
    "#8\n",
    "for i in range(1,6):\n",
    "    for s in range(i,5):\n",
    "        print(\" \",end=\"\")\n",
    "    for j in range(1,6):\n",
    "        print(\"*\",end=\"\")\n",
    "    print(\"\")"
   ]
  },
  {
   "cell_type": "code",
   "execution_count": 220,
   "id": "7f3081f2-0f0b-4c43-bfda-9ab18efd320c",
   "metadata": {},
   "outputs": [
    {
     "name": "stdout",
     "output_type": "stream",
     "text": [
      "    12345\n",
      "   12345\n",
      "  12345\n",
      " 12345\n",
      "12345\n"
     ]
    }
   ],
   "source": [
    "#9\n",
    "for i in range(1,6):\n",
    "    for s in range(i,5):\n",
    "        print(\" \",end=\"\")\n",
    "    for j in range(1,6):\n",
    "        print(j,end=\"\")\n",
    "    print(\"\")"
   ]
  },
  {
   "cell_type": "code",
   "execution_count": 3,
   "id": "05aa0612-ba34-4811-9818-494843e141ef",
   "metadata": {},
   "outputs": [
    {
     "name": "stdout",
     "output_type": "stream",
     "text": [
      "    ABCDE\n",
      "   ABCDE\n",
      "  ABCDE\n",
      " ABCDE\n",
      "ABCDE\n"
     ]
    }
   ],
   "source": [
    "#10\n",
    "for i in range(1,6):\n",
    "    n=65\n",
    "    for s in range(i,5):\n",
    "        print(\" \",end=\"\")\n",
    "    for j in range(1,6):\n",
    "        print(chr(n),end=\"\")\n",
    "        n+=1\n",
    "    print(\"\")"
   ]
  },
  {
   "cell_type": "code",
   "execution_count": null,
   "id": "98da10aa-3d1a-4562-ab59-7af98f43991a",
   "metadata": {},
   "outputs": [],
   "source": []
  }
 ],
 "metadata": {
  "kernelspec": {
   "display_name": "Python [conda env:base] *",
   "language": "python",
   "name": "conda-base-py"
  },
  "language_info": {
   "codemirror_mode": {
    "name": "ipython",
    "version": 3
   },
   "file_extension": ".py",
   "mimetype": "text/x-python",
   "name": "python",
   "nbconvert_exporter": "python",
   "pygments_lexer": "ipython3",
   "version": "3.12.7"
  }
 },
 "nbformat": 4,
 "nbformat_minor": 5
}
