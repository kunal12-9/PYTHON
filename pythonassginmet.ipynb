{
 "cells": [
  {
   "cell_type": "code",
   "execution_count": 61,
   "id": "adf4f43d-b330-40c9-a268-7a8196a0bc8f",
   "metadata": {},
   "outputs": [
    {
     "name": "stdout",
     "output_type": "stream",
     "text": [
      "[5, 6, 7, 1, 2, 3, 4]\n"
     ]
    }
   ],
   "source": [
    "#leet code question\n",
    "nums = [1,2,3,4,5,6,7]\n",
    "k = 3\n",
    "si=len(nums)\n",
    "myarr=[0]*si #0 0 0 0 0 0 0\n",
    "for i in range(0,len(nums)):\n",
    "    pos=(i+k)%si\n",
    "    myarr[pos]=nums[i]\n",
    "nums[:]=myarr\n",
    "print(nums)"
   ]
  },
  {
   "cell_type": "code",
   "execution_count": 53,
   "id": "a8b9c1d8-6c87-418e-827f-d4fcc91cb997",
   "metadata": {},
   "outputs": [
    {
     "name": "stdout",
     "output_type": "stream",
     "text": [
      " \n",
      " \n",
      " \n",
      "4 5\n",
      " \n",
      " \n",
      " \n"
     ]
    }
   ],
   "source": [
    "#leet question\n",
    "mylist=[0,11,2,4,6,5]\n",
    "target=9\n",
    "for index in range(0,len(mylist)):\n",
    "\n",
    "    for j in range(index+1,len(mylist)):\n",
    "        if(mylist[index] + mylist[j] == target):\n",
    "            print(mylist[index], mylist[j])\n",
    "        \n",
    "    print(\" \")"
   ]
  },
  {
   "cell_type": "code",
   "execution_count": 45,
   "id": "72f170b1-c0a5-4ea2-9bac-1dc0841fd830",
   "metadata": {},
   "outputs": [
    {
     "name": "stdout",
     "output_type": "stream",
     "text": [
      "2 5\n",
      "6 6\n",
      "5 3\n",
      "9 8\n"
     ]
    }
   ],
   "source": [
    "#zipfunctions\n",
    "\n",
    "li1=[2,6,5,9]\n",
    "li2=[5,6,3,8]\n",
    "\n",
    "for a,b in zip(li1,li2):\n",
    "    print(a,b)"
   ]
  },
  {
   "cell_type": "code",
   "execution_count": 32,
   "id": "4d5ddcea-bd87-4671-93f2-514f9ae5efb8",
   "metadata": {},
   "outputs": [
    {
     "name": "stdout",
     "output_type": "stream",
     "text": [
      "name kunal\n",
      "subject maths\n"
     ]
    }
   ],
   "source": [
    "\n",
    "li1=[\"name\",\"subject\"]\n",
    "li2=[\"kunal\",\"maths\"]\n",
    "for a,b in zip(li1,li2):\n",
    "    print(a,b)"
   ]
  },
  {
   "cell_type": "code",
   "execution_count": 35,
   "id": "85d75249-73f6-4457-808e-0b721318c60f",
   "metadata": {},
   "outputs": [
    {
     "name": "stdout",
     "output_type": "stream",
     "text": [
      "[4, 5, 6, 7, 1, 2, 3]\n"
     ]
    }
   ],
   "source": [
    "nums=[1,2,3,4,5,6,7]\n",
    "k=4\n",
    "si=len(nums)\n",
    "myarry=[0] * si\n",
    "for i in range(0, len(nums)):\n",
    "    myarry[(i+k)%len(nums)]=nums[i]\n",
    "\n",
    "nums=myarry\n",
    "\n",
    "print(nums)\n"
   ]
  },
  {
   "cell_type": "code",
   "execution_count": 24,
   "id": "e4f79ae4-5a3f-4fe6-bed2-700dc083f2bf",
   "metadata": {},
   "outputs": [
    {
     "name": "stdout",
     "output_type": "stream",
     "text": [
      "index pos 0 value 2\n",
      "index pos 1 value 6\n",
      "index pos 2 value 5\n",
      "index pos 3 value 9\n"
     ]
    }
   ],
   "source": [
    "#inumerate \n",
    "li1=[2,6,5,9]\n",
    "for a,b in enumerate(li1):\n",
    "    print(\"index pos\",a,\"value\",b)"
   ]
  },
  {
   "cell_type": "code",
   "execution_count": 27,
   "id": "f591b740-ce79-4595-b163-1e7ec6c6f7b1",
   "metadata": {},
   "outputs": [
    {
     "name": "stdout",
     "output_type": "stream",
     "text": [
      "0 2\n",
      "1 6\n",
      "2 5\n",
      "3 9\n"
     ]
    }
   ],
   "source": [
    "#without inumerate index\n",
    "li1=[2,6,5,9]\n",
    "c=0\n",
    "for i in li1:\n",
    "    print(c,i)\n",
    "    c=c+1"
   ]
  }
 ],
 "metadata": {
  "kernelspec": {
   "display_name": "Python 3 (ipykernel)",
   "language": "python",
   "name": "python3"
  },
  "language_info": {
   "codemirror_mode": {
    "name": "ipython",
    "version": 3
   },
   "file_extension": ".py",
   "mimetype": "text/x-python",
   "name": "python",
   "nbconvert_exporter": "python",
   "pygments_lexer": "ipython3",
   "version": "3.10.11"
  }
 },
 "nbformat": 4,
 "nbformat_minor": 5
}
